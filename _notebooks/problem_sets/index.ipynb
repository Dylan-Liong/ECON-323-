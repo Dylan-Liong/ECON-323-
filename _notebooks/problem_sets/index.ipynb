{
 "cells": [
  {
   "cell_type": "markdown",
   "id": "20bf51f7",
   "metadata": {},
   "source": [
    "# Problem Sets\n",
    "\n",
    "Here are problem sets to check your understanding of the course material."
   ]
  }
 ],
 "metadata": {
  "date": 1623029524.7352374,
  "filename": "index.md",
  "kernelspec": {
   "display_name": "Python",
   "language": "python3",
   "name": "python3"
  },
  "title": "Problem Sets"
 },
 "nbformat": 4,
 "nbformat_minor": 5
}