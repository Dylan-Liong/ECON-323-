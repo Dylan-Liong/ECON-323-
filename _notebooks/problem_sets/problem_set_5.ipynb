{
 "cells": [
  {
   "cell_type": "markdown",
   "id": "eb1e4679",
   "metadata": {},
   "source": [
    "# Problem Set 5\n",
    "\n",
    "See [Optimization](https://datascience.quantecon.org/../scientific/optimization.html), [Introduction](https://datascience.quantecon.org/../pandas/intro.html), and [Basic Functionality](https://datascience.quantecon.org/../pandas/basics.html)"
   ]
  },
  {
   "cell_type": "code",
   "execution_count": null,
   "id": "163e9a6d",
   "metadata": {
    "hide-output": false
   },
   "outputs": [],
   "source": [
    "import pandas as pd\n",
    "import numpy as np\n",
    "\n",
    "%matplotlib inline\n",
    "# activate plot theme\n",
    "import qeds\n",
    "qeds.themes.mpl_style();"
   ]
  },
  {
   "cell_type": "markdown",
   "id": "151eb630",
   "metadata": {},
   "source": [
    "## Setup for Question 1-5\n",
    "\n",
    "Load data from the [Basic Functionality](https://datascience.quantecon.org/../pandas/basics.html) lecture."
   ]
  },
  {
   "cell_type": "code",
   "execution_count": null,
   "id": "4eece700",
   "metadata": {
    "hide-output": false
   },
   "outputs": [],
   "source": [
    "url = \"https://raw.githubusercontent.com/QuantEcon/lecture-datascience.myst/main/lectures/pandas/state_unemployment.csv\"\n",
    "unemp_raw = pd.read_csv(url, parse_dates=[\"Date\"])"
   ]
  },
  {
   "cell_type": "markdown",
   "id": "00ac5754",
   "metadata": {},
   "source": [
    "And do the same manipulation as in the pandas basics lecture."
   ]
  },
  {
   "cell_type": "code",
   "execution_count": null,
   "id": "2c7a643b",
   "metadata": {
    "hide-output": false
   },
   "outputs": [],
   "source": [
    "states = [\n",
    "    \"Arizona\", \"California\", \"Florida\", \"Illinois\",\n",
    "    \"Michigan\", \"New York\", \"Texas\"\n",
    "]\n",
    "\n",
    "unemp = (\n",
    "    unemp_raw\n",
    "    .reset_index()\n",
    "    .pivot_table(index=\"Date\", columns=\"state\", values=\"UnemploymentRate\")\n",
    "    [states]\n",
    ")"
   ]
  },
  {
   "cell_type": "markdown",
   "id": "d62f3f92",
   "metadata": {},
   "source": [
    "## Question 1\n",
    "\n",
    "At each date, what is the minimum unemployment rate across all states\n",
    "in our sample?"
   ]
  },
  {
   "cell_type": "code",
   "execution_count": null,
   "id": "1bac0d1f",
   "metadata": {
    "hide-output": false
   },
   "outputs": [],
   "source": [
    "# Your code here"
   ]
  },
  {
   "cell_type": "markdown",
   "id": "18f5dda5",
   "metadata": {},
   "source": [
    "What was the median unemployment rate in each state?"
   ]
  },
  {
   "cell_type": "code",
   "execution_count": null,
   "id": "fedb28fa",
   "metadata": {
    "hide-output": false
   },
   "outputs": [],
   "source": [
    "# Your code here"
   ]
  },
  {
   "cell_type": "markdown",
   "id": "8d222f7d",
   "metadata": {},
   "source": [
    "What was the maximum unemployment rate across the states in our\n",
    "sample? In what state did it happen? In what month/year was this\n",
    "achieved?\n",
    "\n",
    "- Hint 1: What Python type (not `dtype`) is returned by a reduction?  \n",
    "- Hint 2: Read documentation for the method `idxmax`.  "
   ]
  },
  {
   "cell_type": "code",
   "execution_count": null,
   "id": "10fdef19",
   "metadata": {
    "hide-output": false
   },
   "outputs": [],
   "source": [
    "# Your code here"
   ]
  },
  {
   "cell_type": "markdown",
   "id": "742cab5d",
   "metadata": {},
   "source": [
    "Classify each state as high or low volatility based on whether the\n",
    "variance of their unemployment is above or below 4."
   ]
  },
  {
   "cell_type": "code",
   "execution_count": null,
   "id": "de305717",
   "metadata": {
    "hide-output": false
   },
   "outputs": [],
   "source": [
    "# Your code here"
   ]
  },
  {
   "cell_type": "markdown",
   "id": "00ae5f25",
   "metadata": {},
   "source": [
    "## Question 2\n",
    "\n",
    "Imagine that we want to determine whether unemployment was high (> 6.5),\n",
    "medium (4.5 < x <= 6.5), or low (<= 4.5) for each state and each month.\n",
    "\n",
    "Write a Python function that takes a single number as an input and\n",
    "outputs a single string which notes whether that number is high, medium, or low."
   ]
  },
  {
   "cell_type": "code",
   "execution_count": null,
   "id": "eaa91b08",
   "metadata": {
    "hide-output": false
   },
   "outputs": [],
   "source": [
    "# Your code here"
   ]
  },
  {
   "cell_type": "markdown",
   "id": "d3332ba8",
   "metadata": {},
   "source": [
    "Pass your function to either `apply` or `applymap` and save the\n",
    "result in a new DataFrame called `unemp_bins`."
   ]
  },
  {
   "cell_type": "code",
   "execution_count": null,
   "id": "85d96ba6",
   "metadata": {
    "hide-output": false
   },
   "outputs": [],
   "source": [
    "# Your code here"
   ]
  },
  {
   "cell_type": "markdown",
   "id": "bc1174e2",
   "metadata": {},
   "source": [
    "## Question 3\n",
    "\n",
    "This exercise has multiple parts:\n",
    "\n",
    "Use another transformation on `unemp_bins` to count how many\n",
    "times each state had each of the three classifications.\n",
    "\n",
    "- Hint 1: Will you need to use `apply` or `applymap` for transformation?  \n",
    "- Hint 2: Try googling “pandas count unique value” or something similar to find the proper transformation.  "
   ]
  },
  {
   "cell_type": "code",
   "execution_count": null,
   "id": "47fe3c13",
   "metadata": {
    "hide-output": false
   },
   "outputs": [],
   "source": [
    "# Your code here"
   ]
  },
  {
   "cell_type": "markdown",
   "id": "3fe370bd",
   "metadata": {},
   "source": [
    "Construct a horizontal bar chart to detail the occurrences of each level.\n",
    "Use one bar per state and classification for 21 total bars."
   ]
  },
  {
   "cell_type": "code",
   "execution_count": null,
   "id": "a6340efa",
   "metadata": {
    "hide-output": false
   },
   "outputs": [],
   "source": [
    "# Your code here"
   ]
  },
  {
   "cell_type": "markdown",
   "id": "52b031e0",
   "metadata": {},
   "source": [
    "## Question 4\n",
    "\n",
    "Repeat Question 3, but count how many states had\n",
    "each classification in each month. Which month had the most states\n",
    "with high unemployment? What about medium and low?\n",
    "\n",
    "Part 1: Write a Python function to classify unemployment levels"
   ]
  },
  {
   "cell_type": "code",
   "execution_count": null,
   "id": "86ef7d27",
   "metadata": {
    "hide-output": false
   },
   "outputs": [],
   "source": [
    "# Your code here"
   ]
  },
  {
   "cell_type": "markdown",
   "id": "e7009e80",
   "metadata": {},
   "source": [
    "Part 2: Decide whether you should use `.apply` or `.applymap`.\n",
    "\n",
    "Part 3: Pass your function from part 1 to the method you determined in Part 2."
   ]
  },
  {
   "cell_type": "code",
   "execution_count": null,
   "id": "7b28fdd9",
   "metadata": {
    "hide-output": false
   },
   "outputs": [],
   "source": [
    "unemp_bins = unemp#replace this comment with your code!!"
   ]
  },
  {
   "cell_type": "markdown",
   "id": "1424077f",
   "metadata": {},
   "source": [
    "Part 4: Count the number of times each state had each classification."
   ]
  },
  {
   "cell_type": "code",
   "execution_count": null,
   "id": "82c264ac",
   "metadata": {
    "hide-output": false
   },
   "outputs": [],
   "source": [
    "## then make a horizontal bar chart here"
   ]
  },
  {
   "cell_type": "markdown",
   "id": "5d25b7ed",
   "metadata": {},
   "source": [
    "Part 5: Apply the same transformation from Part 4 to each date instead of to each state."
   ]
  },
  {
   "cell_type": "code",
   "execution_count": null,
   "id": "91d67d93",
   "metadata": {
    "hide-output": false
   },
   "outputs": [],
   "source": [
    "# Your code here"
   ]
  },
  {
   "cell_type": "markdown",
   "id": "7f491fa4",
   "metadata": {},
   "source": [
    "## Question 5\n",
    "\n",
    "For a single state of your choice, determine the mean\n",
    "unemployment during “Low”, “Medium”, and “High” unemployment times.\n",
    "(recall your `unemp_bins` DataFrame from the exercise above)"
   ]
  },
  {
   "cell_type": "code",
   "execution_count": null,
   "id": "5e130592",
   "metadata": {
    "hide-output": false
   },
   "outputs": [],
   "source": [
    "# Your code here"
   ]
  },
  {
   "cell_type": "markdown",
   "id": "70537614",
   "metadata": {},
   "source": [
    "Which states in our sample performs the best during “bad times?” To\n",
    "determine this, compute each state’s mean unemployment in\n",
    "months where the mean unemployment rate is greater than 7."
   ]
  },
  {
   "cell_type": "code",
   "execution_count": null,
   "id": "d0662cdd",
   "metadata": {
    "hide-output": false
   },
   "outputs": [],
   "source": [
    "# Your code here"
   ]
  }
 ],
 "metadata": {
  "date": 1623213437.4986165,
  "filename": "problem_set_5.md",
  "kernelspec": {
   "display_name": "Python",
   "language": "python3",
   "name": "python3"
  },
  "title": "Problem Set 5"
 },
 "nbformat": 4,
 "nbformat_minor": 5
}