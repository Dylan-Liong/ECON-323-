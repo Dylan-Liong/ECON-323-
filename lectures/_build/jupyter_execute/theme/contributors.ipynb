{
 "cells": [
  {
   "cell_type": "markdown",
   "metadata": {},
   "source": [
    "# Contributors:\n",
    "\n",
    "This project would not have been possible without contributions from the people listed \n",
    "on this page. They were involved in authoring/editing material, designing the website, \n",
    "and providing technological support. We are grateful to each of these individuals for \n",
    "their contributions.\n",
    "\n",
    "- [Quentin Batista](https://github.com/QBatista)\n",
    "  - Becker Friedman Institute\n",
    "\n",
    "- [Kim Ruhl](http://kimjruhl.com/)\n",
    "  - UW\n",
    "\n",
    "- [Thomas Sargent](http://www.tomsargent.com/)\n",
    "  - NYU\n",
    "\n",
    "- [Paul Schrimpf](https://economics.ubc.ca/faculty-and-staff/paul-schrimpf/)\n",
    "  - UBC\n",
    "\n",
    "- [Arnav Sood](https://arnavsood.com)\n",
    "  - UBC\n",
    "\n",
    "- [Andrij Stachurski](https://drdrij.com/)\n",
    "  - Web Consultant\n",
    "\n",
    "- [John Stachurski](http://johnstachurski.net)\n",
    "  - ANU\n",
    "\n",
    "- [Natasha Watkins](https://github.com/natashawatkins)\n",
    "  - UCLA\n",
    "\n",
    "- [Michael Waugh](http://www.waugheconomics.com/)\n",
    "  - NYU\n",
    "\n",
    "- [Peifan Wu](https://peifanwu.weebly.com)\n",
    "  - UBC"
   ]
  }
 ],
 "metadata": {
  "jupytext": {
   "text_representation": {
    "extension": ".md",
    "format_name": "myst"
   }
  },
  "kernelspec": {
   "display_name": "Python 3",
   "language": "python",
   "name": "python3"
  },
  "language_info": {
   "codemirror_mode": {
    "name": "ipython",
    "version": 3
   },
   "file_extension": ".py",
   "mimetype": "text/x-python",
   "name": "python",
   "nbconvert_exporter": "python",
   "pygments_lexer": "ipython3",
   "version": "3.8.3"
  },
  "source_map": [
   10
  ]
 },
 "nbformat": 4,
 "nbformat_minor": 4
}