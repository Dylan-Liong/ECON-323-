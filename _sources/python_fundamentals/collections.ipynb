{
 "cells": [
  {
   "cell_type": "markdown",
   "id": "c2a06de7",
   "metadata": {},
   "source": [
    "# Collections\n",
    "\n",
    "**Prerequisites**\n",
    "\n",
    "- {doc}`Core data types <basics>`\n",
    "\n",
    "**Outcomes**\n",
    "\n",
    "- Ordered Collections\n",
    "    - Know what a list is and a tuple is\n",
    "    - Know how to tell a list from a tuple\n",
    "    - Understand the `range`, `zip` and `enumerate` functions\n",
    "    - Be able to use common list methods like `append`, `sort`,\n",
    "      and `reverse`\n",
    "- Associative Collections\n",
    "    - Understand what a `dict` is\n",
    "    - Know the distinction between a dicts keys and values\n",
    "    - Understand when `dict`s are useful\n",
    "    - Be familiar with common `dict` methods\n",
    "- Sets  (optional)\n",
    "    - Know what a set is\n",
    "    - Understand how a set differs from a list and a tuple\n",
    "    - Know when to use a set vs a list or a tuple\n",
    "\n",
    "\n",
    "\n",
    "## Ordered Collections\n",
    "\n",
    "### Lists\n",
    "\n",
    "A Python list is an ordered collection of items.\n",
    "\n",
    "We can create lists using the following syntax\n",
    "\n",
    "```{code-block} python\n",
    "[item1, item2, ...,  itemN]\n",
    "```\n",
    "\n",
    "where the `...` represents any number of additional items.\n",
    "\n",
    "Each item can be of any type.\n",
    "\n",
    "Let's create some lists."
   ]
  },
  {
   "cell_type": "code",
   "execution_count": null,
   "id": "f6b34a89",
   "metadata": {},
   "outputs": [],
   "source": [
    "# created, but not assigned to a variable\n",
    "[2.0, 9.1, 12.5]"
   ]
  },
  {
   "cell_type": "code",
   "execution_count": null,
   "id": "c205f4ba",
   "metadata": {},
   "outputs": [],
   "source": [
    "# stored as the variable `x`\n",
    "x = [2.0, 9.1, 12.5]\n",
    "print(\"x has type\", type(x))\n",
    "x"
   ]
  },
  {
   "cell_type": "markdown",
   "id": "853905fd",
   "metadata": {},
   "source": [
    "#### What Can We Do with Lists?\n",
    "\n",
    "We can access items in a list called `mylist` using `mylist[N]`\n",
    "where `N` is an integer.\n",
    "\n",
    "Note: Anytime that we use the syntax `x[i]` we are doing what is\n",
    "called indexing -- it means that we are selecting a particular element\n",
    "of a *collection* `x`."
   ]
  },
  {
   "cell_type": "code",
   "execution_count": null,
   "id": "a0becf80",
   "metadata": {},
   "outputs": [],
   "source": [
    "x[1]"
   ]
  },
  {
   "cell_type": "markdown",
   "id": "29b8026e",
   "metadata": {},
   "source": [
    "Wait? Why did `x[1]` return `9.1` when the first element in x is\n",
    "actually `2.0`?\n",
    "\n",
    "This happened because Python starts counting at zero!\n",
    "\n",
    "Lets repeat that one more time for emphasis **Python starts counting at zero**!\n",
    "\n",
    "To access the first element of x we must use `x[0]`:"
   ]
  },
  {
   "cell_type": "code",
   "execution_count": null,
   "id": "aa2d3053",
   "metadata": {},
   "outputs": [],
   "source": [
    "x[0]"
   ]
  },
  {
   "cell_type": "markdown",
   "id": "79f4bf6e",
   "metadata": {},
   "source": [
    "We can also determine how many items are in a list using the `len` function."
   ]
  },
  {
   "cell_type": "code",
   "execution_count": null,
   "id": "51b4aba7",
   "metadata": {},
   "outputs": [],
   "source": [
    "len(x)"
   ]
  },
  {
   "cell_type": "markdown",
   "id": "9e154b82",
   "metadata": {},
   "source": [
    "What happens if we try to index with a number higher than the number of\n",
    "items in a list?"
   ]
  },
  {
   "cell_type": "code",
   "execution_count": null,
   "id": "8b0fea5f",
   "metadata": {},
   "outputs": [],
   "source": [
    "# uncomment the line below and run\n",
    "# x[4]"
   ]
  },
  {
   "cell_type": "markdown",
   "id": "5c910938",
   "metadata": {},
   "source": [
    "We can check if a list contains an element using the `in` keyword."
   ]
  },
  {
   "cell_type": "code",
   "execution_count": null,
   "id": "088038fd",
   "metadata": {},
   "outputs": [],
   "source": [
    "2.0 in x"
   ]
  },
  {
   "cell_type": "code",
   "execution_count": null,
   "id": "a18d6f61",
   "metadata": {},
   "outputs": [],
   "source": [
    "1.5 in x"
   ]
  },
  {
   "cell_type": "markdown",
   "id": "8491b507",
   "metadata": {},
   "source": [
    "For our list `x`, other common operations we might want to do are..."
   ]
  },
  {
   "cell_type": "code",
   "execution_count": null,
   "id": "3c0ea470",
   "metadata": {},
   "outputs": [],
   "source": [
    "x.reverse()\n",
    "x"
   ]
  },
  {
   "cell_type": "code",
   "execution_count": null,
   "id": "5c4f5a70",
   "metadata": {},
   "outputs": [],
   "source": [
    "number_list = [10, 25, 42, 1.0]\n",
    "print(number_list)\n",
    "number_list.sort()\n",
    "print(number_list)"
   ]
  },
  {
   "cell_type": "markdown",
   "id": "4d261cce",
   "metadata": {},
   "source": [
    "Note that in order to `sort`, we had to have all elements in our list\n",
    "be numbers (`int` and `float`), more on this {ref}`below <inhomogenous_lists>`.\n",
    "\n",
    "We could actually do the same with a list of strings. In this case, `sort`\n",
    "will put the items in alphabetical order."
   ]
  },
  {
   "cell_type": "code",
   "execution_count": null,
   "id": "a7a3a874",
   "metadata": {},
   "outputs": [],
   "source": [
    "str_list = [\"NY\", \"AZ\", \"TX\"]\n",
    "print(str_list)\n",
    "str_list.sort()\n",
    "print(str_list)"
   ]
  },
  {
   "cell_type": "markdown",
   "id": "d8c7959f",
   "metadata": {},
   "source": [
    "The `append` method adds an element to the end of existing list."
   ]
  },
  {
   "cell_type": "code",
   "execution_count": null,
   "id": "ea70b28f",
   "metadata": {},
   "outputs": [],
   "source": [
    "num_list = [10, 25, 42, 8]\n",
    "print(num_list)\n",
    "num_list.append(10)\n",
    "print(num_list)"
   ]
  },
  {
   "cell_type": "markdown",
   "id": "abab6adf",
   "metadata": {},
   "source": [
    "However, if you call `append` with a list, it adds a `list` to the end,\n",
    "rather than the numbers in that list."
   ]
  },
  {
   "cell_type": "code",
   "execution_count": null,
   "id": "0b373cdd",
   "metadata": {},
   "outputs": [],
   "source": [
    "num_list = [10, 25, 42, 8]\n",
    "print(num_list)\n",
    "num_list.append([20, 4])\n",
    "print(num_list)"
   ]
  },
  {
   "cell_type": "markdown",
   "id": "304320f2",
   "metadata": {},
   "source": [
    "To combine the lists instead..."
   ]
  },
  {
   "cell_type": "code",
   "execution_count": null,
   "id": "745f60ab",
   "metadata": {},
   "outputs": [],
   "source": [
    "num_list = [10, 25, 42, 8]\n",
    "print(num_list)\n",
    "num_list.extend([20, 4])\n",
    "print(num_list)"
   ]
  },
  {
   "cell_type": "markdown",
   "id": "d3c2da1a",
   "metadata": {},
   "source": [
    "````{admonition} Exercise\n",
    ":name: dir2-2-1\n",
    "\n",
    "See exercise 1 in the {ref}`exercise list <ex2-2>`.\n",
    "````\n",
    "\n",
    "(inhomogenous_lists)=\n",
    "### Lists of Different Types\n",
    "\n",
    "While most examples above have all used a `list` with\n",
    "a single type of variable, this is not required.\n",
    "\n",
    "Let's carefully make a small change to the first example: replace `2.0` with `2`"
   ]
  },
  {
   "cell_type": "code",
   "execution_count": null,
   "id": "ad48ca4f",
   "metadata": {},
   "outputs": [],
   "source": [
    "x = [2, 9.1, 12.5]"
   ]
  },
  {
   "cell_type": "markdown",
   "id": "13801374",
   "metadata": {},
   "source": [
    "This behavior is identical for many operations you might\n",
    "apply to a list."
   ]
  },
  {
   "cell_type": "code",
   "execution_count": null,
   "id": "cc9bd9f3",
   "metadata": {},
   "outputs": [],
   "source": [
    "import numpy as np\n",
    "x = [2, 9.1, 12.5]\n",
    "np.mean(x) == sum(x)/len(x)"
   ]
  },
  {
   "cell_type": "markdown",
   "id": "99816ec1",
   "metadata": {},
   "source": [
    "Here we have also introduced a new {ref}`module <modules>`,\n",
    "{doc}`Numpy <../scientific/index>`, which provides many functions\n",
    "for working with numeric data.\n",
    "\n",
    "Taking this further, we can put completely different types of elements\n",
    "inside of a list."
   ]
  },
  {
   "cell_type": "code",
   "execution_count": null,
   "id": "bc1dccdf",
   "metadata": {},
   "outputs": [],
   "source": [
    "# stored as the variable `x`\n",
    "x = [2, \"hello\", 3.0]\n",
    "print(\"x has type\", type(x))\n",
    "x"
   ]
  },
  {
   "cell_type": "markdown",
   "id": "1ec88b05",
   "metadata": {},
   "source": [
    "To see the types of individual elements in the list:"
   ]
  },
  {
   "cell_type": "code",
   "execution_count": null,
   "id": "7220a711",
   "metadata": {},
   "outputs": [],
   "source": [
    "print(f\"type(x[0]) = {type(x[0])}, type(x[0]) = {type(x[1])}, type(x[2]) = {type(x[2])}\")"
   ]
  },
  {
   "cell_type": "markdown",
   "id": "eea3cdc2",
   "metadata": {},
   "source": [
    "While no programming limitations prevent this, you should be careful if you write code\n",
    "with different numeric and non-numeric types in the same list.\n",
    "\n",
    "For example, if the types within the list cannot be compared, then how could you sort the elements of the list? (i.e. How do you determine whether the string \"hello\" is less than the integer 2, \"hello\" < 2?)"
   ]
  },
  {
   "cell_type": "code",
   "execution_count": null,
   "id": "ce447797",
   "metadata": {},
   "outputs": [],
   "source": [
    "x = [2, \"hello\", 3.0]\n",
    "# uncomment the line below and see what happens!\n",
    "# x.sort()"
   ]
  },
  {
   "cell_type": "markdown",
   "id": "b8665421",
   "metadata": {},
   "source": [
    "A few key exceptions to this general rule are:\n",
    "\n",
    "- Lists with both integers and floating points are less error-prone\n",
    "  (since mathematical code using the list would work with both types).\n",
    "- When working with lists and data, you may want to represent missing\n",
    "  values with a different type than the existing values.\n",
    "\n",
    "### The `range` Function\n",
    "\n",
    "One function you will see often in Python is the `range` function.\n",
    "\n",
    "It has three versions:\n",
    "\n",
    "1. `range(N)`: goes from 0 to N-1\n",
    "1. `range(a, N)`: goes from a to N-1\n",
    "1. `range(a, N, d)`: goes from a to N-1, counting by d\n",
    "\n",
    "When we call the `range` function, we get back something that has type `range`:"
   ]
  },
  {
   "cell_type": "code",
   "execution_count": null,
   "id": "dac6c741",
   "metadata": {},
   "outputs": [],
   "source": [
    "r = range(5)\n",
    "print(\"type(r)\", type(r))"
   ]
  },
  {
   "cell_type": "markdown",
   "id": "f854405b",
   "metadata": {},
   "source": [
    "To turn the `range` into a list:"
   ]
  },
  {
   "cell_type": "code",
   "execution_count": null,
   "id": "fcb879ad",
   "metadata": {},
   "outputs": [],
   "source": [
    "list(r)"
   ]
  },
  {
   "cell_type": "markdown",
   "id": "d15f9e2a",
   "metadata": {},
   "source": [
    "````{admonition} Exercise\n",
    ":name: dir2-2-2\n",
    "\n",
    "See exercise 2 in the {ref}`exercise list <ex2-2>`.\n",
    "````\n",
    "\n",
    "### What are Tuples?\n",
    "\n",
    "Tuples are very similar to lists and hold ordered collections of items.\n",
    "\n",
    "However, tuples and lists have three main differences:\n",
    "\n",
    "1. Tuples are created using parenthesis — `(` and `)` — instead of\n",
    "   square brackets — `[` and `]`.\n",
    "1. Tuples are *immutable*, which is a fancy computer science word\n",
    "   meaning that they can't be changed or altered after they are created.\n",
    "1. Tuples and multiple return values\n",
    "   from functions are tightly connected, as we will see in {doc}`functions <functions>`."
   ]
  },
  {
   "cell_type": "code",
   "execution_count": null,
   "id": "bdbe53ef",
   "metadata": {},
   "outputs": [],
   "source": [
    "t = (1, \"hello\", 3.0)\n",
    "print(\"t is a\", type(t))\n",
    "t"
   ]
  },
  {
   "cell_type": "markdown",
   "id": "a724498d",
   "metadata": {},
   "source": [
    "We can *convert* a list to a tuple by calling the `tuple` function on\n",
    "a list."
   ]
  },
  {
   "cell_type": "code",
   "execution_count": null,
   "id": "bf92dab7",
   "metadata": {},
   "outputs": [],
   "source": [
    "print(\"x is a\", type(x))\n",
    "print(\"tuple(x) is a\", type(tuple(x)))\n",
    "tuple(x)"
   ]
  },
  {
   "cell_type": "markdown",
   "id": "6b573058",
   "metadata": {},
   "source": [
    "We can also convert a tuple to a list using the list function."
   ]
  },
  {
   "cell_type": "code",
   "execution_count": null,
   "id": "70242068",
   "metadata": {},
   "outputs": [],
   "source": [
    "list(t)"
   ]
  },
  {
   "cell_type": "markdown",
   "id": "3a806d97",
   "metadata": {},
   "source": [
    "As with a list, we access items in a tuple `t` using `t[N]` where\n",
    "`N` is an int."
   ]
  },
  {
   "cell_type": "code",
   "execution_count": null,
   "id": "8b065141",
   "metadata": {},
   "outputs": [],
   "source": [
    "t[0]  # still start counting at 0"
   ]
  },
  {
   "cell_type": "code",
   "execution_count": null,
   "id": "f3178f0c",
   "metadata": {},
   "outputs": [],
   "source": [
    "t[2]"
   ]
  },
  {
   "cell_type": "markdown",
   "id": "0d6df7bc",
   "metadata": {},
   "source": [
    "````{admonition} Exercise\n",
    ":name: dir2-2-3\n",
    "\n",
    "See exercise 3 in the {ref}`exercise list <ex2-2>`.\n",
    "````\n",
    "\n",
    "\n",
    "Tuples (and lists) can be unpacked directly into variables."
   ]
  },
  {
   "cell_type": "code",
   "execution_count": null,
   "id": "8315b39e",
   "metadata": {},
   "outputs": [],
   "source": [
    "x, y = (1, \"test\")\n",
    "print(f\"x = {x}, y = {y}\")"
   ]
  },
  {
   "cell_type": "markdown",
   "id": "72e9a7cb",
   "metadata": {},
   "source": [
    "This will be a convenient way to work with functions returning\n",
    "multiple values, as well as within {doc}`comprehensions and loops <control_flow>`.\n",
    "\n",
    "### List vs Tuple: Which to Use?\n",
    "\n",
    "Should you use a list or tuple?\n",
    "\n",
    "This depends on what you are storing, whether you might need to reorder the elements,\n",
    "or whether you'd add\n",
    "new elements without a complete reinterpretation of the\n",
    "underlying data.\n",
    "\n",
    "For example, take data representing the GDP (in trillions) and population\n",
    "(in billions) for China in 2015."
   ]
  },
  {
   "cell_type": "code",
   "execution_count": null,
   "id": "45dfa4be",
   "metadata": {},
   "outputs": [],
   "source": [
    "china_data_2015 = (\"China\", 2015, 11.06, 1.371)\n",
    "\n",
    "print(china_data_2015)"
   ]
  },
  {
   "cell_type": "markdown",
   "id": "b5758cbe",
   "metadata": {},
   "source": [
    "In this case, we have used a tuple since: (a) ordering would\n",
    "be meaningless; and (b) adding more data would require a\n",
    "reinterpretation of the whole data structure.\n",
    "\n",
    "On the other hand, consider a list of GDP in China between\n",
    "2013 and 2015."
   ]
  },
  {
   "cell_type": "code",
   "execution_count": null,
   "id": "348c5228",
   "metadata": {},
   "outputs": [],
   "source": [
    "gdp_data = [9.607, 10.48, 11.06]\n",
    "print(gdp_data)"
   ]
  },
  {
   "cell_type": "markdown",
   "id": "2e51c647",
   "metadata": {},
   "source": [
    "In this case, we have used a list, since adding on a new\n",
    "element to the end of the list for GDP in 2016 would make\n",
    "complete sense.\n",
    "\n",
    "Along these lines, collecting data on China for different\n",
    "years may make sense as a list of tuples (e.g. year, GDP,\n",
    "and population -- although we will see better ways to store this sort of data\n",
    "in the {doc}`Pandas <../pandas/index>` section)."
   ]
  },
  {
   "cell_type": "code",
   "execution_count": null,
   "id": "9a2c5752",
   "metadata": {},
   "outputs": [],
   "source": [
    "china_data = [(2015, 11.06, 1.371), (2014, 10.48, 1.364), (2013, 9.607, 1.357)]\n",
    "print(china_data)"
   ]
  },
  {
   "cell_type": "markdown",
   "id": "afd84cf3",
   "metadata": {},
   "source": [
    "In general, a rule of thumb is to use a list unless you *need* to use a tuple.\n",
    "\n",
    "Key criteria for tuple use are when you want to:\n",
    "\n",
    "- ensure the *order* of elements can't change\n",
    "- ensure the actual values of the elements can't\n",
    "  change\n",
    "- use the collection as a key in a dict (we will learn what this\n",
    "  means {ref}`soon <dictionaries>`)\n",
    "\n",
    "### `zip` and `enumerate`\n",
    "\n",
    "Two functions that can be extremely useful are `zip` and `enumerate`.\n",
    "\n",
    "Both of these functions are best understood by example, so let's see\n",
    "them in action and then talk about what they do."
   ]
  },
  {
   "cell_type": "code",
   "execution_count": null,
   "id": "0b1b518b",
   "metadata": {},
   "outputs": [],
   "source": [
    "gdp_data = [9.607, 10.48, 11.06]\n",
    "years = [2013, 2014, 2015]\n",
    "z = zip(years, gdp_data)\n",
    "print(\"type(z)\", type(z))"
   ]
  },
  {
   "cell_type": "markdown",
   "id": "fa9bbeae",
   "metadata": {},
   "source": [
    "To see what is inside `z`, let's convert it to a list."
   ]
  },
  {
   "cell_type": "code",
   "execution_count": null,
   "id": "861a388f",
   "metadata": {},
   "outputs": [],
   "source": [
    "list(z)"
   ]
  },
  {
   "cell_type": "markdown",
   "id": "7c04c86e",
   "metadata": {},
   "source": [
    "Notice that we now have a list where each item is a tuple.\n",
    "\n",
    "Within each tuple, we have one item from each of the collections we\n",
    "passed to the zip function.\n",
    "\n",
    "In particular, the first item in `z` contains the first item from\n",
    "`[2013, 2014, 2015]` and the first item from `[9.607, 10.48, 11.06]`.\n",
    "\n",
    "The second item in `z` contains the second item from each collection\n",
    "and so on.\n",
    "\n",
    "We can access an element in this and then unpack the resulting\n",
    "tuple directly into variables."
   ]
  },
  {
   "cell_type": "code",
   "execution_count": null,
   "id": "2065bc5b",
   "metadata": {},
   "outputs": [],
   "source": [
    "l = list(zip(years, gdp_data))\n",
    "x, y = l[0]\n",
    "print(f\"year = {x}, GDP = {y}\")"
   ]
  },
  {
   "cell_type": "markdown",
   "id": "c7e6483d",
   "metadata": {},
   "source": [
    "Now let's experiment with `enumerate`."
   ]
  },
  {
   "cell_type": "code",
   "execution_count": null,
   "id": "030251f9",
   "metadata": {},
   "outputs": [],
   "source": [
    "e = enumerate([\"a\", \"b\", \"c\"])\n",
    "print(\"type(e)\", type(e))\n",
    "e"
   ]
  },
  {
   "cell_type": "markdown",
   "id": "6cfe13dc",
   "metadata": {},
   "source": [
    "Again, we call `list(e)` to see what is inside."
   ]
  },
  {
   "cell_type": "code",
   "execution_count": null,
   "id": "4d2a6e10",
   "metadata": {},
   "outputs": [],
   "source": [
    "list(e)"
   ]
  },
  {
   "cell_type": "markdown",
   "id": "25798c88",
   "metadata": {},
   "source": [
    "We again have a list of tuples, but this time, the first element in each\n",
    "tuple is the *index* of the second tuple element in the initial\n",
    "collection.\n",
    "\n",
    "Notice that the third item is `(2, 'c')` because\n",
    "`[\"a\", \"b\", \"c\"][2]` is `'c'`\n",
    "\n",
    "\n",
    "````{admonition} Exercise\n",
    ":name: dir2-2-4\n",
    "\n",
    "See exercise 4 in the {ref}`exercise list <ex2-2>`.\n",
    "````\n",
    "\n",
    "An important quirk of some iterable types that are not lists (such as the above `zip`) is that\n",
    "you cannot convert the same type to a list twice.\n",
    "\n",
    "This is because `zip`, `enumerate`, and `range` produce what is called a generator.\n",
    "\n",
    "A generator will only produce each of its elements a single time, so if you call `list` on the same\n",
    "generator a second time, it will not have any elements to iterate over anymore.\n",
    "\n",
    "For more information, refer to the [Python documentation](https://docs.python.org/3/howto/functional.html#generators)."
   ]
  },
  {
   "cell_type": "code",
   "execution_count": null,
   "id": "a335bbb6",
   "metadata": {},
   "outputs": [],
   "source": [
    "gdp_data = [9.607, 10.48, 11.06]\n",
    "years = [2013, 2014, 2015]\n",
    "z = zip(years, gdp_data)\n",
    "l = list(z)\n",
    "print(l)\n",
    "m = list(z)\n",
    "print(m)"
   ]
  },
  {
   "cell_type": "markdown",
   "id": "4eac579e",
   "metadata": {},
   "source": [
    "## Associative Collections\n",
    "(dictionaries)=\n",
    "### Dictionaries\n",
    "\n",
    "A dictionary (or dict) associates `key`s with `value`s.\n",
    "\n",
    "It will feel similar to a dictionary for words, where the keys are words and\n",
    "the values are the associated definitions.\n",
    "\n",
    "The most common way to create a `dict` is to use curly braces — `{`\n",
    "and `}` — like this:\n",
    "\n",
    "```{code-block} python\n",
    "{\"key1\": value1, \"key2\": value2, ..., \"keyN\": valueN}\n",
    "```\n",
    "\n",
    "where the `...` indicates that we can have any number of additional\n",
    "terms.\n",
    "\n",
    "The crucial part of the syntax is that each key-value pair is written\n",
    "`key: value` and that these pairs are separated by commas — `,`.\n",
    "\n",
    "Let's see an example using our aggregate data on China in 2015."
   ]
  },
  {
   "cell_type": "code",
   "execution_count": null,
   "id": "f50ee61f",
   "metadata": {},
   "outputs": [],
   "source": [
    "china_data = {\"country\": \"China\", \"year\": 2015, \"GDP\" : 11.06, \"population\": 1.371}\n",
    "print(china_data)"
   ]
  },
  {
   "cell_type": "markdown",
   "id": "57b02504",
   "metadata": {},
   "source": [
    "Unlike our above example using a `tuple`, a `dict` allows us to\n",
    "associate a name with each field, rather than having to remember the\n",
    "order within the tuple.\n",
    "\n",
    "Often, code that makes a dict is easier to read if we put each\n",
    "`key: value` pair on its own line. (Recall our earlier comment on\n",
    "using whitespace effectively to improve readability!)\n",
    "\n",
    "The code below is equivalent to what we saw above."
   ]
  },
  {
   "cell_type": "code",
   "execution_count": null,
   "id": "7d8518ad",
   "metadata": {},
   "outputs": [],
   "source": [
    "china_data = {\n",
    "    \"country\": \"China\",\n",
    "    \"year\": 2015,\n",
    "    \"GDP\" : 11.06,\n",
    "    \"population\": 1.371\n",
    "}"
   ]
  },
  {
   "cell_type": "markdown",
   "id": "eb7f7e82",
   "metadata": {},
   "source": [
    "Most often, the keys (e.g. \"country\", \"year\", \"GDP\", and \"population\")\n",
    "will be strings, but we could also use numbers (`int`, or\n",
    "`float`) or even tuples (or, rarely, a combination of types).\n",
    "\n",
    "The values can be **any** type and different from each other.\n",
    "\n",
    "\n",
    "````{admonition} Exercise\n",
    ":name: dir2-2-5\n",
    "\n",
    "See exercise 5 in the {ref}`exercise list <ex2-2>`.\n",
    "````\n",
    "\n",
    "This next example is meant to emphasize how values can be\n",
    "*anything* -- including another dictionary."
   ]
  },
  {
   "cell_type": "code",
   "execution_count": null,
   "id": "bdbcc269",
   "metadata": {},
   "outputs": [],
   "source": [
    "companies = {\"AAPL\": {\"bid\": 175.96, \"ask\": 175.98},\n",
    "             \"GE\": {\"bid\": 1047.03, \"ask\": 1048.40},\n",
    "             \"TVIX\": {\"bid\": 8.38, \"ask\": 8.40}}\n",
    "print(companies)"
   ]
  },
  {
   "cell_type": "markdown",
   "id": "d29f53ba",
   "metadata": {},
   "source": [
    "#### Getting, Setting, and Updating dict Items\n",
    "\n",
    "We can now ask Python to tell us the value for a particular key by using\n",
    "the syntax `d[k]`,  where `d` is our `dict` and `k` is the key for which we want to\n",
    "find the value.\n",
    "\n",
    "For example,"
   ]
  },
  {
   "cell_type": "code",
   "execution_count": null,
   "id": "87158f3d",
   "metadata": {},
   "outputs": [],
   "source": [
    "print(china_data[\"year\"])\n",
    "print(f\"country = {china_data['country']}, population = {china_data['population']}\")"
   ]
  },
  {
   "cell_type": "markdown",
   "id": "d62f2d79",
   "metadata": {},
   "source": [
    "Note: when inside of a formatting string, you can use `'` instead of `\"` as above\n",
    "to ensure the formatting still works with the embedded code.\n",
    "\n",
    "If we ask for the value of a key that is not in the dict, we will get an error."
   ]
  },
  {
   "cell_type": "code",
   "execution_count": null,
   "id": "2778a317",
   "metadata": {},
   "outputs": [],
   "source": [
    "# uncomment the line below to see the error\n",
    "# china_data[\"inflation\"]"
   ]
  },
  {
   "cell_type": "markdown",
   "id": "3f122d58",
   "metadata": {},
   "source": [
    "We can also add new items to a dict using the syntax `d[new_key] = new_value`.\n",
    "\n",
    "Let's see some examples."
   ]
  },
  {
   "cell_type": "code",
   "execution_count": null,
   "id": "0f848e9b",
   "metadata": {},
   "outputs": [],
   "source": [
    "print(china_data)\n",
    "china_data[\"unemployment\"] = \"4.05%\"\n",
    "print(china_data)"
   ]
  },
  {
   "cell_type": "markdown",
   "id": "0f40b0e5",
   "metadata": {},
   "source": [
    "To update the value, we use assignment in the same way (which will\n",
    "create the key and value as required)."
   ]
  },
  {
   "cell_type": "code",
   "execution_count": null,
   "id": "4e6e0ee6",
   "metadata": {},
   "outputs": [],
   "source": [
    "print(china_data)\n",
    "china_data[\"unemployment\"] = \"4.051%\"\n",
    "print(china_data)"
   ]
  },
  {
   "cell_type": "markdown",
   "id": "af90ad98",
   "metadata": {},
   "source": [
    "Or we could change the type."
   ]
  },
  {
   "cell_type": "code",
   "execution_count": null,
   "id": "2e6b25ec",
   "metadata": {},
   "outputs": [],
   "source": [
    "china_data[\"unemployment\"] = 4.051\n",
    "print(china_data)"
   ]
  },
  {
   "cell_type": "markdown",
   "id": "e0580169",
   "metadata": {},
   "source": [
    "````{admonition} Exercise\n",
    ":name: dir2-2-6\n",
    "\n",
    "See exercise 6 in the {ref}`exercise list <ex2-2>`.\n",
    "````\n",
    "\n",
    "#### Common `dict` Functionality\n",
    "\n",
    "We can do some common things with dicts.\n",
    "\n",
    "We will demonstrate them with examples below."
   ]
  },
  {
   "cell_type": "code",
   "execution_count": null,
   "id": "1fb45cd3",
   "metadata": {},
   "outputs": [],
   "source": [
    "# number of key-value pairs in a dict\n",
    "len(china_data)"
   ]
  },
  {
   "cell_type": "code",
   "execution_count": null,
   "id": "74dff776",
   "metadata": {},
   "outputs": [],
   "source": [
    "# get a list of all the keys\n",
    "list(china_data.keys())"
   ]
  },
  {
   "cell_type": "code",
   "execution_count": null,
   "id": "30ee458a",
   "metadata": {},
   "outputs": [],
   "source": [
    "# get a list of all the values\n",
    "list(china_data.values())"
   ]
  },
  {
   "cell_type": "code",
   "execution_count": null,
   "id": "03c81dd5",
   "metadata": {},
   "outputs": [],
   "source": [
    "more_china_data = {\"irrigated_land\": 690_070, \"top_religions\": {\"buddhist\": 18.2, \"christian\" : 5.1, \"muslim\": 1.8}}\n",
    "\n",
    "# Add all key-value pairs in mydict2 to mydict.\n",
    "# if the key already appears in mydict, overwrite the\n",
    "# value with the value in mydict2\n",
    "china_data.update(more_china_data)\n",
    "china_data"
   ]
  },
  {
   "cell_type": "code",
   "execution_count": null,
   "id": "bfd5c97b",
   "metadata": {},
   "outputs": [],
   "source": [
    "# Get the value associated with a key or return a default value\n",
    "# use this to avoid the NameError we saw above if you have a reasonable\n",
    "# default value\n",
    "china_data.get(\"irrigated_land\", \"Data Not Available\")"
   ]
  },
  {
   "cell_type": "code",
   "execution_count": null,
   "id": "7bdbc85c",
   "metadata": {},
   "outputs": [],
   "source": [
    "china_data.get(\"death_rate\", \"Data Not Available\")"
   ]
  },
  {
   "cell_type": "markdown",
   "id": "9cfe18f5",
   "metadata": {},
   "source": [
    "````{admonition} Exercise\n",
    ":name: dir2-2-7\n",
    "\n",
    "See exercise 7 in the {ref}`exercise list <ex2-2>`.\n",
    "````\n",
    "\n",
    "\n",
    "````{admonition} Exercise\n",
    ":name: dir2-2-8\n",
    "\n",
    "See exercise 8 in the {ref}`exercise list <ex2-2>`.\n",
    "````\n",
    "\n",
    "### Sets (Optional)\n",
    "\n",
    "Python has an additional way to represent collections of items: sets.\n",
    "\n",
    "Sets come up infrequently, but you should be aware of them.\n",
    "\n",
    "If you are familiar with the mathematical concept of sets, then you will\n",
    "understand the majority of Python sets already.\n",
    "\n",
    "If you don't know the math behind sets, don't worry: we'll cover the\n",
    "basics of Python's sets here.\n",
    "\n",
    "A set is an *unordered* collection of *unique* elements.\n",
    "\n",
    "The syntax for creating a set uses curly bracket `{` and `}`.\n",
    "\n",
    "```{code-block} python\n",
    "{item1, item2, ..., itemN}\n",
    "```\n",
    "\n",
    "Here is an example."
   ]
  },
  {
   "cell_type": "code",
   "execution_count": null,
   "id": "55fc75e8",
   "metadata": {},
   "outputs": [],
   "source": [
    "s = {1, \"hello\", 3.0}\n",
    "print(\"s has type\", type(s))\n",
    "s"
   ]
  },
  {
   "cell_type": "markdown",
   "id": "80c6120e",
   "metadata": {},
   "source": [
    "````{admonition} Exercise\n",
    ":name: dir2-2-9\n",
    "\n",
    "See exercise 9 in the {ref}`exercise list <ex2-2>`.\n",
    "````\n",
    "\n",
    "As with lists and tuples, we can check if something is `in` the set\n",
    "and check the set's length:"
   ]
  },
  {
   "cell_type": "code",
   "execution_count": null,
   "id": "46c664dc",
   "metadata": {},
   "outputs": [],
   "source": [
    "print(\"len(s) =\", len(s))\n",
    "\"hello\" in s"
   ]
  },
  {
   "cell_type": "markdown",
   "id": "1a48f383",
   "metadata": {},
   "source": [
    "Unlike lists and tuples, we can't extract elements of a set `s` using\n",
    "`s[N]` where `N` is a number."
   ]
  },
  {
   "cell_type": "code",
   "execution_count": null,
   "id": "d1eafb3b",
   "metadata": {
    "tags": [
     "raises-exception"
    ]
   },
   "outputs": [],
   "source": [
    "# Uncomment the line below to see what happens\n",
    "# s[1]"
   ]
  },
  {
   "cell_type": "markdown",
   "id": "1fe842bb",
   "metadata": {},
   "source": [
    "This is because sets are not ordered, so the notion of getting the\n",
    "second element (`s[1]`) is not well defined.\n",
    "\n",
    "We add elements to a set `s` using `s.add`."
   ]
  },
  {
   "cell_type": "code",
   "execution_count": null,
   "id": "0b9bde3d",
   "metadata": {},
   "outputs": [],
   "source": [
    "s.add(100)\n",
    "s"
   ]
  },
  {
   "cell_type": "code",
   "execution_count": null,
   "id": "dd2fe506",
   "metadata": {},
   "outputs": [],
   "source": [
    "s.add(\"hello\") # nothing happens, why?\n",
    "s"
   ]
  },
  {
   "cell_type": "markdown",
   "id": "928ebe71",
   "metadata": {},
   "source": [
    "We can also do set operations.\n",
    "\n",
    "Consider the set `s` from above and the set\n",
    "`s2 = {\"hello\", \"world\"}`.\n",
    "\n",
    "- `s.union(s2)`: returns a set with all elements in either `s` or\n",
    "  `s2`\n",
    "- `s.intersection(s2)`: returns a set with all elements in both `s`\n",
    "  and `s2`\n",
    "- `s.difference(s2)`: returns a set with all elements in `s` that\n",
    "  aren't in `s2`\n",
    "- `s.symmetric_difference(s2)`: returns a set with all elements in\n",
    "  only one of `s` and `s2`\n",
    "\n",
    "\n",
    "````{admonition} Exercise\n",
    ":name: dir2-2-10\n",
    "\n",
    "See exercise 10 in the {ref}`exercise list <ex2-2>`.\n",
    "````\n",
    "\n",
    "As with tuples and lists, a `set` function can convert other\n",
    "collections to sets."
   ]
  },
  {
   "cell_type": "code",
   "execution_count": null,
   "id": "0cf9a508",
   "metadata": {},
   "outputs": [],
   "source": [
    "x = [1, 2, 3, 1]\n",
    "set(x)"
   ]
  },
  {
   "cell_type": "code",
   "execution_count": null,
   "id": "e3ca2302",
   "metadata": {},
   "outputs": [],
   "source": [
    "t = (1, 2, 3, 1)\n",
    "set(t)"
   ]
  },
  {
   "cell_type": "markdown",
   "id": "82714447",
   "metadata": {},
   "source": [
    "Likewise, we can convert sets to lists and tuples."
   ]
  },
  {
   "cell_type": "code",
   "execution_count": null,
   "id": "e066163b",
   "metadata": {},
   "outputs": [],
   "source": [
    "list(s)"
   ]
  },
  {
   "cell_type": "code",
   "execution_count": null,
   "id": "00611b11",
   "metadata": {},
   "outputs": [],
   "source": [
    "tuple(s)"
   ]
  },
  {
   "cell_type": "markdown",
   "id": "abc5ddda",
   "metadata": {},
   "source": [
    "(ex2-2)=\n",
    "## Exercises\n",
    "\n",
    "### Exercise 1\n",
    "\n",
    "In the first cell, try `y.append(z)`.\n",
    "\n",
    "In the second cell try `y.extend(z)`.\n",
    "\n",
    "Explain the behavior.\n",
    "\n",
    "```{hint}\n",
    "When you are trying to explain use `y.append?` and `y.extend?` to\n",
    "see a description of what these methods are supposed to do.\n",
    "```"
   ]
  },
  {
   "cell_type": "code",
   "execution_count": null,
   "id": "3e84dc55",
   "metadata": {
    "tags": [
     "remove-output"
    ]
   },
   "outputs": [],
   "source": [
    "y = [\"a\", \"b\", \"c\"]\n",
    "z = [1, 2, 3]\n",
    "# your code here\n",
    "print(y)"
   ]
  },
  {
   "cell_type": "code",
   "execution_count": null,
   "id": "9a69bf81",
   "metadata": {
    "tags": [
     "remove-output"
    ]
   },
   "outputs": [],
   "source": [
    "y = [\"a\", \"b\", \"c\"]\n",
    "z = [1, 2, 3]\n",
    "# your code here\n",
    "print(y)"
   ]
  },
  {
   "cell_type": "markdown",
   "id": "6b0d7d27",
   "metadata": {},
   "source": [
    "({ref}`back to text <dir2-2-1>`)\n",
    "\n",
    "### Exercise 2\n",
    "\n",
    "Experiment with the other two versions of the `range` function."
   ]
  },
  {
   "cell_type": "code",
   "execution_count": null,
   "id": "f31081f9",
   "metadata": {},
   "outputs": [],
   "source": [
    "# try list(range(a, N)) -- you pick `a` and `N`"
   ]
  },
  {
   "cell_type": "code",
   "execution_count": null,
   "id": "948d6dc5",
   "metadata": {},
   "outputs": [],
   "source": [
    "# try list(range(a, N, d)) -- you pick `a`, `N`, and `d`"
   ]
  },
  {
   "cell_type": "markdown",
   "id": "64dc62ff",
   "metadata": {},
   "source": [
    "({ref}`back to text <dir2-2-2>`)\n",
    "\n",
    "### Exercise 3\n",
    "\n",
    "Verify that tuples are indeed immutable by attempting the following:\n",
    "\n",
    "- Changing the first element of `t` to be `100`\n",
    "- Appending a new element `\"!!\"` to the end of `t` (remember with a\n",
    "  list `x` we would use `x.append(\"!!\")` to do this\n",
    "- Sorting `t`\n",
    "- Reversing `t`"
   ]
  },
  {
   "cell_type": "code",
   "execution_count": null,
   "id": "06f0eeba",
   "metadata": {},
   "outputs": [],
   "source": [
    "# change first element of t"
   ]
  },
  {
   "cell_type": "code",
   "execution_count": null,
   "id": "eb0a5a77",
   "metadata": {},
   "outputs": [],
   "source": [
    "# appending to t"
   ]
  },
  {
   "cell_type": "code",
   "execution_count": null,
   "id": "a345dd4f",
   "metadata": {},
   "outputs": [],
   "source": [
    "# sorting t"
   ]
  },
  {
   "cell_type": "code",
   "execution_count": null,
   "id": "1408626c",
   "metadata": {},
   "outputs": [],
   "source": [
    "# reversing t"
   ]
  },
  {
   "cell_type": "markdown",
   "id": "74081bdb",
   "metadata": {},
   "source": [
    "({ref}`back to text <dir2-2-3>`)\n",
    "\n",
    "### Exercise 4\n",
    "\n",
    "**Challenging** For the tuple `foo` below, use a combination of `zip`,\n",
    "`range`, and `len` to mimic `enumerate(foo)`.\n",
    "\n",
    "Verify that your proposed solution is correct by converting each to a list\n",
    "and checking equality with `==`.\n",
    "\n",
    "```{hint}\n",
    "You can see what the answer should look like by starting with\n",
    "`list(enumerate(foo))`.\n",
    "```"
   ]
  },
  {
   "cell_type": "code",
   "execution_count": null,
   "id": "70936797",
   "metadata": {},
   "outputs": [],
   "source": [
    "foo = (\"good\", \"luck!\")"
   ]
  },
  {
   "cell_type": "markdown",
   "id": "172ccf90",
   "metadata": {},
   "source": [
    "({ref}`back to text <dir2-2-4>`)\n",
    "\n",
    "### Exercise 5\n",
    "\n",
    "Create a new dict which associates stock tickers with its stock price.\n",
    "\n",
    "Here are some tickers and a price.\n",
    "\n",
    "- AAPL: 175.96\n",
    "- GOOGL: 1047.43\n",
    "- TVIX: 8.38"
   ]
  },
  {
   "cell_type": "code",
   "execution_count": null,
   "id": "9b1331c5",
   "metadata": {},
   "outputs": [],
   "source": [
    "# your code here"
   ]
  },
  {
   "cell_type": "markdown",
   "id": "e10e7a53",
   "metadata": {},
   "source": [
    "({ref}`back to text <dir2-2-5>`)\n",
    "\n",
    "### Exercise 6\n",
    "\n",
    "Look at the [World Factbook for Australia](https://www.cia.gov/the-world-factbook/countries/australia)\n",
    "and create a dictionary with data containing the following types:\n",
    "float, string, integer, list, and dict.  Choose any data you wish.\n",
    "\n",
    "To confirm, you should have a dictionary that you identified via a key."
   ]
  },
  {
   "cell_type": "code",
   "execution_count": null,
   "id": "962fa4ba",
   "metadata": {},
   "outputs": [],
   "source": [
    "# your code here"
   ]
  },
  {
   "cell_type": "markdown",
   "id": "decf5ac8",
   "metadata": {},
   "source": [
    "({ref}`back to text <dir2-2-6>`)\n",
    "\n",
    "### Exercise 7\n",
    "\n",
    "Use Jupyter's help facilities to learn how to use the `pop` method to\n",
    "remove the key `\"irrigated_land\"` (and its value) from the dict."
   ]
  },
  {
   "cell_type": "code",
   "execution_count": null,
   "id": "b33c9133",
   "metadata": {},
   "outputs": [],
   "source": [
    "# uncomment and use the Inspector or ?\n",
    "#china_data.pop()"
   ]
  },
  {
   "cell_type": "markdown",
   "id": "8ba25ede",
   "metadata": {},
   "source": [
    "({ref}`back to text <dir2-2-7>`)\n",
    "\n",
    "### Exercise 8\n",
    "\n",
    "Explain what happens to the value you popped.\n",
    "\n",
    "Experiment with calling `pop` twice."
   ]
  },
  {
   "cell_type": "code",
   "execution_count": null,
   "id": "6f24e33c",
   "metadata": {},
   "outputs": [],
   "source": [
    "# your code here"
   ]
  },
  {
   "cell_type": "markdown",
   "id": "66a096b9",
   "metadata": {},
   "source": [
    "({ref}`back to text <dir2-2-8>`)\n",
    "\n",
    "### Exercise 9\n",
    "\n",
    "Try creating a set with repeated elements (e.g. `{1, 2, 1, 2, 1, 2}`).\n",
    "\n",
    "What happens?\n",
    "\n",
    "Why?"
   ]
  },
  {
   "cell_type": "code",
   "execution_count": null,
   "id": "fdc67ba9",
   "metadata": {},
   "outputs": [],
   "source": [
    "# your code here"
   ]
  },
  {
   "cell_type": "markdown",
   "id": "63c9215d",
   "metadata": {},
   "source": [
    "({ref}`back to text <dir2-2-9>`)\n",
    "\n",
    "### Exercise 10\n",
    "\n",
    "Test out two of the operations described above using the original set we\n",
    "created, `s`, and the set created below `s2`."
   ]
  },
  {
   "cell_type": "code",
   "execution_count": null,
   "id": "1282b27c",
   "metadata": {},
   "outputs": [],
   "source": [
    "s2 = {\"hello\", \"world\"}"
   ]
  },
  {
   "cell_type": "code",
   "execution_count": null,
   "id": "b9021415",
   "metadata": {},
   "outputs": [],
   "source": [
    "# Operation 1"
   ]
  },
  {
   "cell_type": "code",
   "execution_count": null,
   "id": "772a66a3",
   "metadata": {},
   "outputs": [],
   "source": [
    "# Operation 2"
   ]
  },
  {
   "cell_type": "markdown",
   "id": "62745b59",
   "metadata": {},
   "source": [
    "({ref}`back to text <dir2-2-10>`)"
   ]
  }
 ],
 "metadata": {
  "jupytext": {
   "text_representation": {
    "extension": ".md",
    "format_name": "myst"
   }
  },
  "kernelspec": {
   "display_name": "Python 3",
   "language": "python",
   "name": "python3"
  },
  "source_map": [
   10,
   56,
   61,
   66,
   77,
   79,
   90,
   92,
   96,
   98,
   103,
   106,
   110,
   114,
   116,
   120,
   125,
   130,
   138,
   143,
   147,
   152,
   157,
   162,
   166,
   171,
   187,
   189,
   194,
   198,
   207,
   212,
   216,
   218,
   225,
   229,
   250,
   253,
   257,
   259,
   280,
   284,
   289,
   293,
   297,
   299,
   304,
   308,
   310,
   322,
   325,
   342,
   346,
   355,
   358,
   369,
   372,
   391,
   396,
   400,
   402,
   418,
   422,
   426,
   430,
   434,
   436,
   462,
   470,
   496,
   499,
   511,
   518,
   536,
   541,
   551,
   554,
   561,
   564,
   570,
   574,
   579,
   583,
   587,
   590,
   605,
   610,
   615,
   620,
   630,
   637,
   639,
   677,
   681,
   692,
   695,
   700,
   706,
   713,
   718,
   721,
   747,
   752,
   755,
   759,
   763,
   765,
   783,
   791,
   797,
   804,
   808,
   810,
   823,
   827,
   831,
   835,
   837,
   854,
   856,
   870,
   872,
   883,
   885,
   894,
   897,
   907,
   909,
   920,
   922,
   930,
   934,
   938,
   940
  ]
 },
 "nbformat": 4,
 "nbformat_minor": 5
}