{
 "cells": [
  {
   "cell_type": "markdown",
   "id": "73a548fc",
   "metadata": {},
   "source": [
    "# Datascience for Economists\n",
    "\n",
    "This website presents a series of lectures on programming, data science, and economics. The emphasis of these materials is not just the programming and statistics necessary to analyze data, but also on interpreting the results through the lens of economics.\n",
    "\n",
    "This work was supported in part by the Center for Innovative Data in Economics Research (CIDER) at the [Vancouver School of Economics](https://economics.ubc.ca/), UBC, funded by the Canada Excellence Research Chair grant.\n",
    "\n",
    "To get an idea of what one can do after taking this course, please take a look at [previous student projects](../theme/projects.md).\n",
    "\n",
    "[Chase Coleman](http://www.chasegcoleman.com/), [Spencer Lyon](http://spencerlyon.com/), [Jesse Perla](http://jesseperla.com/), [More Contributors](../theme/contributors.md).\n",
    "\n",
    "## <i class=\"fas fa-concierge-bell\" style=\"color:#1665ad\"></i> [Introduction](../introduction/index.md)\n",
    "Course description, software installation\n",
    "\n",
    "## <i class=\"fab fa-python\" style=\"color:#ffd053\"></i> [Python Fundamentals](../python_fundamentals/index.md)\n",
    "Basic Python programming\n",
    "\n",
    "## <i class=\"fas fa-server\" style=\"color:#d45f6c\"></i> [Scientific Computing](../scientific/index.md)\n",
    "Numerical and scientific methods\n",
    "\n",
    "## <i class=\"fas fa-code\" style=\"color:#6dae5c\"></i> [Pandas](../pandas/index.md)\n",
    "The \"data\" in data science\n",
    "\n",
    "## <i class=\"fas fa-cogs\" style=\"color:#1665ad\"></i> [Applications](../applications/index.md)\n",
    "Applications and statistical tools\n",
    "\n",
    "\n",
    "```{toctree}\n",
    ":hidden:\n",
    ":titlesonly:\n",
    "\n",
    "\n",
    "introduction/index\n",
    "python_fundamentals/index\n",
    "scientific/index\n",
    "pandas/index\n",
    "applications/index\n",
    "```"
   ]
  }
 ],
 "metadata": {
  "jupytext": {
   "text_representation": {
    "extension": ".md",
    "format_name": "myst"
   }
  },
  "kernelspec": {
   "display_name": "Python 3",
   "language": "python",
   "name": "python3"
  },
  "language_info": {
   "codemirror_mode": {
    "name": "ipython",
    "version": 3
   },
   "file_extension": ".py",
   "mimetype": "text/x-python",
   "name": "python",
   "nbconvert_exporter": "python",
   "pygments_lexer": "ipython3",
   "version": "3.8.10"
  },
  "source_map": [
   10
  ]
 },
 "nbformat": 4,
 "nbformat_minor": 5
}