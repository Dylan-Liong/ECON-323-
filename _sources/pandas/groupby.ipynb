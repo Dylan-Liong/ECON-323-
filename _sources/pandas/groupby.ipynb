{
 "cells": [
  {
   "cell_type": "markdown",
   "id": "65fc8378",
   "metadata": {},
   "source": [
    "# GroupBy\n",
    "\n",
    "**Prerequisites**\n",
    "\n",
    "- {doc}`Functions <../python_fundamentals/functions>`\n",
    "- pandas introduction {doc}`1 <intro>` and {doc}`2 <basics>`\n",
    "- {doc}`Reshape <reshape>`\n",
    "\n",
    "**Outcomes**\n",
    "\n",
    "- Understand the split-apply-combine strategy for aggregate\n",
    "  computations on groups of data\n",
    "- Be able use basic aggregation methods on `df.groupby` to compute\n",
    "  within group statistics\n",
    "- Understand how to group by multiple keys at once\n",
    "\n",
    "**Data**\n",
    "\n",
    "- Details for all delayed US domestic flights in December 2016,\n",
    "  obtained from the [Bureau of Transportation\n",
    "  Statistics](https://www.transtats.bts.gov/OT_Delay/OT_DelayCause1.asp)\n",
    "  \n",
    "```{literalinclude} ../_static/colab_light.raw\n",
    "```"
   ]
  },
  {
   "cell_type": "code",
   "execution_count": null,
   "id": "cd186949",
   "metadata": {},
   "outputs": [],
   "source": [
    "import random\n",
    "import numpy as np\n",
    "import pandas as pd\n",
    "import qeds\n",
    "import matplotlib.pyplot as plt\n",
    "\n",
    "%matplotlib inline\n",
    "# activate plot theme\n",
    "import qeds\n",
    "qeds.themes.mpl_style();"
   ]
  },
  {
   "cell_type": "markdown",
   "id": "b388b2bd",
   "metadata": {},
   "source": [
    "## Split-Apply-Combine\n",
    "\n",
    "One powerful paradigm for analyzing data is the \"Split-Apply-Combine\"\n",
    "strategy.\n",
    "\n",
    "This strategy has three steps:\n",
    "\n",
    "1. `Split`: split the data into groups based on values in one or more columns.\n",
    "1. `Apply`: apply a function or routine to each group separately.\n",
    "1. `Combine`: combine the output of the apply step into a DataFrame,\n",
    "   using the group identifiers as the index.\n",
    "\n",
    "We will cover the main components in this lecture, but we encourage you\n",
    "to also study the [official\n",
    "documentation](https://pandas.pydata.org/pandas-docs/stable/groupby.html)\n",
    "to learn more about what is possible.\n",
    "\n",
    "To describe the concepts, we will need some data.\n",
    "\n",
    "We will begin with a simple made-up dataset to discuss the concepts and\n",
    "then work through extended example and exercises with real data."
   ]
  },
  {
   "cell_type": "code",
   "execution_count": null,
   "id": "7302cc95",
   "metadata": {},
   "outputs": [],
   "source": [
    "C = np.arange(1, 7, dtype=float)\n",
    "C[[3, 5]] = np.nan\n",
    "df = pd.DataFrame({\n",
    "    \"A\" : [1, 1, 1, 2, 2, 2],\n",
    "    \"B\" : [1, 1, 2, 2, 1, 1],\n",
    "    \"C\": C,\n",
    "})\n",
    "df"
   ]
  },
  {
   "cell_type": "markdown",
   "id": "d4de807c",
   "metadata": {},
   "source": [
    "### Simple Example\n",
    "\n",
    "To perform the *Split* step, we call the `groupby` method on our\n",
    "DataFrame.\n",
    "\n",
    "The first argument to `groupby` is a description of how we want to\n",
    "construct groups.\n",
    "\n",
    "In the most basic version, we will pass a string identifying the column\n",
    "name."
   ]
  },
  {
   "cell_type": "code",
   "execution_count": null,
   "id": "1317227b",
   "metadata": {},
   "outputs": [],
   "source": [
    "gbA = df.groupby(\"A\")"
   ]
  },
  {
   "cell_type": "markdown",
   "id": "bf64bb54",
   "metadata": {},
   "source": [
    "The `type` of variable we get back is a `DataFrameGroupBy`, which we\n",
    "will sometimes refer to as GroupBy for short."
   ]
  },
  {
   "cell_type": "code",
   "execution_count": null,
   "id": "aefbfdaa",
   "metadata": {},
   "outputs": [],
   "source": [
    "type(gbA)"
   ]
  },
  {
   "cell_type": "markdown",
   "id": "ac29582b",
   "metadata": {},
   "source": [
    "Looking at the \"groups\" inside of the GroupBy object can help us\n",
    "understand what the GroupBy represents.\n",
    "\n",
    "We can do this with the `gb.get_group(group_name)` method."
   ]
  },
  {
   "cell_type": "code",
   "execution_count": null,
   "id": "c827c83e",
   "metadata": {},
   "outputs": [],
   "source": [
    "gbA.get_group(1)"
   ]
  },
  {
   "cell_type": "code",
   "execution_count": null,
   "id": "48f6690d",
   "metadata": {},
   "outputs": [],
   "source": [
    "gbA.get_group(2)"
   ]
  },
  {
   "cell_type": "markdown",
   "id": "47319829",
   "metadata": {},
   "source": [
    "We can *apply* some of our favorite aggregation functions directly on the\n",
    "`GroupBy` object.\n",
    "\n",
    "````{admonition} Exercise\n",
    ":name: pd-grp-dir1\n",
    "See exercise 1 in the {ref}`exercise list <pd-grp-ex>`.\n",
    "````\n",
    "````{admonition} Exercise\n",
    ":name: pd-grp-dir2\n",
    "See exercise 2 in the {ref}`exercise list <pd-grp-ex>`.\n",
    "````\n",
    "\n",
    "\n",
    "If we pass a list of strings to `groupby`, it will group based on\n",
    "unique combinations of values from all columns in the list.\n",
    "\n",
    "Let's see an example."
   ]
  },
  {
   "cell_type": "code",
   "execution_count": null,
   "id": "edea1102",
   "metadata": {},
   "outputs": [],
   "source": [
    "gbAB = df.groupby([\"A\", \"B\"])\n",
    "type(gbAB)"
   ]
  },
  {
   "cell_type": "code",
   "execution_count": null,
   "id": "3ad2b092",
   "metadata": {},
   "outputs": [],
   "source": [
    "gbAB.get_group((1, 1))"
   ]
  },
  {
   "cell_type": "markdown",
   "id": "acb66a76",
   "metadata": {},
   "source": [
    "Notice that we still have a GroupBy object, so we can apply our favorite\n",
    "aggregations."
   ]
  },
  {
   "cell_type": "code",
   "execution_count": null,
   "id": "a23415c2",
   "metadata": {},
   "outputs": [],
   "source": [
    "gbAB.count()"
   ]
  },
  {
   "cell_type": "markdown",
   "id": "c6a514a8",
   "metadata": {},
   "source": [
    "Notice that the output is a DataFrame with two levels on the index\n",
    "and a single column `C`. (Quiz: how do we know it is a DataFrame with\n",
    "one column and not a Series?)\n",
    "\n",
    "This highlights a principle of how pandas handles the *Combine* part of\n",
    "the strategy:\n",
    "\n",
    "> The index of the combined DataFrame will be the group identifiers,\n",
    "> with one index level per group key.\n",
    "\n",
    "### Custom Aggregate Functions\n",
    "\n",
    "So far, we have been applying built-in aggregations to our GroupBy object.\n",
    "\n",
    "We can also apply custom aggregations to each group of a GroupBy in two\n",
    "steps:\n",
    "\n",
    "1. Write our custom aggregation as a Python function.\n",
    "1. Passing our function as an argument to the `.agg` method of a GroupBy.\n",
    "\n",
    "Let's see an example."
   ]
  },
  {
   "cell_type": "code",
   "execution_count": null,
   "id": "514c16da",
   "metadata": {},
   "outputs": [],
   "source": [
    "def num_missing(df):\n",
    "    \"Return the number of missing items in each column of df\"\n",
    "    return df.isnull().sum()"
   ]
  },
  {
   "cell_type": "markdown",
   "id": "4d22d8e6",
   "metadata": {},
   "source": [
    "We can call this function on our original DataFrame to get the number of\n",
    "missing items in each column."
   ]
  },
  {
   "cell_type": "code",
   "execution_count": null,
   "id": "5ed94bfe",
   "metadata": {},
   "outputs": [],
   "source": [
    "num_missing(df)"
   ]
  },
  {
   "cell_type": "markdown",
   "id": "6ef29c70",
   "metadata": {},
   "source": [
    "We can also apply it to a GroupBy object to get the number of missing\n",
    "items in each column *for each group*."
   ]
  },
  {
   "cell_type": "code",
   "execution_count": null,
   "id": "ef062684",
   "metadata": {},
   "outputs": [],
   "source": [
    "gbA.agg(num_missing)"
   ]
  },
  {
   "cell_type": "markdown",
   "id": "a9a2e4cc",
   "metadata": {},
   "source": [
    "The key to keep in mind is that the function we pass to `agg` should\n",
    "take in a DataFrame (or Series) and return a Series (or single value)\n",
    "with one item per column in the original DataFrame.\n",
    "\n",
    "When the function is called, the data for each group will be passed to\n",
    "our function as a DataFrame (or Series).\n",
    "\n",
    "### Transforms: The `apply` Method\n",
    "\n",
    "As we saw in the {doc}`basics lecture <basics>`, we can apply transforms to DataFrames.\n",
    "\n",
    "We can do the same with GroupBy objects using the `.apply` method.\n",
    "\n",
    "Let's see an example."
   ]
  },
  {
   "cell_type": "code",
   "execution_count": null,
   "id": "92efe8fa",
   "metadata": {},
   "outputs": [],
   "source": [
    "df"
   ]
  },
  {
   "cell_type": "code",
   "execution_count": null,
   "id": "a9bb22b5",
   "metadata": {},
   "outputs": [],
   "source": [
    "def smallest_by_b(df):\n",
    "    return df.nsmallest(2, \"B\")"
   ]
  },
  {
   "cell_type": "code",
   "execution_count": null,
   "id": "8ec5ad51",
   "metadata": {},
   "outputs": [],
   "source": [
    "gbA.apply(smallest_by_b)"
   ]
  },
  {
   "cell_type": "markdown",
   "id": "023da25c",
   "metadata": {},
   "source": [
    "Notice that the return value from applying our series transform to `gbA`\n",
    "was the group key on the outer level (the `A` column) and the original\n",
    "index from `df` on the inner level.\n",
    "\n",
    "The original index came along because that was the index of the\n",
    "DataFrame returned by `smallest_by_b`.\n",
    "\n",
    "Had our function returned something other than the index from `df`,\n",
    "that would appear in the result of the call to `.apply`.\n",
    "\n",
    "````{admonition} Exercise\n",
    ":name: pd-grp-dir3\n",
    "See exercise 3 in the {ref}`exercise list <pd-grp-ex>`.\n",
    "````\n",
    "\n",
    "### `pd.Grouper`\n",
    "\n",
    "Sometimes, in order to construct the groups you want, you need to give\n",
    "pandas more information than just a column name.\n",
    "\n",
    "Some examples are:\n",
    "\n",
    "- Grouping by a column and a level of the index.\n",
    "- Grouping time series data at a particular frequency.\n",
    "\n",
    "pandas lets you do this through the `pd.Grouper` type.\n",
    "\n",
    "To see it in action, let's make a copy of `df` with `A` moved to the\n",
    "index and a `Date` column added."
   ]
  },
  {
   "cell_type": "code",
   "execution_count": null,
   "id": "6cbf13e7",
   "metadata": {},
   "outputs": [],
   "source": [
    "df2 = df.copy()\n",
    "df2[\"Date\"] = pd.date_range(\n",
    "    start=pd.datetime.today().strftime(\"%m/%d/%Y\"),\n",
    "    freq=\"BQ\",\n",
    "    periods=df.shape[0]\n",
    ")\n",
    "df2 = df2.set_index(\"A\")\n",
    "df2"
   ]
  },
  {
   "cell_type": "markdown",
   "id": "1ee0edde",
   "metadata": {},
   "source": [
    "We can group by year."
   ]
  },
  {
   "cell_type": "code",
   "execution_count": null,
   "id": "aef72cf5",
   "metadata": {},
   "outputs": [],
   "source": [
    "df2.groupby(pd.Grouper(key=\"Date\", freq=\"A\")).count()"
   ]
  },
  {
   "cell_type": "markdown",
   "id": "a1cd767e",
   "metadata": {},
   "source": [
    "We can group by the `A` level of the index."
   ]
  },
  {
   "cell_type": "code",
   "execution_count": null,
   "id": "d145303f",
   "metadata": {},
   "outputs": [],
   "source": [
    "df2.groupby(pd.Grouper(level=\"A\")).count()"
   ]
  },
  {
   "cell_type": "markdown",
   "id": "968c63e9",
   "metadata": {},
   "source": [
    "We can combine these to group by both."
   ]
  },
  {
   "cell_type": "code",
   "execution_count": null,
   "id": "ec1ba9b9",
   "metadata": {},
   "outputs": [],
   "source": [
    "df2.groupby([pd.Grouper(key=\"Date\", freq=\"A\"), pd.Grouper(level=\"A\")]).count()"
   ]
  },
  {
   "cell_type": "markdown",
   "id": "212c8d26",
   "metadata": {},
   "source": [
    "And we can combine `pd.Grouper` with a string, where the string\n",
    "denotes a column name"
   ]
  },
  {
   "cell_type": "code",
   "execution_count": null,
   "id": "444ed5d1",
   "metadata": {},
   "outputs": [],
   "source": [
    "df2.groupby([pd.Grouper(key=\"Date\", freq=\"A\"), \"B\"]).count()"
   ]
  },
  {
   "cell_type": "markdown",
   "id": "ec7ebafd",
   "metadata": {},
   "source": [
    "## Case Study: Airline Delays\n",
    "\n",
    "Let's apply our new split-apply-combine skills to the airline dataset we\n",
    "saw in the {doc}`merge <merge>` lecture."
   ]
  },
  {
   "cell_type": "code",
   "execution_count": null,
   "id": "04cec8a3",
   "metadata": {},
   "outputs": [],
   "source": [
    "url = \"https://datascience.quantecon.org/assets/data/airline_performance_dec16.csv.zip\"\n",
    "air_dec = pd.read_csv(url)"
   ]
  },
  {
   "cell_type": "markdown",
   "id": "ca6b8188",
   "metadata": {},
   "source": [
    "First, we compute the average delay in arrival time for all carriers\n",
    "each week."
   ]
  },
  {
   "cell_type": "code",
   "execution_count": null,
   "id": "b214afec",
   "metadata": {},
   "outputs": [],
   "source": [
    "weekly_delays = (\n",
    "    air_dec\n",
    "    .groupby([pd.Grouper(key=\"Date\", freq=\"W\"), \"Carrier\"])\n",
    "    [\"ArrDelay\"]               # extract one column\n",
    "    .mean()                    # take average\n",
    "    .unstack(level=\"Carrier\")  # Flip carrier up as column names\n",
    ")\n",
    "weekly_delays"
   ]
  },
  {
   "cell_type": "markdown",
   "id": "d782b2f9",
   "metadata": {},
   "source": [
    "Let's also plot this data."
   ]
  },
  {
   "cell_type": "code",
   "execution_count": null,
   "id": "3e56ddfb",
   "metadata": {},
   "outputs": [],
   "source": [
    "# plot\n",
    "axs = weekly_delays.plot.bar(\n",
    "    figsize=(10, 8), subplots=True, legend=False, sharex=True,\n",
    "    sharey=True, layout=(4, 3), grid=False\n",
    ")\n",
    "\n",
    "# tweak spacing between subplots and xaxis labels\n",
    "axs[0,0].get_figure().tight_layout()\n",
    "for ax in axs[-1, :]:\n",
    "    ax.set_xticklabels(weekly_delays.index.strftime(\"%a, %b. %d'\"))"
   ]
  },
  {
   "cell_type": "markdown",
   "id": "eb200cfe",
   "metadata": {},
   "source": [
    "It looks like more delays occurred during the week ending Sunday\n",
    "December 18th than any other week (except for Frontier, who did *worse*\n",
    "on Christmas week).\n",
    "\n",
    "Let's see why.\n",
    "\n",
    "The `air_dec` DataFrame has information on the minutes of delay\n",
    "attributed to 5 different categories:"
   ]
  },
  {
   "cell_type": "code",
   "execution_count": null,
   "id": "53be1459",
   "metadata": {},
   "outputs": [],
   "source": [
    "delay_cols = [\n",
    "    'CarrierDelay',\n",
    "    'WeatherDelay',\n",
    "    'NASDelay',\n",
    "    'SecurityDelay',\n",
    "    'LateAircraftDelay'\n",
    "]"
   ]
  },
  {
   "cell_type": "markdown",
   "id": "aa555162",
   "metadata": {},
   "source": [
    "Let's take a quick look at each of those delay categories for the week ending December 18, 2016."
   ]
  },
  {
   "cell_type": "code",
   "execution_count": null,
   "id": "7cf5fb39",
   "metadata": {},
   "outputs": [],
   "source": [
    "pre_christmas = air_dec.loc[\n",
    "    (air_dec[\"Date\"] >= \"2016-12-12\") & (air_dec[\"Date\"] <= \"2016-12-18\")\n",
    "]\n",
    "\n",
    "# custom agg function\n",
    "def positive(df):\n",
    "    return (df > 0).sum()\n",
    "\n",
    "delay_totals = pre_christmas.groupby(\"Carrier\")[delay_cols].agg([\"sum\", \"mean\", positive])\n",
    "delay_totals"
   ]
  },
  {
   "cell_type": "markdown",
   "id": "01244771",
   "metadata": {},
   "source": [
    "**Want**: plot total, average, and number of each type of delay by\n",
    "carrier\n",
    "\n",
    "To do this, we need to have a DataFrame with:\n",
    "\n",
    "- Delay type in index (so it is on horizontal-axis)\n",
    "- Aggregation method on *outer* most level of columns (so we can do\n",
    "  `data[\"mean\"]` to get averages)\n",
    "- Carrier name on inner level of columns\n",
    "\n",
    "Many sequences of the reshaping commands can accomplish this.\n",
    "\n",
    "We show one example below."
   ]
  },
  {
   "cell_type": "code",
   "execution_count": null,
   "id": "1b2029f6",
   "metadata": {},
   "outputs": [],
   "source": [
    "reshaped_delays = (\n",
    "    delay_totals\n",
    "    .stack()             # move aggregation method into index (with Carrier)\n",
    "    .T                   # put delay type in index and Carrier+agg in column\n",
    "    .swaplevel(axis=1)   # make agg method outer level of column label\n",
    "    .sort_index(axis=1)  # sort column labels so it prints nicely\n",
    ")\n",
    "reshaped_delays"
   ]
  },
  {
   "cell_type": "code",
   "execution_count": null,
   "id": "623f059c",
   "metadata": {},
   "outputs": [],
   "source": [
    "for agg in [\"mean\", \"sum\", \"positive\"]:\n",
    "    axs = reshaped_delays[agg].plot(\n",
    "        kind=\"bar\", subplots=True, layout=(4, 3), figsize=(10, 8), legend=False,\n",
    "        sharex=True, sharey=True\n",
    "    )\n",
    "    fig = axs[0, 0].get_figure()\n",
    "    fig.suptitle(agg)\n",
    "#     fig.tight_layout();"
   ]
  },
  {
   "cell_type": "markdown",
   "id": "b6746aa3",
   "metadata": {},
   "source": [
    "````{admonition} Exercise\n",
    ":name: pd-grp-dir4\n",
    "See exercise 4 in the {ref}`exercise list <pd-grp-ex>`.\n",
    "````\n",
    "\n",
    "Let's summarize what we did:\n",
    "\n",
    "- Computed average flight delay for each airline for each week.\n",
    "- Noticed that one week had more delays for all airlines.\n",
    "- Studied the flights in that week to determine the *cause* of the\n",
    "  delays in that week.\n",
    "\n",
    "Suppose now that we want to repeat that analysis, but at a daily\n",
    "frequency instead of weekly.\n",
    "\n",
    "We could copy/paste the code from above and change the `W` to a `D`,\n",
    "but there's a better way...\n",
    "\n",
    "Let's convert the steps above into two functions:\n",
    "\n",
    "1. Produce the set of bar charts for average delays at each frequency.\n",
    "1. Produce the second set of charts for the total, average, and number\n",
    "   of occurrences of each type of delay."
   ]
  },
  {
   "cell_type": "code",
   "execution_count": null,
   "id": "714e42e4",
   "metadata": {},
   "outputs": [],
   "source": [
    "def mean_delay_plot(df, freq, figsize=(10, 8)):\n",
    "    \"\"\"\n",
    "    Make a bar chart of average flight delays for each carrier at\n",
    "    a given frequency.\n",
    "    \"\"\"\n",
    "    mean_delays = (\n",
    "        df\n",
    "        .groupby([pd.Grouper(key=\"Date\", freq=freq), \"Carrier\"])\n",
    "        [\"ArrDelay\"]               # extract one column\n",
    "        .mean()                    # take average\n",
    "        .unstack(level=\"Carrier\")  # Flip carrier up as column names\n",
    "    )\n",
    "\n",
    "    # plot\n",
    "    axs = mean_delays.plot.bar(\n",
    "        figsize=figsize, subplots=True, legend=False, sharex=True,\n",
    "        sharey=True, layout=(4, 3), grid=False\n",
    "    )\n",
    "\n",
    "    # tweak spacing between subplots and x-axis labels\n",
    "    axs[0, 0].get_figure().tight_layout()\n",
    "    for ax in axs[-1, :]:\n",
    "        ax.set_xticklabels(mean_delays.index.strftime(\"%a, %b. %d'\"))\n",
    "\n",
    "    # return the axes in case we want to further tweak the plot outside the function\n",
    "    return axs\n",
    "\n",
    "\n",
    "def delay_type_plot(df, start, end):\n",
    "    \"\"\"\n",
    "    Make bar charts for total minutes, average minutes, and number of\n",
    "    occurrences for each delay type, for all flights that were scheduled\n",
    "    between `start` date and `end` date\n",
    "    \"\"\"\n",
    "    sub_df = df.loc[\n",
    "        (df[\"Date\"] >= start) & (df[\"Date\"] <= end)\n",
    "    ]\n",
    "\n",
    "    def positive(df):\n",
    "        return (df > 0).sum()\n",
    "\n",
    "    aggs = sub_df.groupby(\"Carrier\")[delay_cols].agg([\"sum\", \"mean\", positive])\n",
    "\n",
    "    reshaped = aggs.stack().T.swaplevel(axis=1).sort_index(axis=1)\n",
    "\n",
    "    for agg in [\"mean\", \"sum\", \"positive\"]:\n",
    "        axs = reshaped[agg].plot(\n",
    "            kind=\"bar\", subplots=True, layout=(4, 3), figsize=(10, 8), legend=False,\n",
    "            sharex=True, sharey=True\n",
    "        )\n",
    "        fig = axs[0, 0].get_figure()\n",
    "        fig.suptitle(agg)\n",
    "#         fig.tight_layout();"
   ]
  },
  {
   "cell_type": "markdown",
   "id": "bff6b4dc",
   "metadata": {},
   "source": [
    "````{admonition} Exercise\n",
    ":name: pd-grp-dir5\n",
    "See exercise 5 in the {ref}`exercise list <pd-grp-ex>`.\n",
    "````\n",
    "\n",
    "Now let's look at that plot at a daily frequency. (Note that we need the\n",
    "figure to be a bit wider in order to see the dates.)"
   ]
  },
  {
   "cell_type": "code",
   "execution_count": null,
   "id": "a2b100ac",
   "metadata": {},
   "outputs": [],
   "source": [
    "mean_delay_plot(air_dec, \"D\", figsize=(16, 8));"
   ]
  },
  {
   "cell_type": "markdown",
   "id": "bfcfb79d",
   "metadata": {},
   "source": [
    "As we expected given our analysis above, the longest average delays\n",
    "seemed to happen in the third week.\n",
    "\n",
    "In particular, it looks like December 17th and 18th had — on average —\n",
    "higher delays than other days in December.\n",
    "\n",
    "Let's use the `delay_type_plot` function to determine the cause of the\n",
    "delays on those two days.\n",
    "\n",
    "Because our analysis is captured in a single function, we can look at\n",
    "the days together and separately without much effort."
   ]
  },
  {
   "cell_type": "code",
   "execution_count": null,
   "id": "885c3a9e",
   "metadata": {},
   "outputs": [],
   "source": [
    "# both days\n",
    "delay_type_plot(air_dec, \"12-17-16\", \"12-18-16\")"
   ]
  },
  {
   "cell_type": "code",
   "execution_count": null,
   "id": "46fdabf7",
   "metadata": {},
   "outputs": [],
   "source": [
    "# only the 17th\n",
    "delay_type_plot(air_dec, \"12-17-16\", \"12-17-16\")"
   ]
  },
  {
   "cell_type": "code",
   "execution_count": null,
   "id": "3598b26e",
   "metadata": {},
   "outputs": [],
   "source": [
    "# only the 18th\n",
    "delay_type_plot(air_dec, \"12-18-16\", \"12-18-16\")"
   ]
  },
  {
   "cell_type": "markdown",
   "id": "f2c17e77",
   "metadata": {},
   "source": [
    "The purpose of this exercise was to drive home the ability to *automate*\n",
    "tasks.\n",
    "\n",
    "We were able to write a pair of `functions` that allows us to easily\n",
    "repeat the exact same analysis on different subsets of the data, or\n",
    "different datasets entirely (e.g. we could do the same analysis on\n",
    "November 2016 data, with two lines of code).\n",
    "\n",
    "These principles can be applied in many settings.\n",
    "\n",
    "Keep that in mind as we work through the rest of the materials.\n",
    "\n",
    "## Exercise: Cohort Analysis using Shopify Data\n",
    "\n",
    "The `qeds` library includes routines to simulate data sets in the\n",
    "format of common sources\n",
    "\n",
    "One of these sources is [Shopify](https://www.shopify.com/) — an\n",
    "e-commerce platform used by many retail companies for online sales\n",
    "\n",
    "The code below will simulate a fairly large data set that has the\n",
    "properties of a order-detail report from Shopify\n",
    "\n",
    "We'll first look at the data, and then describe the exercise"
   ]
  },
  {
   "cell_type": "code",
   "execution_count": null,
   "id": "d70b35e2",
   "metadata": {},
   "outputs": [],
   "source": [
    "# Set the \"randomness\" seeds\n",
    "random.seed(42)\n",
    "np.random.seed(42)\n",
    "\n",
    "url = \"https://datascience.quantecon.org/assets/data/shopify_orders.csv.zip\"\n",
    "orders = pd.read_csv(url)\n",
    "orders.info()\n",
    "\n",
    "orders.head()"
   ]
  },
  {
   "cell_type": "markdown",
   "id": "935fbb50",
   "metadata": {},
   "source": [
    "We define a customer's cohort as the month in which a customer placed\n",
    "their first order and the customer type as an indicator of whether this\n",
    "was their first order or a returning order.\n",
    "\n",
    "We now describe the *want* for the exercise, which we ask you to\n",
    "complete.\n",
    "\n",
    "**Want**: Compute the monthly total number of orders, total sales, and\n",
    "total quantity separated by customer cohort and customer type.\n",
    "\n",
    "Read that carefully one more time...\n",
    "\n",
    "### Extended Exercise\n",
    "\n",
    "Using the reshape and `groupby` tools you have learned, apply the want\n",
    "operator described above.\n",
    "\n",
    "See below for advice on how to proceed.\n",
    "\n",
    "When you are finished, you should have something that looks like this:\n",
    "\n",
    "```{figure} ../_static/groupby_cohort_analysis_exercise_output.png\n",
    ":alt: groupby\\_cohort\\_analysis\\_exercise\\_output.png\n",
    "```\n",
    "\n",
    "Two notes on the table above:\n",
    "\n",
    "Your actual output will be much bigger. This is just to give you an\n",
    ": idea of what it might look like.\n",
    "\n",
    "The numbers you produce should actually be the same as what are\n",
    ": included in this table... Index into your answer and compare what you\n",
    "  have with this table to verify your progress.\n",
    "\n",
    "\n",
    "\n",
    "Now, how to do it?\n",
    "\n",
    "There is more than one way to code this, but here are some suggested\n",
    "steps.\n",
    "\n",
    "1. Convert the `Day` column to have a `datetime` `dtype` instead\n",
    "   of object.\n",
    "    - ```{hint}\n",
    "      Use the `pd.to_datetime` function.\n",
    "      ```\n",
    "1. Add a new column that specifies the date associated with each\n",
    "   customer's `\"First-time\"` order.\n",
    "    - ```{hint}\n",
    "      You can do this with a combination of `groupby` and\n",
    "      `join`.\n",
    "      ```\n",
    "    - ```{hint}\n",
    "      `customer_type` is always one of `Returning` and `First-time`.\n",
    "      ```\n",
    "    - ```{hint}\n",
    "      Some customers don't have a `customer_type == \"First-time\"` entry. You will need to set the\n",
    "      value for these users to some date that precedes the dates in the\n",
    "      sample. After adding valid data back into `orders` DataFrame,\n",
    "      you can identify which customers don't have a `\"First-Time\"`\n",
    "      entry by checking for missing data in the new column.\n",
    "      ```\n",
    "1. You'll need to group by 3 things.\n",
    "1. You can apply one of the built-in aggregation functions to the GroupBy.\n",
    "1. After doing the aggregation, you'll need to use your reshaping skills to\n",
    "   move things to the right place in rows and columns.\n",
    "\n",
    "Good luck!\n",
    "\n",
    "(pd-grp-ex)=\n",
    "## Exercises\n",
    "\n",
    "### Exercise 1\n",
    "\n",
    "Look closely at the output of the cells below.\n",
    "\n",
    "How did pandas compute the sum of `gbA`? What happened to the `NaN`\n",
    "entries in column `C`?\n",
    "\n",
    "Write your thoughts.\n",
    "\n",
    "```{hint}\n",
    "Try `gbA.count()` or `gbA.mean()` if you can't decide what\n",
    "happened to the `NaN`.\n",
    "```"
   ]
  },
  {
   "cell_type": "code",
   "execution_count": null,
   "id": "e1d7616d",
   "metadata": {
    "tags": [
     "remove-output"
    ]
   },
   "outputs": [],
   "source": [
    "df"
   ]
  },
  {
   "cell_type": "code",
   "execution_count": null,
   "id": "0f92421d",
   "metadata": {
    "tags": [
     "remove-output"
    ]
   },
   "outputs": [],
   "source": [
    "gbA.sum()"
   ]
  },
  {
   "cell_type": "markdown",
   "id": "505f37b1",
   "metadata": {},
   "source": [
    "({ref}`back to text <pd-grp-dir1>`)\n",
    "\n",
    "### Exercise 2\n",
    "\n",
    "Use introspection (tab completion) to see what other aggregations are\n",
    "defined for GroupBy objects.\n",
    "\n",
    "Pick three and evaluate them in the cells below.\n",
    "\n",
    "Does the output of each of these commands have the same features as the\n",
    "output of `gbA.sum()` from above? If not, what is different?"
   ]
  },
  {
   "cell_type": "code",
   "execution_count": null,
   "id": "31f58338",
   "metadata": {},
   "outputs": [],
   "source": [
    "# method 1"
   ]
  },
  {
   "cell_type": "code",
   "execution_count": null,
   "id": "bee344d3",
   "metadata": {},
   "outputs": [],
   "source": [
    "# method 2"
   ]
  },
  {
   "cell_type": "code",
   "execution_count": null,
   "id": "2fe3177f",
   "metadata": {},
   "outputs": [],
   "source": [
    "# method 3"
   ]
  },
  {
   "cell_type": "markdown",
   "id": "2109f024",
   "metadata": {},
   "source": [
    "({ref}`back to text <pd-grp-dir2>`)\n",
    "\n",
    "### Exercise 3\n",
    "\n",
    "```{note} \n",
    "This exercise has a few steps:\n",
    "```\n",
    "\n",
    "1. Write a function that, given a DataFrame, computes each entry's\n",
    "deviation from the mean of its column.\n",
    "2. Apply the function to `gbA`.\n",
    "3. With your neighbor describe what the index and and columns are? Where\n",
    "are the group keys (the `A` column)?\n",
    "4. Determine the correct way to add these results back into `df` as\n",
    "new columns. \n",
    "    - ```{hint}\n",
    "      Remember the {doc}`merge<merge>` lecture.\n",
    "      ```"
   ]
  },
  {
   "cell_type": "code",
   "execution_count": null,
   "id": "cfe60de0",
   "metadata": {},
   "outputs": [],
   "source": [
    "# write function here\n",
    "\n",
    "\n",
    "# apply function here"
   ]
  },
  {
   "cell_type": "code",
   "execution_count": null,
   "id": "65899b3c",
   "metadata": {},
   "outputs": [],
   "source": [
    "# add output of function as new columns to df here..."
   ]
  },
  {
   "cell_type": "markdown",
   "id": "cc3f319d",
   "metadata": {},
   "source": [
    "Note that if the group keys remained in the index as the `.apply`'s output, the merge/join step would have been complicated.\n",
    "\n",
    "({ref}`back to text <pd-grp-dir3>`)\n",
    "\n",
    "### Exercise 4\n",
    "\n",
    "Think about what is shown in the the plots above.\n",
    "\n",
    "Answer questions like:\n",
    "\n",
    "- Which type of delay was the most common?\n",
    "- Which one caused the largest average delay?\n",
    "- Does that vary by airline?\n",
    "\n",
    "Write your thoughts."
   ]
  },
  {
   "cell_type": "code",
   "execution_count": null,
   "id": "951577ac",
   "metadata": {},
   "outputs": [],
   "source": [
    "# your code here if needed"
   ]
  },
  {
   "cell_type": "markdown",
   "id": "5dc152ef",
   "metadata": {},
   "source": [
    "({ref}`back to text <pd-grp-dir4>`)\n",
    "\n",
    "### Exercise 5\n",
    "\n",
    "Verify that we wrote the functions properly by setting the arguments to\n",
    "appropriate values to replicate the plots from above."
   ]
  },
  {
   "cell_type": "code",
   "execution_count": null,
   "id": "708df6a2",
   "metadata": {},
   "outputs": [],
   "source": [
    "# call mean_delay_plot here"
   ]
  },
  {
   "cell_type": "code",
   "execution_count": null,
   "id": "1f919bd6",
   "metadata": {},
   "outputs": [],
   "source": [
    "# call delay_type_plot here"
   ]
  },
  {
   "cell_type": "markdown",
   "id": "7f6f3aaa",
   "metadata": {},
   "source": [
    "({ref}`back to text <pd-grp-dir5>`)"
   ]
  }
 ],
 "metadata": {
  "jupytext": {
   "text_representation": {
    "extension": ".md",
    "format_name": "myst"
   }
  },
  "kernelspec": {
   "display_name": "Python 3",
   "language": "python",
   "name": "python3"
  },
  "source_map": [
   10,
   37,
   48,
   73,
   82,
   95,
   97,
   102,
   104,
   111,
   115,
   117,
   137,
   142,
   144,
   149,
   151,
   175,
   179,
   184,
   186,
   191,
   193,
   210,
   214,
   219,
   221,
   253,
   262,
   266,
   268,
   272,
   274,
   278,
   280,
   285,
   287,
   294,
   297,
   302,
   311,
   315,
   326,
   337,
   345,
   349,
   360,
   376,
   387,
   396,
   422,
   476,
   486,
   488,
   502,
   507,
   512,
   515,
   542,
   552,
   640,
   645,
   648,
   662,
   666,
   670,
   672,
   693,
   700,
   702,
   720,
   722,
   731,
   735,
   737
  ]
 },
 "nbformat": 4,
 "nbformat_minor": 5
}