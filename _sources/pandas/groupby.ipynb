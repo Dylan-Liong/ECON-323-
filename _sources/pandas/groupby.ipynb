{
 "cells": [
  {
   "cell_type": "markdown",
   "id": "2741d460",
   "metadata": {},
   "source": [
    "# GroupBy\n",
    "\n",
    "**Prerequisites**\n",
    "\n",
    "- {doc}`Functions <../python_fundamentals/functions>`\n",
    "- pandas introduction {doc}`1 <intro>` and {doc}`2 <basics>`\n",
    "- {doc}`Reshape <reshape>`\n",
    "\n",
    "**Outcomes**\n",
    "\n",
    "- Understand the split-apply-combine strategy for aggregate\n",
    "  computations on groups of data\n",
    "- Be able use basic aggregation methods on `df.groupby` to compute\n",
    "  within group statistics\n",
    "- Understand how to group by multiple keys at once\n",
    "\n",
    "**Data**\n",
    "\n",
    "- Details for all delayed US domestic flights in December 2016,\n",
    "  obtained from the [Bureau of Transportation\n",
    "  Statistics](https://www.transtats.bts.gov/OT_Delay/OT_DelayCause1.asp)\n",
    "  \n",
    "```{literalinclude} ../_static/colab_light.raw\n",
    "```"
   ]
  },
  {
   "cell_type": "code",
   "execution_count": 1,
   "id": "7c383fec",
   "metadata": {},
   "outputs": [],
   "source": [
    "import random\n",
    "import numpy as np\n",
    "import pandas as pd\n",
    "import qeds\n",
    "import matplotlib.pyplot as plt\n",
    "\n",
    "%matplotlib inline\n",
    "# activate plot theme\n",
    "import qeds\n",
    "qeds.themes.mpl_style();"
   ]
  },
  {
   "cell_type": "markdown",
   "id": "51e046a7",
   "metadata": {},
   "source": [
    "## Split-Apply-Combine\n",
    "\n",
    "One powerful paradigm for analyzing data is the \"Split-Apply-Combine\"\n",
    "strategy.\n",
    "\n",
    "This strategy has three steps:\n",
    "\n",
    "1. `Split`: split the data into groups based on values in one or more columns.\n",
    "1. `Apply`: apply a function or routine to each group separately.\n",
    "1. `Combine`: combine the output of the apply step into a DataFrame,\n",
    "   using the group identifiers as the index.\n",
    "\n",
    "We will cover the main components in this lecture, but we encourage you\n",
    "to also study the [official\n",
    "documentation](https://pandas.pydata.org/pandas-docs/stable/groupby.html)\n",
    "to learn more about what is possible.\n",
    "\n",
    "To describe the concepts, we will need some data.\n",
    "\n",
    "We will begin with a simple made-up dataset to discuss the concepts and\n",
    "then work through extended example and exercises with real data."
   ]
  },
  {
   "cell_type": "code",
   "execution_count": 2,
   "id": "3d034b9c",
   "metadata": {},
   "outputs": [
    {
     "data": {
      "text/html": [
       "<div>\n",
       "<style scoped>\n",
       "    .dataframe tbody tr th:only-of-type {\n",
       "        vertical-align: middle;\n",
       "    }\n",
       "\n",
       "    .dataframe tbody tr th {\n",
       "        vertical-align: top;\n",
       "    }\n",
       "\n",
       "    .dataframe thead th {\n",
       "        text-align: right;\n",
       "    }\n",
       "</style>\n",
       "<table border=\"1\" class=\"dataframe\">\n",
       "  <thead>\n",
       "    <tr style=\"text-align: right;\">\n",
       "      <th></th>\n",
       "      <th>A</th>\n",
       "      <th>B</th>\n",
       "      <th>C</th>\n",
       "    </tr>\n",
       "  </thead>\n",
       "  <tbody>\n",
       "    <tr>\n",
       "      <th>0</th>\n",
       "      <td>1</td>\n",
       "      <td>1</td>\n",
       "      <td>1.0</td>\n",
       "    </tr>\n",
       "    <tr>\n",
       "      <th>1</th>\n",
       "      <td>1</td>\n",
       "      <td>1</td>\n",
       "      <td>2.0</td>\n",
       "    </tr>\n",
       "    <tr>\n",
       "      <th>2</th>\n",
       "      <td>1</td>\n",
       "      <td>2</td>\n",
       "      <td>3.0</td>\n",
       "    </tr>\n",
       "    <tr>\n",
       "      <th>3</th>\n",
       "      <td>2</td>\n",
       "      <td>2</td>\n",
       "      <td>NaN</td>\n",
       "    </tr>\n",
       "    <tr>\n",
       "      <th>4</th>\n",
       "      <td>2</td>\n",
       "      <td>1</td>\n",
       "      <td>5.0</td>\n",
       "    </tr>\n",
       "    <tr>\n",
       "      <th>5</th>\n",
       "      <td>2</td>\n",
       "      <td>1</td>\n",
       "      <td>NaN</td>\n",
       "    </tr>\n",
       "  </tbody>\n",
       "</table>\n",
       "</div>"
      ],
      "text/plain": [
       "   A  B    C\n",
       "0  1  1  1.0\n",
       "1  1  1  2.0\n",
       "2  1  2  3.0\n",
       "3  2  2  NaN\n",
       "4  2  1  5.0\n",
       "5  2  1  NaN"
      ]
     },
     "execution_count": 2,
     "metadata": {},
     "output_type": "execute_result"
    }
   ],
   "source": [
    "C = np.arange(1, 7, dtype=float)\n",
    "C[[3, 5]] = np.nan\n",
    "df = pd.DataFrame({\n",
    "    \"A\" : [1, 1, 1, 2, 2, 2],\n",
    "    \"B\" : [1, 1, 2, 2, 1, 1],\n",
    "    \"C\": C,\n",
    "})\n",
    "df"
   ]
  },
  {
   "cell_type": "markdown",
   "id": "2fd894ab",
   "metadata": {},
   "source": [
    "### Simple Example\n",
    "\n",
    "To perform the *Split* step, we call the `groupby` method on our\n",
    "DataFrame.\n",
    "\n",
    "The first argument to `groupby` is a description of how we want to\n",
    "construct groups.\n",
    "\n",
    "In the most basic version, we will pass a string identifying the column\n",
    "name."
   ]
  },
  {
   "cell_type": "code",
   "execution_count": 3,
   "id": "222b3e92",
   "metadata": {},
   "outputs": [],
   "source": [
    "gbA = df.groupby(\"A\")"
   ]
  },
  {
   "cell_type": "markdown",
   "id": "78bed9fe",
   "metadata": {},
   "source": [
    "The `type` of variable we get back is a `DataFrameGroupBy`, which we\n",
    "will sometimes refer to as GroupBy for short."
   ]
  },
  {
   "cell_type": "code",
   "execution_count": 4,
   "id": "d1739c8e",
   "metadata": {},
   "outputs": [
    {
     "data": {
      "text/plain": [
       "pandas.core.groupby.generic.DataFrameGroupBy"
      ]
     },
     "execution_count": 4,
     "metadata": {},
     "output_type": "execute_result"
    }
   ],
   "source": [
    "type(gbA)"
   ]
  },
  {
   "cell_type": "markdown",
   "id": "51213d5c",
   "metadata": {},
   "source": [
    "Looking at the \"groups\" inside of the GroupBy object can help us\n",
    "understand what the GroupBy represents.\n",
    "\n",
    "We can do this with the `gb.get_group(group_name)` method."
   ]
  },
  {
   "cell_type": "code",
   "execution_count": 5,
   "id": "8f878174",
   "metadata": {},
   "outputs": [
    {
     "data": {
      "text/html": [
       "<div>\n",
       "<style scoped>\n",
       "    .dataframe tbody tr th:only-of-type {\n",
       "        vertical-align: middle;\n",
       "    }\n",
       "\n",
       "    .dataframe tbody tr th {\n",
       "        vertical-align: top;\n",
       "    }\n",
       "\n",
       "    .dataframe thead th {\n",
       "        text-align: right;\n",
       "    }\n",
       "</style>\n",
       "<table border=\"1\" class=\"dataframe\">\n",
       "  <thead>\n",
       "    <tr style=\"text-align: right;\">\n",
       "      <th></th>\n",
       "      <th>A</th>\n",
       "      <th>B</th>\n",
       "      <th>C</th>\n",
       "    </tr>\n",
       "  </thead>\n",
       "  <tbody>\n",
       "    <tr>\n",
       "      <th>0</th>\n",
       "      <td>1</td>\n",
       "      <td>1</td>\n",
       "      <td>1.0</td>\n",
       "    </tr>\n",
       "    <tr>\n",
       "      <th>1</th>\n",
       "      <td>1</td>\n",
       "      <td>1</td>\n",
       "      <td>2.0</td>\n",
       "    </tr>\n",
       "    <tr>\n",
       "      <th>2</th>\n",
       "      <td>1</td>\n",
       "      <td>2</td>\n",
       "      <td>3.0</td>\n",
       "    </tr>\n",
       "  </tbody>\n",
       "</table>\n",
       "</div>"
      ],
      "text/plain": [
       "   A  B    C\n",
       "0  1  1  1.0\n",
       "1  1  1  2.0\n",
       "2  1  2  3.0"
      ]
     },
     "execution_count": 5,
     "metadata": {},
     "output_type": "execute_result"
    }
   ],
   "source": [
    "gbA.get_group(1)"
   ]
  },
  {
   "cell_type": "code",
   "execution_count": 6,
   "id": "a89cc1fb",
   "metadata": {},
   "outputs": [
    {
     "data": {
      "text/html": [
       "<div>\n",
       "<style scoped>\n",
       "    .dataframe tbody tr th:only-of-type {\n",
       "        vertical-align: middle;\n",
       "    }\n",
       "\n",
       "    .dataframe tbody tr th {\n",
       "        vertical-align: top;\n",
       "    }\n",
       "\n",
       "    .dataframe thead th {\n",
       "        text-align: right;\n",
       "    }\n",
       "</style>\n",
       "<table border=\"1\" class=\"dataframe\">\n",
       "  <thead>\n",
       "    <tr style=\"text-align: right;\">\n",
       "      <th></th>\n",
       "      <th>A</th>\n",
       "      <th>B</th>\n",
       "      <th>C</th>\n",
       "    </tr>\n",
       "  </thead>\n",
       "  <tbody>\n",
       "    <tr>\n",
       "      <th>3</th>\n",
       "      <td>2</td>\n",
       "      <td>2</td>\n",
       "      <td>NaN</td>\n",
       "    </tr>\n",
       "    <tr>\n",
       "      <th>4</th>\n",
       "      <td>2</td>\n",
       "      <td>1</td>\n",
       "      <td>5.0</td>\n",
       "    </tr>\n",
       "    <tr>\n",
       "      <th>5</th>\n",
       "      <td>2</td>\n",
       "      <td>1</td>\n",
       "      <td>NaN</td>\n",
       "    </tr>\n",
       "  </tbody>\n",
       "</table>\n",
       "</div>"
      ],
      "text/plain": [
       "   A  B    C\n",
       "3  2  2  NaN\n",
       "4  2  1  5.0\n",
       "5  2  1  NaN"
      ]
     },
     "execution_count": 6,
     "metadata": {},
     "output_type": "execute_result"
    }
   ],
   "source": [
    "gbA.get_group(2)"
   ]
  },
  {
   "cell_type": "markdown",
   "id": "a6f23fd5",
   "metadata": {},
   "source": [
    "We can *apply* some of our favorite aggregation functions directly on the\n",
    "`GroupBy` object.\n",
    "\n",
    "````{admonition} Exercise\n",
    ":name: pd-grp-dir1\n",
    "See exercise 1 in the {ref}`exercise list <pd-grp-ex>`.\n",
    "````\n",
    "````{admonition} Exercise\n",
    ":name: pd-grp-dir2\n",
    "See exercise 2 in the {ref}`exercise list <pd-grp-ex>`.\n",
    "````\n",
    "\n",
    "\n",
    "If we pass a list of strings to `groupby`, it will group based on\n",
    "unique combinations of values from all columns in the list.\n",
    "\n",
    "Let's see an example."
   ]
  },
  {
   "cell_type": "code",
   "execution_count": 7,
   "id": "e1310605",
   "metadata": {},
   "outputs": [
    {
     "data": {
      "text/plain": [
       "pandas.core.groupby.generic.DataFrameGroupBy"
      ]
     },
     "execution_count": 7,
     "metadata": {},
     "output_type": "execute_result"
    }
   ],
   "source": [
    "gbAB = df.groupby([\"A\", \"B\"])\n",
    "type(gbAB)"
   ]
  },
  {
   "cell_type": "code",
   "execution_count": 8,
   "id": "704b2c22",
   "metadata": {},
   "outputs": [
    {
     "data": {
      "text/html": [
       "<div>\n",
       "<style scoped>\n",
       "    .dataframe tbody tr th:only-of-type {\n",
       "        vertical-align: middle;\n",
       "    }\n",
       "\n",
       "    .dataframe tbody tr th {\n",
       "        vertical-align: top;\n",
       "    }\n",
       "\n",
       "    .dataframe thead th {\n",
       "        text-align: right;\n",
       "    }\n",
       "</style>\n",
       "<table border=\"1\" class=\"dataframe\">\n",
       "  <thead>\n",
       "    <tr style=\"text-align: right;\">\n",
       "      <th></th>\n",
       "      <th>A</th>\n",
       "      <th>B</th>\n",
       "      <th>C</th>\n",
       "    </tr>\n",
       "  </thead>\n",
       "  <tbody>\n",
       "    <tr>\n",
       "      <th>0</th>\n",
       "      <td>1</td>\n",
       "      <td>1</td>\n",
       "      <td>1.0</td>\n",
       "    </tr>\n",
       "    <tr>\n",
       "      <th>1</th>\n",
       "      <td>1</td>\n",
       "      <td>1</td>\n",
       "      <td>2.0</td>\n",
       "    </tr>\n",
       "  </tbody>\n",
       "</table>\n",
       "</div>"
      ],
      "text/plain": [
       "   A  B    C\n",
       "0  1  1  1.0\n",
       "1  1  1  2.0"
      ]
     },
     "execution_count": 8,
     "metadata": {},
     "output_type": "execute_result"
    }
   ],
   "source": [
    "gbAB.get_group((1, 1))"
   ]
  },
  {
   "cell_type": "markdown",
   "id": "21a006c2",
   "metadata": {},
   "source": [
    "Notice that we still have a GroupBy object, so we can apply our favorite\n",
    "aggregations."
   ]
  },
  {
   "cell_type": "code",
   "execution_count": 9,
   "id": "a42e2428",
   "metadata": {},
   "outputs": [
    {
     "data": {
      "text/html": [
       "<div>\n",
       "<style scoped>\n",
       "    .dataframe tbody tr th:only-of-type {\n",
       "        vertical-align: middle;\n",
       "    }\n",
       "\n",
       "    .dataframe tbody tr th {\n",
       "        vertical-align: top;\n",
       "    }\n",
       "\n",
       "    .dataframe thead th {\n",
       "        text-align: right;\n",
       "    }\n",
       "</style>\n",
       "<table border=\"1\" class=\"dataframe\">\n",
       "  <thead>\n",
       "    <tr style=\"text-align: right;\">\n",
       "      <th></th>\n",
       "      <th></th>\n",
       "      <th>C</th>\n",
       "    </tr>\n",
       "    <tr>\n",
       "      <th>A</th>\n",
       "      <th>B</th>\n",
       "      <th></th>\n",
       "    </tr>\n",
       "  </thead>\n",
       "  <tbody>\n",
       "    <tr>\n",
       "      <th rowspan=\"2\" valign=\"top\">1</th>\n",
       "      <th>1</th>\n",
       "      <td>2</td>\n",
       "    </tr>\n",
       "    <tr>\n",
       "      <th>2</th>\n",
       "      <td>1</td>\n",
       "    </tr>\n",
       "    <tr>\n",
       "      <th rowspan=\"2\" valign=\"top\">2</th>\n",
       "      <th>1</th>\n",
       "      <td>1</td>\n",
       "    </tr>\n",
       "    <tr>\n",
       "      <th>2</th>\n",
       "      <td>0</td>\n",
       "    </tr>\n",
       "  </tbody>\n",
       "</table>\n",
       "</div>"
      ],
      "text/plain": [
       "     C\n",
       "A B   \n",
       "1 1  2\n",
       "  2  1\n",
       "2 1  1\n",
       "  2  0"
      ]
     },
     "execution_count": 9,
     "metadata": {},
     "output_type": "execute_result"
    }
   ],
   "source": [
    "gbAB.count()"
   ]
  },
  {
   "cell_type": "markdown",
   "id": "20eeae12",
   "metadata": {},
   "source": [
    "Notice that the output is a DataFrame with two levels on the index\n",
    "and a single column `C`. (Quiz: how do we know it is a DataFrame with\n",
    "one column and not a Series?)\n",
    "\n",
    "This highlights a principle of how pandas handles the *Combine* part of\n",
    "the strategy:\n",
    "\n",
    "> The index of the combined DataFrame will be the group identifiers,\n",
    "> with one index level per group key.\n",
    "\n",
    "### Custom Aggregate Functions\n",
    "\n",
    "So far, we have been applying built-in aggregations to our GroupBy object.\n",
    "\n",
    "We can also apply custom aggregations to each group of a GroupBy in two\n",
    "steps:\n",
    "\n",
    "1. Write our custom aggregation as a Python function.\n",
    "1. Passing our function as an argument to the `.agg` method of a GroupBy.\n",
    "\n",
    "Let's see an example."
   ]
  },
  {
   "cell_type": "code",
   "execution_count": 10,
   "id": "3327bacb",
   "metadata": {},
   "outputs": [],
   "source": [
    "def num_missing(df):\n",
    "    \"Return the number of missing items in each column of df\"\n",
    "    return df.isnull().sum()"
   ]
  },
  {
   "cell_type": "markdown",
   "id": "ce0dcda7",
   "metadata": {},
   "source": [
    "We can call this function on our original DataFrame to get the number of\n",
    "missing items in each column."
   ]
  },
  {
   "cell_type": "code",
   "execution_count": 11,
   "id": "7c78d19c",
   "metadata": {},
   "outputs": [
    {
     "data": {
      "text/plain": [
       "A    0\n",
       "B    0\n",
       "C    2\n",
       "dtype: int64"
      ]
     },
     "execution_count": 11,
     "metadata": {},
     "output_type": "execute_result"
    }
   ],
   "source": [
    "num_missing(df)"
   ]
  },
  {
   "cell_type": "markdown",
   "id": "9bb4d8cc",
   "metadata": {},
   "source": [
    "We can also apply it to a GroupBy object to get the number of missing\n",
    "items in each column *for each group*."
   ]
  },
  {
   "cell_type": "code",
   "execution_count": 12,
   "id": "b2b7596e",
   "metadata": {},
   "outputs": [
    {
     "data": {
      "text/html": [
       "<div>\n",
       "<style scoped>\n",
       "    .dataframe tbody tr th:only-of-type {\n",
       "        vertical-align: middle;\n",
       "    }\n",
       "\n",
       "    .dataframe tbody tr th {\n",
       "        vertical-align: top;\n",
       "    }\n",
       "\n",
       "    .dataframe thead th {\n",
       "        text-align: right;\n",
       "    }\n",
       "</style>\n",
       "<table border=\"1\" class=\"dataframe\">\n",
       "  <thead>\n",
       "    <tr style=\"text-align: right;\">\n",
       "      <th></th>\n",
       "      <th>B</th>\n",
       "      <th>C</th>\n",
       "    </tr>\n",
       "    <tr>\n",
       "      <th>A</th>\n",
       "      <th></th>\n",
       "      <th></th>\n",
       "    </tr>\n",
       "  </thead>\n",
       "  <tbody>\n",
       "    <tr>\n",
       "      <th>1</th>\n",
       "      <td>0</td>\n",
       "      <td>0.0</td>\n",
       "    </tr>\n",
       "    <tr>\n",
       "      <th>2</th>\n",
       "      <td>0</td>\n",
       "      <td>2.0</td>\n",
       "    </tr>\n",
       "  </tbody>\n",
       "</table>\n",
       "</div>"
      ],
      "text/plain": [
       "   B    C\n",
       "A        \n",
       "1  0  0.0\n",
       "2  0  2.0"
      ]
     },
     "execution_count": 12,
     "metadata": {},
     "output_type": "execute_result"
    }
   ],
   "source": [
    "gbA.agg(num_missing)"
   ]
  },
  {
   "cell_type": "markdown",
   "id": "e96bae5d",
   "metadata": {},
   "source": [
    "The key to keep in mind is that the function we pass to `agg` should\n",
    "take in a DataFrame (or Series) and return a Series (or single value)\n",
    "with one item per column in the original DataFrame.\n",
    "\n",
    "When the function is called, the data for each group will be passed to\n",
    "our function as a DataFrame (or Series).\n",
    "\n",
    "### Transforms: The `apply` Method\n",
    "\n",
    "As we saw in the {doc}`basics lecture <basics>`, we can apply transforms to DataFrames.\n",
    "\n",
    "We can do the same with GroupBy objects using the `.apply` method.\n",
    "\n",
    "Let's see an example."
   ]
  },
  {
   "cell_type": "code",
   "execution_count": 13,
   "id": "b80b43a3",
   "metadata": {},
   "outputs": [
    {
     "data": {
      "text/html": [
       "<div>\n",
       "<style scoped>\n",
       "    .dataframe tbody tr th:only-of-type {\n",
       "        vertical-align: middle;\n",
       "    }\n",
       "\n",
       "    .dataframe tbody tr th {\n",
       "        vertical-align: top;\n",
       "    }\n",
       "\n",
       "    .dataframe thead th {\n",
       "        text-align: right;\n",
       "    }\n",
       "</style>\n",
       "<table border=\"1\" class=\"dataframe\">\n",
       "  <thead>\n",
       "    <tr style=\"text-align: right;\">\n",
       "      <th></th>\n",
       "      <th>A</th>\n",
       "      <th>B</th>\n",
       "      <th>C</th>\n",
       "    </tr>\n",
       "  </thead>\n",
       "  <tbody>\n",
       "    <tr>\n",
       "      <th>0</th>\n",
       "      <td>1</td>\n",
       "      <td>1</td>\n",
       "      <td>1.0</td>\n",
       "    </tr>\n",
       "    <tr>\n",
       "      <th>1</th>\n",
       "      <td>1</td>\n",
       "      <td>1</td>\n",
       "      <td>2.0</td>\n",
       "    </tr>\n",
       "    <tr>\n",
       "      <th>2</th>\n",
       "      <td>1</td>\n",
       "      <td>2</td>\n",
       "      <td>3.0</td>\n",
       "    </tr>\n",
       "    <tr>\n",
       "      <th>3</th>\n",
       "      <td>2</td>\n",
       "      <td>2</td>\n",
       "      <td>NaN</td>\n",
       "    </tr>\n",
       "    <tr>\n",
       "      <th>4</th>\n",
       "      <td>2</td>\n",
       "      <td>1</td>\n",
       "      <td>5.0</td>\n",
       "    </tr>\n",
       "    <tr>\n",
       "      <th>5</th>\n",
       "      <td>2</td>\n",
       "      <td>1</td>\n",
       "      <td>NaN</td>\n",
       "    </tr>\n",
       "  </tbody>\n",
       "</table>\n",
       "</div>"
      ],
      "text/plain": [
       "   A  B    C\n",
       "0  1  1  1.0\n",
       "1  1  1  2.0\n",
       "2  1  2  3.0\n",
       "3  2  2  NaN\n",
       "4  2  1  5.0\n",
       "5  2  1  NaN"
      ]
     },
     "execution_count": 13,
     "metadata": {},
     "output_type": "execute_result"
    }
   ],
   "source": [
    "df"
   ]
  },
  {
   "cell_type": "code",
   "execution_count": 14,
   "id": "5b468147",
   "metadata": {},
   "outputs": [],
   "source": [
    "def smallest_by_b(df):\n",
    "    return df.nsmallest(2, \"B\")"
   ]
  },
  {
   "cell_type": "code",
   "execution_count": 15,
   "id": "963e8641",
   "metadata": {},
   "outputs": [
    {
     "data": {
      "text/html": [
       "<div>\n",
       "<style scoped>\n",
       "    .dataframe tbody tr th:only-of-type {\n",
       "        vertical-align: middle;\n",
       "    }\n",
       "\n",
       "    .dataframe tbody tr th {\n",
       "        vertical-align: top;\n",
       "    }\n",
       "\n",
       "    .dataframe thead th {\n",
       "        text-align: right;\n",
       "    }\n",
       "</style>\n",
       "<table border=\"1\" class=\"dataframe\">\n",
       "  <thead>\n",
       "    <tr style=\"text-align: right;\">\n",
       "      <th></th>\n",
       "      <th></th>\n",
       "      <th>A</th>\n",
       "      <th>B</th>\n",
       "      <th>C</th>\n",
       "    </tr>\n",
       "    <tr>\n",
       "      <th>A</th>\n",
       "      <th></th>\n",
       "      <th></th>\n",
       "      <th></th>\n",
       "      <th></th>\n",
       "    </tr>\n",
       "  </thead>\n",
       "  <tbody>\n",
       "    <tr>\n",
       "      <th rowspan=\"2\" valign=\"top\">1</th>\n",
       "      <th>0</th>\n",
       "      <td>1</td>\n",
       "      <td>1</td>\n",
       "      <td>1.0</td>\n",
       "    </tr>\n",
       "    <tr>\n",
       "      <th>1</th>\n",
       "      <td>1</td>\n",
       "      <td>1</td>\n",
       "      <td>2.0</td>\n",
       "    </tr>\n",
       "    <tr>\n",
       "      <th rowspan=\"2\" valign=\"top\">2</th>\n",
       "      <th>4</th>\n",
       "      <td>2</td>\n",
       "      <td>1</td>\n",
       "      <td>5.0</td>\n",
       "    </tr>\n",
       "    <tr>\n",
       "      <th>5</th>\n",
       "      <td>2</td>\n",
       "      <td>1</td>\n",
       "      <td>NaN</td>\n",
       "    </tr>\n",
       "  </tbody>\n",
       "</table>\n",
       "</div>"
      ],
      "text/plain": [
       "     A  B    C\n",
       "A             \n",
       "1 0  1  1  1.0\n",
       "  1  1  1  2.0\n",
       "2 4  2  1  5.0\n",
       "  5  2  1  NaN"
      ]
     },
     "execution_count": 15,
     "metadata": {},
     "output_type": "execute_result"
    }
   ],
   "source": [
    "gbA.apply(smallest_by_b)"
   ]
  },
  {
   "cell_type": "markdown",
   "id": "20554b1f",
   "metadata": {},
   "source": [
    "Notice that the return value from applying our series transform to `gbA`\n",
    "was the group key on the outer level (the `A` column) and the original\n",
    "index from `df` on the inner level.\n",
    "\n",
    "The original index came along because that was the index of the\n",
    "DataFrame returned by `smallest_by_b`.\n",
    "\n",
    "Had our function returned something other than the index from `df`,\n",
    "that would appear in the result of the call to `.apply`.\n",
    "\n",
    "````{admonition} Exercise\n",
    ":name: pd-grp-dir3\n",
    "See exercise 3 in the {ref}`exercise list <pd-grp-ex>`.\n",
    "````\n",
    "\n",
    "### `pd.Grouper`\n",
    "\n",
    "Sometimes, in order to construct the groups you want, you need to give\n",
    "pandas more information than just a column name.\n",
    "\n",
    "Some examples are:\n",
    "\n",
    "- Grouping by a column and a level of the index.\n",
    "- Grouping time series data at a particular frequency.\n",
    "\n",
    "pandas lets you do this through the `pd.Grouper` type.\n",
    "\n",
    "To see it in action, let's make a copy of `df` with `A` moved to the\n",
    "index and a `Date` column added."
   ]
  },
  {
   "cell_type": "code",
   "execution_count": 16,
   "id": "9435c36b",
   "metadata": {},
   "outputs": [
    {
     "name": "stderr",
     "output_type": "stream",
     "text": [
      "<ipython-input-16-66f059155868>:3: FutureWarning: The pandas.datetime class is deprecated and will be removed from pandas in a future version. Import from datetime module instead.\n",
      "  start=pd.datetime.today().strftime(\"%m/%d/%Y\"),\n"
     ]
    },
    {
     "data": {
      "text/html": [
       "<div>\n",
       "<style scoped>\n",
       "    .dataframe tbody tr th:only-of-type {\n",
       "        vertical-align: middle;\n",
       "    }\n",
       "\n",
       "    .dataframe tbody tr th {\n",
       "        vertical-align: top;\n",
       "    }\n",
       "\n",
       "    .dataframe thead th {\n",
       "        text-align: right;\n",
       "    }\n",
       "</style>\n",
       "<table border=\"1\" class=\"dataframe\">\n",
       "  <thead>\n",
       "    <tr style=\"text-align: right;\">\n",
       "      <th></th>\n",
       "      <th>B</th>\n",
       "      <th>C</th>\n",
       "      <th>Date</th>\n",
       "    </tr>\n",
       "    <tr>\n",
       "      <th>A</th>\n",
       "      <th></th>\n",
       "      <th></th>\n",
       "      <th></th>\n",
       "    </tr>\n",
       "  </thead>\n",
       "  <tbody>\n",
       "    <tr>\n",
       "      <th>1</th>\n",
       "      <td>1</td>\n",
       "      <td>1.0</td>\n",
       "      <td>2021-06-30</td>\n",
       "    </tr>\n",
       "    <tr>\n",
       "      <th>1</th>\n",
       "      <td>1</td>\n",
       "      <td>2.0</td>\n",
       "      <td>2021-09-30</td>\n",
       "    </tr>\n",
       "    <tr>\n",
       "      <th>1</th>\n",
       "      <td>2</td>\n",
       "      <td>3.0</td>\n",
       "      <td>2021-12-31</td>\n",
       "    </tr>\n",
       "    <tr>\n",
       "      <th>2</th>\n",
       "      <td>2</td>\n",
       "      <td>NaN</td>\n",
       "      <td>2022-03-31</td>\n",
       "    </tr>\n",
       "    <tr>\n",
       "      <th>2</th>\n",
       "      <td>1</td>\n",
       "      <td>5.0</td>\n",
       "      <td>2022-06-30</td>\n",
       "    </tr>\n",
       "    <tr>\n",
       "      <th>2</th>\n",
       "      <td>1</td>\n",
       "      <td>NaN</td>\n",
       "      <td>2022-09-30</td>\n",
       "    </tr>\n",
       "  </tbody>\n",
       "</table>\n",
       "</div>"
      ],
      "text/plain": [
       "   B    C       Date\n",
       "A                   \n",
       "1  1  1.0 2021-06-30\n",
       "1  1  2.0 2021-09-30\n",
       "1  2  3.0 2021-12-31\n",
       "2  2  NaN 2022-03-31\n",
       "2  1  5.0 2022-06-30\n",
       "2  1  NaN 2022-09-30"
      ]
     },
     "execution_count": 16,
     "metadata": {},
     "output_type": "execute_result"
    }
   ],
   "source": [
    "df2 = df.copy()\n",
    "df2[\"Date\"] = pd.date_range(\n",
    "    start=pd.datetime.today().strftime(\"%m/%d/%Y\"),\n",
    "    freq=\"BQ\",\n",
    "    periods=df.shape[0]\n",
    ")\n",
    "df2 = df2.set_index(\"A\")\n",
    "df2"
   ]
  },
  {
   "cell_type": "markdown",
   "id": "839d7748",
   "metadata": {},
   "source": [
    "We can group by year."
   ]
  },
  {
   "cell_type": "code",
   "execution_count": 17,
   "id": "3ea05410",
   "metadata": {},
   "outputs": [
    {
     "data": {
      "text/html": [
       "<div>\n",
       "<style scoped>\n",
       "    .dataframe tbody tr th:only-of-type {\n",
       "        vertical-align: middle;\n",
       "    }\n",
       "\n",
       "    .dataframe tbody tr th {\n",
       "        vertical-align: top;\n",
       "    }\n",
       "\n",
       "    .dataframe thead th {\n",
       "        text-align: right;\n",
       "    }\n",
       "</style>\n",
       "<table border=\"1\" class=\"dataframe\">\n",
       "  <thead>\n",
       "    <tr style=\"text-align: right;\">\n",
       "      <th></th>\n",
       "      <th>B</th>\n",
       "      <th>C</th>\n",
       "    </tr>\n",
       "    <tr>\n",
       "      <th>Date</th>\n",
       "      <th></th>\n",
       "      <th></th>\n",
       "    </tr>\n",
       "  </thead>\n",
       "  <tbody>\n",
       "    <tr>\n",
       "      <th>2021-12-31</th>\n",
       "      <td>3</td>\n",
       "      <td>3</td>\n",
       "    </tr>\n",
       "    <tr>\n",
       "      <th>2022-12-31</th>\n",
       "      <td>3</td>\n",
       "      <td>1</td>\n",
       "    </tr>\n",
       "  </tbody>\n",
       "</table>\n",
       "</div>"
      ],
      "text/plain": [
       "            B  C\n",
       "Date            \n",
       "2021-12-31  3  3\n",
       "2022-12-31  3  1"
      ]
     },
     "execution_count": 17,
     "metadata": {},
     "output_type": "execute_result"
    }
   ],
   "source": [
    "df2.groupby(pd.Grouper(key=\"Date\", freq=\"A\")).count()"
   ]
  },
  {
   "cell_type": "markdown",
   "id": "0dd4eb97",
   "metadata": {},
   "source": [
    "We can group by the `A` level of the index."
   ]
  },
  {
   "cell_type": "code",
   "execution_count": 18,
   "id": "149ac427",
   "metadata": {},
   "outputs": [
    {
     "data": {
      "text/html": [
       "<div>\n",
       "<style scoped>\n",
       "    .dataframe tbody tr th:only-of-type {\n",
       "        vertical-align: middle;\n",
       "    }\n",
       "\n",
       "    .dataframe tbody tr th {\n",
       "        vertical-align: top;\n",
       "    }\n",
       "\n",
       "    .dataframe thead th {\n",
       "        text-align: right;\n",
       "    }\n",
       "</style>\n",
       "<table border=\"1\" class=\"dataframe\">\n",
       "  <thead>\n",
       "    <tr style=\"text-align: right;\">\n",
       "      <th></th>\n",
       "      <th>B</th>\n",
       "      <th>C</th>\n",
       "      <th>Date</th>\n",
       "    </tr>\n",
       "    <tr>\n",
       "      <th>A</th>\n",
       "      <th></th>\n",
       "      <th></th>\n",
       "      <th></th>\n",
       "    </tr>\n",
       "  </thead>\n",
       "  <tbody>\n",
       "    <tr>\n",
       "      <th>1</th>\n",
       "      <td>3</td>\n",
       "      <td>3</td>\n",
       "      <td>3</td>\n",
       "    </tr>\n",
       "    <tr>\n",
       "      <th>2</th>\n",
       "      <td>3</td>\n",
       "      <td>1</td>\n",
       "      <td>3</td>\n",
       "    </tr>\n",
       "  </tbody>\n",
       "</table>\n",
       "</div>"
      ],
      "text/plain": [
       "   B  C  Date\n",
       "A            \n",
       "1  3  3     3\n",
       "2  3  1     3"
      ]
     },
     "execution_count": 18,
     "metadata": {},
     "output_type": "execute_result"
    }
   ],
   "source": [
    "df2.groupby(pd.Grouper(level=\"A\")).count()"
   ]
  },
  {
   "cell_type": "markdown",
   "id": "7d01f4b0",
   "metadata": {},
   "source": [
    "We can combine these to group by both."
   ]
  },
  {
   "cell_type": "code",
   "execution_count": 19,
   "id": "e1c1fc51",
   "metadata": {},
   "outputs": [
    {
     "data": {
      "text/html": [
       "<div>\n",
       "<style scoped>\n",
       "    .dataframe tbody tr th:only-of-type {\n",
       "        vertical-align: middle;\n",
       "    }\n",
       "\n",
       "    .dataframe tbody tr th {\n",
       "        vertical-align: top;\n",
       "    }\n",
       "\n",
       "    .dataframe thead th {\n",
       "        text-align: right;\n",
       "    }\n",
       "</style>\n",
       "<table border=\"1\" class=\"dataframe\">\n",
       "  <thead>\n",
       "    <tr style=\"text-align: right;\">\n",
       "      <th></th>\n",
       "      <th></th>\n",
       "      <th>B</th>\n",
       "      <th>C</th>\n",
       "    </tr>\n",
       "    <tr>\n",
       "      <th>Date</th>\n",
       "      <th>A</th>\n",
       "      <th></th>\n",
       "      <th></th>\n",
       "    </tr>\n",
       "  </thead>\n",
       "  <tbody>\n",
       "    <tr>\n",
       "      <th>2021-12-31</th>\n",
       "      <th>1</th>\n",
       "      <td>3</td>\n",
       "      <td>3</td>\n",
       "    </tr>\n",
       "    <tr>\n",
       "      <th>2022-12-31</th>\n",
       "      <th>2</th>\n",
       "      <td>3</td>\n",
       "      <td>1</td>\n",
       "    </tr>\n",
       "  </tbody>\n",
       "</table>\n",
       "</div>"
      ],
      "text/plain": [
       "              B  C\n",
       "Date       A      \n",
       "2021-12-31 1  3  3\n",
       "2022-12-31 2  3  1"
      ]
     },
     "execution_count": 19,
     "metadata": {},
     "output_type": "execute_result"
    }
   ],
   "source": [
    "df2.groupby([pd.Grouper(key=\"Date\", freq=\"A\"), pd.Grouper(level=\"A\")]).count()"
   ]
  },
  {
   "cell_type": "markdown",
   "id": "bf54c995",
   "metadata": {},
   "source": [
    "And we can combine `pd.Grouper` with a string, where the string\n",
    "denotes a column name"
   ]
  },
  {
   "cell_type": "code",
   "execution_count": 20,
   "id": "4b2fd7df",
   "metadata": {},
   "outputs": [
    {
     "data": {
      "text/html": [
       "<div>\n",
       "<style scoped>\n",
       "    .dataframe tbody tr th:only-of-type {\n",
       "        vertical-align: middle;\n",
       "    }\n",
       "\n",
       "    .dataframe tbody tr th {\n",
       "        vertical-align: top;\n",
       "    }\n",
       "\n",
       "    .dataframe thead th {\n",
       "        text-align: right;\n",
       "    }\n",
       "</style>\n",
       "<table border=\"1\" class=\"dataframe\">\n",
       "  <thead>\n",
       "    <tr style=\"text-align: right;\">\n",
       "      <th></th>\n",
       "      <th></th>\n",
       "      <th>C</th>\n",
       "    </tr>\n",
       "    <tr>\n",
       "      <th>Date</th>\n",
       "      <th>B</th>\n",
       "      <th></th>\n",
       "    </tr>\n",
       "  </thead>\n",
       "  <tbody>\n",
       "    <tr>\n",
       "      <th rowspan=\"2\" valign=\"top\">2021-12-31</th>\n",
       "      <th>1</th>\n",
       "      <td>2</td>\n",
       "    </tr>\n",
       "    <tr>\n",
       "      <th>2</th>\n",
       "      <td>1</td>\n",
       "    </tr>\n",
       "    <tr>\n",
       "      <th rowspan=\"2\" valign=\"top\">2022-12-31</th>\n",
       "      <th>1</th>\n",
       "      <td>1</td>\n",
       "    </tr>\n",
       "    <tr>\n",
       "      <th>2</th>\n",
       "      <td>0</td>\n",
       "    </tr>\n",
       "  </tbody>\n",
       "</table>\n",
       "</div>"
      ],
      "text/plain": [
       "              C\n",
       "Date       B   \n",
       "2021-12-31 1  2\n",
       "           2  1\n",
       "2022-12-31 1  1\n",
       "           2  0"
      ]
     },
     "execution_count": 20,
     "metadata": {},
     "output_type": "execute_result"
    }
   ],
   "source": [
    "df2.groupby([pd.Grouper(key=\"Date\", freq=\"A\"), \"B\"]).count()"
   ]
  },
  {
   "cell_type": "markdown",
   "id": "075ac2da",
   "metadata": {},
   "source": [
    "## Case Study: Airline Delays\n",
    "\n",
    "Let's apply our new split-apply-combine skills to the airline dataset we\n",
    "saw in the {doc}`merge <merge>` lecture."
   ]
  },
  {
   "cell_type": "code",
   "execution_count": 21,
   "id": "1221dd31",
   "metadata": {},
   "outputs": [],
   "source": [
    "air_dec = qeds.load(\"airline_performance_dec16\")"
   ]
  },
  {
   "cell_type": "markdown",
   "id": "227c62f5",
   "metadata": {},
   "source": [
    "First, we compute the average delay in arrival time for all carriers\n",
    "each week."
   ]
  },
  {
   "cell_type": "code",
   "execution_count": 22,
   "id": "14e3b951",
   "metadata": {},
   "outputs": [
    {
     "data": {
      "text/html": [
       "<div>\n",
       "<style scoped>\n",
       "    .dataframe tbody tr th:only-of-type {\n",
       "        vertical-align: middle;\n",
       "    }\n",
       "\n",
       "    .dataframe tbody tr th {\n",
       "        vertical-align: top;\n",
       "    }\n",
       "\n",
       "    .dataframe thead th {\n",
       "        text-align: right;\n",
       "    }\n",
       "</style>\n",
       "<table border=\"1\" class=\"dataframe\">\n",
       "  <thead>\n",
       "    <tr style=\"text-align: right;\">\n",
       "      <th>Carrier</th>\n",
       "      <th>AA</th>\n",
       "      <th>AS</th>\n",
       "      <th>B6</th>\n",
       "      <th>DL</th>\n",
       "      <th>EV</th>\n",
       "      <th>F9</th>\n",
       "      <th>HA</th>\n",
       "      <th>NK</th>\n",
       "      <th>OO</th>\n",
       "      <th>UA</th>\n",
       "      <th>VX</th>\n",
       "      <th>WN</th>\n",
       "    </tr>\n",
       "    <tr>\n",
       "      <th>Date</th>\n",
       "      <th></th>\n",
       "      <th></th>\n",
       "      <th></th>\n",
       "      <th></th>\n",
       "      <th></th>\n",
       "      <th></th>\n",
       "      <th></th>\n",
       "      <th></th>\n",
       "      <th></th>\n",
       "      <th></th>\n",
       "      <th></th>\n",
       "      <th></th>\n",
       "    </tr>\n",
       "  </thead>\n",
       "  <tbody>\n",
       "    <tr>\n",
       "      <th>2016-12-04</th>\n",
       "      <td>-1.714887</td>\n",
       "      <td>2.724273</td>\n",
       "      <td>-2.894269</td>\n",
       "      <td>-5.088351</td>\n",
       "      <td>8.655332</td>\n",
       "      <td>-2.894212</td>\n",
       "      <td>-0.558282</td>\n",
       "      <td>5.468909</td>\n",
       "      <td>2.749573</td>\n",
       "      <td>5.564496</td>\n",
       "      <td>-2.121821</td>\n",
       "      <td>-1.663695</td>\n",
       "    </tr>\n",
       "    <tr>\n",
       "      <th>2016-12-11</th>\n",
       "      <td>1.148833</td>\n",
       "      <td>12.052031</td>\n",
       "      <td>5.795062</td>\n",
       "      <td>2.507745</td>\n",
       "      <td>13.220673</td>\n",
       "      <td>4.578861</td>\n",
       "      <td>2.054302</td>\n",
       "      <td>8.713755</td>\n",
       "      <td>15.429660</td>\n",
       "      <td>4.094176</td>\n",
       "      <td>12.080938</td>\n",
       "      <td>1.865933</td>\n",
       "    </tr>\n",
       "    <tr>\n",
       "      <th>2016-12-18</th>\n",
       "      <td>16.357561</td>\n",
       "      <td>7.643767</td>\n",
       "      <td>34.608356</td>\n",
       "      <td>18.000000</td>\n",
       "      <td>23.876622</td>\n",
       "      <td>45.014888</td>\n",
       "      <td>9.388889</td>\n",
       "      <td>22.857899</td>\n",
       "      <td>30.901639</td>\n",
       "      <td>22.398130</td>\n",
       "      <td>33.651128</td>\n",
       "      <td>18.373400</td>\n",
       "    </tr>\n",
       "    <tr>\n",
       "      <th>2016-12-25</th>\n",
       "      <td>6.364513</td>\n",
       "      <td>2.719699</td>\n",
       "      <td>5.586836</td>\n",
       "      <td>-0.916113</td>\n",
       "      <td>6.857143</td>\n",
       "      <td>54.084959</td>\n",
       "      <td>5.075747</td>\n",
       "      <td>10.443369</td>\n",
       "      <td>15.004780</td>\n",
       "      <td>5.332474</td>\n",
       "      <td>17.286917</td>\n",
       "      <td>10.197685</td>\n",
       "    </tr>\n",
       "    <tr>\n",
       "      <th>2017-01-01</th>\n",
       "      <td>2.321836</td>\n",
       "      <td>1.226662</td>\n",
       "      <td>10.661577</td>\n",
       "      <td>2.048116</td>\n",
       "      <td>6.800898</td>\n",
       "      <td>8.280298</td>\n",
       "      <td>6.970016</td>\n",
       "      <td>8.361123</td>\n",
       "      <td>8.971083</td>\n",
       "      <td>0.061786</td>\n",
       "      <td>1.349580</td>\n",
       "      <td>5.213019</td>\n",
       "    </tr>\n",
       "  </tbody>\n",
       "</table>\n",
       "</div>"
      ],
      "text/plain": [
       "Carrier            AA         AS         B6         DL         EV         F9  \\\n",
       "Date                                                                           \n",
       "2016-12-04  -1.714887   2.724273  -2.894269  -5.088351   8.655332  -2.894212   \n",
       "2016-12-11   1.148833  12.052031   5.795062   2.507745  13.220673   4.578861   \n",
       "2016-12-18  16.357561   7.643767  34.608356  18.000000  23.876622  45.014888   \n",
       "2016-12-25   6.364513   2.719699   5.586836  -0.916113   6.857143  54.084959   \n",
       "2017-01-01   2.321836   1.226662  10.661577   2.048116   6.800898   8.280298   \n",
       "\n",
       "Carrier           HA         NK         OO         UA         VX         WN  \n",
       "Date                                                                         \n",
       "2016-12-04 -0.558282   5.468909   2.749573   5.564496  -2.121821  -1.663695  \n",
       "2016-12-11  2.054302   8.713755  15.429660   4.094176  12.080938   1.865933  \n",
       "2016-12-18  9.388889  22.857899  30.901639  22.398130  33.651128  18.373400  \n",
       "2016-12-25  5.075747  10.443369  15.004780   5.332474  17.286917  10.197685  \n",
       "2017-01-01  6.970016   8.361123   8.971083   0.061786   1.349580   5.213019  "
      ]
     },
     "execution_count": 22,
     "metadata": {},
     "output_type": "execute_result"
    }
   ],
   "source": [
    "weekly_delays = (\n",
    "    air_dec\n",
    "    .groupby([pd.Grouper(key=\"Date\", freq=\"W\"), \"Carrier\"])\n",
    "    [\"ArrDelay\"]               # extract one column\n",
    "    .mean()                    # take average\n",
    "    .unstack(level=\"Carrier\")  # Flip carrier up as column names\n",
    ")\n",
    "weekly_delays"
   ]
  },
  {
   "cell_type": "markdown",
   "id": "230a068c",
   "metadata": {},
   "source": [
    "Let's also plot this data."
   ]
  },
  {
   "cell_type": "code",
   "execution_count": 23,
   "id": "e1b1b2fb",
   "metadata": {},
   "outputs": [
    {
     "data": {
      "image/png": "[encoded data removed]",
      "text/plain": [
       "<Figure size 720x576 with 12 Axes>"
      ]
     },
     "metadata": {
      "filenames": {
       "image/png": "/home/runner/work/lecture-datascience.myst/lecture-datascience.myst/_build/jupyter_execute/pandas/groupby_41_0.png"
      }
     },
     "output_type": "display_data"
    }
   ],
   "source": [
    "# plot\n",
    "axs = weekly_delays.plot.bar(\n",
    "    figsize=(10, 8), subplots=True, legend=False, sharex=True,\n",
    "    sharey=True, layout=(4, 3), grid=False\n",
    ")\n",
    "\n",
    "# tweak spacing between subplots and xaxis labels\n",
    "axs[0,0].get_figure().tight_layout()\n",
    "for ax in axs[-1, :]:\n",
    "    ax.set_xticklabels(weekly_delays.index.strftime(\"%a, %b. %d'\"))"
   ]
  },
  {
   "cell_type": "markdown",
   "id": "44c93f89",
   "metadata": {},
   "source": [
    "It looks like more delays occurred during the week ending Sunday\n",
    "December 18th than any other week (except for Frontier, who did *worse*\n",
    "on Christmas week).\n",
    "\n",
    "Let's see why.\n",
    "\n",
    "The `air_dec` DataFrame has information on the minutes of delay\n",
    "attributed to 5 different categories:"
   ]
  },
  {
   "cell_type": "code",
   "execution_count": 24,
   "id": "8966c4f1",
   "metadata": {},
   "outputs": [],
   "source": [
    "delay_cols = [\n",
    "    'CarrierDelay',\n",
    "    'WeatherDelay',\n",
    "    'NASDelay',\n",
    "    'SecurityDelay',\n",
    "    'LateAircraftDelay'\n",
    "]"
   ]
  },
  {
   "cell_type": "markdown",
   "id": "823291bc",
   "metadata": {},
   "source": [
    "Let's take a quick look at each of those delay categories for the week ending December 18, 2016."
   ]
  },
  {
   "cell_type": "code",
   "execution_count": 25,
   "id": "1fe0b732",
   "metadata": {},
   "outputs": [
    {
     "data": {
      "text/html": [
       "<div>\n",
       "<style scoped>\n",
       "    .dataframe tbody tr th:only-of-type {\n",
       "        vertical-align: middle;\n",
       "    }\n",
       "\n",
       "    .dataframe tbody tr th {\n",
       "        vertical-align: top;\n",
       "    }\n",
       "\n",
       "    .dataframe thead tr th {\n",
       "        text-align: left;\n",
       "    }\n",
       "\n",
       "    .dataframe thead tr:last-of-type th {\n",
       "        text-align: right;\n",
       "    }\n",
       "</style>\n",
       "<table border=\"1\" class=\"dataframe\">\n",
       "  <thead>\n",
       "    <tr>\n",
       "      <th></th>\n",
       "      <th colspan=\"3\" halign=\"left\">CarrierDelay</th>\n",
       "      <th colspan=\"3\" halign=\"left\">WeatherDelay</th>\n",
       "      <th colspan=\"3\" halign=\"left\">NASDelay</th>\n",
       "      <th colspan=\"3\" halign=\"left\">SecurityDelay</th>\n",
       "      <th colspan=\"3\" halign=\"left\">LateAircraftDelay</th>\n",
       "    </tr>\n",
       "    <tr>\n",
       "      <th></th>\n",
       "      <th>sum</th>\n",
       "      <th>mean</th>\n",
       "      <th>positive</th>\n",
       "      <th>sum</th>\n",
       "      <th>mean</th>\n",
       "      <th>positive</th>\n",
       "      <th>sum</th>\n",
       "      <th>mean</th>\n",
       "      <th>positive</th>\n",
       "      <th>sum</th>\n",
       "      <th>mean</th>\n",
       "      <th>positive</th>\n",
       "      <th>sum</th>\n",
       "      <th>mean</th>\n",
       "      <th>positive</th>\n",
       "    </tr>\n",
       "    <tr>\n",
       "      <th>Carrier</th>\n",
       "      <th></th>\n",
       "      <th></th>\n",
       "      <th></th>\n",
       "      <th></th>\n",
       "      <th></th>\n",
       "      <th></th>\n",
       "      <th></th>\n",
       "      <th></th>\n",
       "      <th></th>\n",
       "      <th></th>\n",
       "      <th></th>\n",
       "      <th></th>\n",
       "      <th></th>\n",
       "      <th></th>\n",
       "      <th></th>\n",
       "    </tr>\n",
       "  </thead>\n",
       "  <tbody>\n",
       "    <tr>\n",
       "      <th>AA</th>\n",
       "      <td>105732.0</td>\n",
       "      <td>6.258553</td>\n",
       "      <td>2922.0</td>\n",
       "      <td>21820.0</td>\n",
       "      <td>1.291583</td>\n",
       "      <td>456.0</td>\n",
       "      <td>77279.0</td>\n",
       "      <td>4.574346</td>\n",
       "      <td>3159.0</td>\n",
       "      <td>721.0</td>\n",
       "      <td>0.042678</td>\n",
       "      <td>35.0</td>\n",
       "      <td>141249.0</td>\n",
       "      <td>8.360897</td>\n",
       "      <td>2574.0</td>\n",
       "    </tr>\n",
       "    <tr>\n",
       "      <th>AS</th>\n",
       "      <td>8762.0</td>\n",
       "      <td>2.691032</td>\n",
       "      <td>250.0</td>\n",
       "      <td>3219.0</td>\n",
       "      <td>0.988636</td>\n",
       "      <td>61.0</td>\n",
       "      <td>16344.0</td>\n",
       "      <td>5.019656</td>\n",
       "      <td>614.0</td>\n",
       "      <td>163.0</td>\n",
       "      <td>0.050061</td>\n",
       "      <td>10.0</td>\n",
       "      <td>13599.0</td>\n",
       "      <td>4.176597</td>\n",
       "      <td>271.0</td>\n",
       "    </tr>\n",
       "    <tr>\n",
       "      <th>B6</th>\n",
       "      <td>49421.0</td>\n",
       "      <td>9.031615</td>\n",
       "      <td>1575.0</td>\n",
       "      <td>9894.0</td>\n",
       "      <td>1.808114</td>\n",
       "      <td>112.0</td>\n",
       "      <td>38741.0</td>\n",
       "      <td>7.079861</td>\n",
       "      <td>1326.0</td>\n",
       "      <td>672.0</td>\n",
       "      <td>0.122807</td>\n",
       "      <td>30.0</td>\n",
       "      <td>100811.0</td>\n",
       "      <td>18.423063</td>\n",
       "      <td>1433.0</td>\n",
       "    </tr>\n",
       "    <tr>\n",
       "      <th>DL</th>\n",
       "      <td>151188.0</td>\n",
       "      <td>8.864212</td>\n",
       "      <td>2878.0</td>\n",
       "      <td>39145.0</td>\n",
       "      <td>2.295087</td>\n",
       "      <td>783.0</td>\n",
       "      <td>75110.0</td>\n",
       "      <td>4.403729</td>\n",
       "      <td>2605.0</td>\n",
       "      <td>107.0</td>\n",
       "      <td>0.006273</td>\n",
       "      <td>2.0</td>\n",
       "      <td>122896.0</td>\n",
       "      <td>7.205441</td>\n",
       "      <td>2289.0</td>\n",
       "    </tr>\n",
       "    <tr>\n",
       "      <th>EV</th>\n",
       "      <td>87408.0</td>\n",
       "      <td>9.939504</td>\n",
       "      <td>1375.0</td>\n",
       "      <td>3824.0</td>\n",
       "      <td>0.434842</td>\n",
       "      <td>76.0</td>\n",
       "      <td>49703.0</td>\n",
       "      <td>5.651922</td>\n",
       "      <td>1580.0</td>\n",
       "      <td>0.0</td>\n",
       "      <td>0.000000</td>\n",
       "      <td>0.0</td>\n",
       "      <td>89773.0</td>\n",
       "      <td>10.208438</td>\n",
       "      <td>1568.0</td>\n",
       "    </tr>\n",
       "    <tr>\n",
       "      <th>F9</th>\n",
       "      <td>19568.0</td>\n",
       "      <td>10.430704</td>\n",
       "      <td>361.0</td>\n",
       "      <td>6198.0</td>\n",
       "      <td>3.303838</td>\n",
       "      <td>57.0</td>\n",
       "      <td>22459.0</td>\n",
       "      <td>11.971748</td>\n",
       "      <td>493.0</td>\n",
       "      <td>0.0</td>\n",
       "      <td>0.000000</td>\n",
       "      <td>0.0</td>\n",
       "      <td>32236.0</td>\n",
       "      <td>17.183369</td>\n",
       "      <td>316.0</td>\n",
       "    </tr>\n",
       "    <tr>\n",
       "      <th>HA</th>\n",
       "      <td>7199.0</td>\n",
       "      <td>5.034266</td>\n",
       "      <td>218.0</td>\n",
       "      <td>3650.0</td>\n",
       "      <td>2.552448</td>\n",
       "      <td>145.0</td>\n",
       "      <td>86.0</td>\n",
       "      <td>0.060140</td>\n",
       "      <td>4.0</td>\n",
       "      <td>35.0</td>\n",
       "      <td>0.024476</td>\n",
       "      <td>3.0</td>\n",
       "      <td>4024.0</td>\n",
       "      <td>2.813986</td>\n",
       "      <td>189.0</td>\n",
       "    </tr>\n",
       "    <tr>\n",
       "      <th>NK</th>\n",
       "      <td>14735.0</td>\n",
       "      <td>5.294646</td>\n",
       "      <td>452.0</td>\n",
       "      <td>2240.0</td>\n",
       "      <td>0.804887</td>\n",
       "      <td>56.0</td>\n",
       "      <td>30361.0</td>\n",
       "      <td>10.909450</td>\n",
       "      <td>840.0</td>\n",
       "      <td>50.0</td>\n",
       "      <td>0.017966</td>\n",
       "      <td>5.0</td>\n",
       "      <td>22247.0</td>\n",
       "      <td>7.993891</td>\n",
       "      <td>372.0</td>\n",
       "    </tr>\n",
       "    <tr>\n",
       "      <th>OO</th>\n",
       "      <td>120307.0</td>\n",
       "      <td>10.439691</td>\n",
       "      <td>1378.0</td>\n",
       "      <td>26349.0</td>\n",
       "      <td>2.286446</td>\n",
       "      <td>308.0</td>\n",
       "      <td>54141.0</td>\n",
       "      <td>4.698108</td>\n",
       "      <td>2289.0</td>\n",
       "      <td>171.0</td>\n",
       "      <td>0.014839</td>\n",
       "      <td>12.0</td>\n",
       "      <td>166102.0</td>\n",
       "      <td>14.413572</td>\n",
       "      <td>2459.0</td>\n",
       "    </tr>\n",
       "    <tr>\n",
       "      <th>UA</th>\n",
       "      <td>66693.0</td>\n",
       "      <td>6.312636</td>\n",
       "      <td>1851.0</td>\n",
       "      <td>31602.0</td>\n",
       "      <td>2.991197</td>\n",
       "      <td>521.0</td>\n",
       "      <td>74992.0</td>\n",
       "      <td>7.098154</td>\n",
       "      <td>2065.0</td>\n",
       "      <td>0.0</td>\n",
       "      <td>0.000000</td>\n",
       "      <td>0.0</td>\n",
       "      <td>118728.0</td>\n",
       "      <td>11.237861</td>\n",
       "      <td>1696.0</td>\n",
       "    </tr>\n",
       "    <tr>\n",
       "      <th>VX</th>\n",
       "      <td>8048.0</td>\n",
       "      <td>5.608362</td>\n",
       "      <td>246.0</td>\n",
       "      <td>3807.0</td>\n",
       "      <td>2.652962</td>\n",
       "      <td>126.0</td>\n",
       "      <td>12619.0</td>\n",
       "      <td>8.793728</td>\n",
       "      <td>224.0</td>\n",
       "      <td>73.0</td>\n",
       "      <td>0.050871</td>\n",
       "      <td>4.0</td>\n",
       "      <td>25242.0</td>\n",
       "      <td>17.590244</td>\n",
       "      <td>331.0</td>\n",
       "    </tr>\n",
       "    <tr>\n",
       "      <th>WN</th>\n",
       "      <td>123882.0</td>\n",
       "      <td>4.873790</td>\n",
       "      <td>5393.0</td>\n",
       "      <td>23516.0</td>\n",
       "      <td>0.925171</td>\n",
       "      <td>328.0</td>\n",
       "      <td>78645.0</td>\n",
       "      <td>3.094067</td>\n",
       "      <td>4247.0</td>\n",
       "      <td>252.0</td>\n",
       "      <td>0.009914</td>\n",
       "      <td>18.0</td>\n",
       "      <td>285073.0</td>\n",
       "      <td>11.215399</td>\n",
       "      <td>6472.0</td>\n",
       "    </tr>\n",
       "  </tbody>\n",
       "</table>\n",
       "</div>"
      ],
      "text/plain": [
       "        CarrierDelay                     WeatherDelay                     \\\n",
       "                 sum       mean positive          sum      mean positive   \n",
       "Carrier                                                                    \n",
       "AA          105732.0   6.258553   2922.0      21820.0  1.291583    456.0   \n",
       "AS            8762.0   2.691032    250.0       3219.0  0.988636     61.0   \n",
       "B6           49421.0   9.031615   1575.0       9894.0  1.808114    112.0   \n",
       "DL          151188.0   8.864212   2878.0      39145.0  2.295087    783.0   \n",
       "EV           87408.0   9.939504   1375.0       3824.0  0.434842     76.0   \n",
       "F9           19568.0  10.430704    361.0       6198.0  3.303838     57.0   \n",
       "HA            7199.0   5.034266    218.0       3650.0  2.552448    145.0   \n",
       "NK           14735.0   5.294646    452.0       2240.0  0.804887     56.0   \n",
       "OO          120307.0  10.439691   1378.0      26349.0  2.286446    308.0   \n",
       "UA           66693.0   6.312636   1851.0      31602.0  2.991197    521.0   \n",
       "VX            8048.0   5.608362    246.0       3807.0  2.652962    126.0   \n",
       "WN          123882.0   4.873790   5393.0      23516.0  0.925171    328.0   \n",
       "\n",
       "        NASDelay                     SecurityDelay                     \\\n",
       "             sum       mean positive           sum      mean positive   \n",
       "Carrier                                                                 \n",
       "AA       77279.0   4.574346   3159.0         721.0  0.042678     35.0   \n",
       "AS       16344.0   5.019656    614.0         163.0  0.050061     10.0   \n",
       "B6       38741.0   7.079861   1326.0         672.0  0.122807     30.0   \n",
       "DL       75110.0   4.403729   2605.0         107.0  0.006273      2.0   \n",
       "EV       49703.0   5.651922   1580.0           0.0  0.000000      0.0   \n",
       "F9       22459.0  11.971748    493.0           0.0  0.000000      0.0   \n",
       "HA          86.0   0.060140      4.0          35.0  0.024476      3.0   \n",
       "NK       30361.0  10.909450    840.0          50.0  0.017966      5.0   \n",
       "OO       54141.0   4.698108   2289.0         171.0  0.014839     12.0   \n",
       "UA       74992.0   7.098154   2065.0           0.0  0.000000      0.0   \n",
       "VX       12619.0   8.793728    224.0          73.0  0.050871      4.0   \n",
       "WN       78645.0   3.094067   4247.0         252.0  0.009914     18.0   \n",
       "\n",
       "        LateAircraftDelay                      \n",
       "                      sum       mean positive  \n",
       "Carrier                                        \n",
       "AA               141249.0   8.360897   2574.0  \n",
       "AS                13599.0   4.176597    271.0  \n",
       "B6               100811.0  18.423063   1433.0  \n",
       "DL               122896.0   7.205441   2289.0  \n",
       "EV                89773.0  10.208438   1568.0  \n",
       "F9                32236.0  17.183369    316.0  \n",
       "HA                 4024.0   2.813986    189.0  \n",
       "NK                22247.0   7.993891    372.0  \n",
       "OO               166102.0  14.413572   2459.0  \n",
       "UA               118728.0  11.237861   1696.0  \n",
       "VX                25242.0  17.590244    331.0  \n",
       "WN               285073.0  11.215399   6472.0  "
      ]
     },
     "execution_count": 25,
     "metadata": {},
     "output_type": "execute_result"
    }
   ],
   "source": [
    "pre_christmas = air_dec.loc[\n",
    "    (air_dec[\"Date\"] >= \"2016-12-12\") & (air_dec[\"Date\"] <= \"2016-12-18\")\n",
    "]\n",
    "\n",
    "# custom agg function\n",
    "def positive(df):\n",
    "    return (df > 0).sum()\n",
    "\n",
    "delay_totals = pre_christmas.groupby(\"Carrier\")[delay_cols].agg([\"sum\", \"mean\", positive])\n",
    "delay_totals"
   ]
  },
  {
   "cell_type": "markdown",
   "id": "a0cbf920",
   "metadata": {},
   "source": [
    "**Want**: plot total, average, and number of each type of delay by\n",
    "carrier\n",
    "\n",
    "To do this, we need to have a DataFrame with:\n",
    "\n",
    "- Delay type in index (so it is on horizontal-axis)\n",
    "- Aggregation method on *outer* most level of columns (so we can do\n",
    "  `data[\"mean\"]` to get averages)\n",
    "- Carrier name on inner level of columns\n",
    "\n",
    "Many sequences of the reshaping commands can accomplish this.\n",
    "\n",
    "We show one example below."
   ]
  },
  {
   "cell_type": "code",
   "execution_count": 26,
   "id": "1de2ef81",
   "metadata": {},
   "outputs": [
    {
     "data": {
      "text/html": [
       "<div>\n",
       "<style scoped>\n",
       "    .dataframe tbody tr th:only-of-type {\n",
       "        vertical-align: middle;\n",
       "    }\n",
       "\n",
       "    .dataframe tbody tr th {\n",
       "        vertical-align: top;\n",
       "    }\n",
       "\n",
       "    .dataframe thead tr th {\n",
       "        text-align: left;\n",
       "    }\n",
       "</style>\n",
       "<table border=\"1\" class=\"dataframe\">\n",
       "  <thead>\n",
       "    <tr>\n",
       "      <th></th>\n",
       "      <th colspan=\"10\" halign=\"left\">mean</th>\n",
       "      <th>...</th>\n",
       "      <th colspan=\"10\" halign=\"left\">sum</th>\n",
       "    </tr>\n",
       "    <tr>\n",
       "      <th>Carrier</th>\n",
       "      <th>AA</th>\n",
       "      <th>AS</th>\n",
       "      <th>B6</th>\n",
       "      <th>DL</th>\n",
       "      <th>EV</th>\n",
       "      <th>F9</th>\n",
       "      <th>HA</th>\n",
       "      <th>NK</th>\n",
       "      <th>OO</th>\n",
       "      <th>UA</th>\n",
       "      <th>...</th>\n",
       "      <th>B6</th>\n",
       "      <th>DL</th>\n",
       "      <th>EV</th>\n",
       "      <th>F9</th>\n",
       "      <th>HA</th>\n",
       "      <th>NK</th>\n",
       "      <th>OO</th>\n",
       "      <th>UA</th>\n",
       "      <th>VX</th>\n",
       "      <th>WN</th>\n",
       "    </tr>\n",
       "  </thead>\n",
       "  <tbody>\n",
       "    <tr>\n",
       "      <th>CarrierDelay</th>\n",
       "      <td>6.258553</td>\n",
       "      <td>2.691032</td>\n",
       "      <td>9.031615</td>\n",
       "      <td>8.864212</td>\n",
       "      <td>9.939504</td>\n",
       "      <td>10.430704</td>\n",
       "      <td>5.034266</td>\n",
       "      <td>5.294646</td>\n",
       "      <td>10.439691</td>\n",
       "      <td>6.312636</td>\n",
       "      <td>...</td>\n",
       "      <td>49421.0</td>\n",
       "      <td>151188.0</td>\n",
       "      <td>87408.0</td>\n",
       "      <td>19568.0</td>\n",
       "      <td>7199.0</td>\n",
       "      <td>14735.0</td>\n",
       "      <td>120307.0</td>\n",
       "      <td>66693.0</td>\n",
       "      <td>8048.0</td>\n",
       "      <td>123882.0</td>\n",
       "    </tr>\n",
       "    <tr>\n",
       "      <th>WeatherDelay</th>\n",
       "      <td>1.291583</td>\n",
       "      <td>0.988636</td>\n",
       "      <td>1.808114</td>\n",
       "      <td>2.295087</td>\n",
       "      <td>0.434842</td>\n",
       "      <td>3.303838</td>\n",
       "      <td>2.552448</td>\n",
       "      <td>0.804887</td>\n",
       "      <td>2.286446</td>\n",
       "      <td>2.991197</td>\n",
       "      <td>...</td>\n",
       "      <td>9894.0</td>\n",
       "      <td>39145.0</td>\n",
       "      <td>3824.0</td>\n",
       "      <td>6198.0</td>\n",
       "      <td>3650.0</td>\n",
       "      <td>2240.0</td>\n",
       "      <td>26349.0</td>\n",
       "      <td>31602.0</td>\n",
       "      <td>3807.0</td>\n",
       "      <td>23516.0</td>\n",
       "    </tr>\n",
       "    <tr>\n",
       "      <th>NASDelay</th>\n",
       "      <td>4.574346</td>\n",
       "      <td>5.019656</td>\n",
       "      <td>7.079861</td>\n",
       "      <td>4.403729</td>\n",
       "      <td>5.651922</td>\n",
       "      <td>11.971748</td>\n",
       "      <td>0.060140</td>\n",
       "      <td>10.909450</td>\n",
       "      <td>4.698108</td>\n",
       "      <td>7.098154</td>\n",
       "      <td>...</td>\n",
       "      <td>38741.0</td>\n",
       "      <td>75110.0</td>\n",
       "      <td>49703.0</td>\n",
       "      <td>22459.0</td>\n",
       "      <td>86.0</td>\n",
       "      <td>30361.0</td>\n",
       "      <td>54141.0</td>\n",
       "      <td>74992.0</td>\n",
       "      <td>12619.0</td>\n",
       "      <td>78645.0</td>\n",
       "    </tr>\n",
       "    <tr>\n",
       "      <th>SecurityDelay</th>\n",
       "      <td>0.042678</td>\n",
       "      <td>0.050061</td>\n",
       "      <td>0.122807</td>\n",
       "      <td>0.006273</td>\n",
       "      <td>0.000000</td>\n",
       "      <td>0.000000</td>\n",
       "      <td>0.024476</td>\n",
       "      <td>0.017966</td>\n",
       "      <td>0.014839</td>\n",
       "      <td>0.000000</td>\n",
       "      <td>...</td>\n",
       "      <td>672.0</td>\n",
       "      <td>107.0</td>\n",
       "      <td>0.0</td>\n",
       "      <td>0.0</td>\n",
       "      <td>35.0</td>\n",
       "      <td>50.0</td>\n",
       "      <td>171.0</td>\n",
       "      <td>0.0</td>\n",
       "      <td>73.0</td>\n",
       "      <td>252.0</td>\n",
       "    </tr>\n",
       "    <tr>\n",
       "      <th>LateAircraftDelay</th>\n",
       "      <td>8.360897</td>\n",
       "      <td>4.176597</td>\n",
       "      <td>18.423063</td>\n",
       "      <td>7.205441</td>\n",
       "      <td>10.208438</td>\n",
       "      <td>17.183369</td>\n",
       "      <td>2.813986</td>\n",
       "      <td>7.993891</td>\n",
       "      <td>14.413572</td>\n",
       "      <td>11.237861</td>\n",
       "      <td>...</td>\n",
       "      <td>100811.0</td>\n",
       "      <td>122896.0</td>\n",
       "      <td>89773.0</td>\n",
       "      <td>32236.0</td>\n",
       "      <td>4024.0</td>\n",
       "      <td>22247.0</td>\n",
       "      <td>166102.0</td>\n",
       "      <td>118728.0</td>\n",
       "      <td>25242.0</td>\n",
       "      <td>285073.0</td>\n",
       "    </tr>\n",
       "  </tbody>\n",
       "</table>\n",
       "<p>5 rows × 36 columns</p>\n",
       "</div>"
      ],
      "text/plain": [
       "                       mean                                            \\\n",
       "Carrier                  AA        AS         B6        DL         EV   \n",
       "CarrierDelay       6.258553  2.691032   9.031615  8.864212   9.939504   \n",
       "WeatherDelay       1.291583  0.988636   1.808114  2.295087   0.434842   \n",
       "NASDelay           4.574346  5.019656   7.079861  4.403729   5.651922   \n",
       "SecurityDelay      0.042678  0.050061   0.122807  0.006273   0.000000   \n",
       "LateAircraftDelay  8.360897  4.176597  18.423063  7.205441  10.208438   \n",
       "\n",
       "                                                                         ...  \\\n",
       "Carrier                   F9        HA         NK         OO         UA  ...   \n",
       "CarrierDelay       10.430704  5.034266   5.294646  10.439691   6.312636  ...   \n",
       "WeatherDelay        3.303838  2.552448   0.804887   2.286446   2.991197  ...   \n",
       "NASDelay           11.971748  0.060140  10.909450   4.698108   7.098154  ...   \n",
       "SecurityDelay       0.000000  0.024476   0.017966   0.014839   0.000000  ...   \n",
       "LateAircraftDelay  17.183369  2.813986   7.993891  14.413572  11.237861  ...   \n",
       "\n",
       "                        sum                                               \\\n",
       "Carrier                  B6        DL       EV       F9      HA       NK   \n",
       "CarrierDelay        49421.0  151188.0  87408.0  19568.0  7199.0  14735.0   \n",
       "WeatherDelay         9894.0   39145.0   3824.0   6198.0  3650.0   2240.0   \n",
       "NASDelay            38741.0   75110.0  49703.0  22459.0    86.0  30361.0   \n",
       "SecurityDelay         672.0     107.0      0.0      0.0    35.0     50.0   \n",
       "LateAircraftDelay  100811.0  122896.0  89773.0  32236.0  4024.0  22247.0   \n",
       "\n",
       "                                                          \n",
       "Carrier                  OO        UA       VX        WN  \n",
       "CarrierDelay       120307.0   66693.0   8048.0  123882.0  \n",
       "WeatherDelay        26349.0   31602.0   3807.0   23516.0  \n",
       "NASDelay            54141.0   74992.0  12619.0   78645.0  \n",
       "SecurityDelay         171.0       0.0     73.0     252.0  \n",
       "LateAircraftDelay  166102.0  118728.0  25242.0  285073.0  \n",
       "\n",
       "[5 rows x 36 columns]"
      ]
     },
     "execution_count": 26,
     "metadata": {},
     "output_type": "execute_result"
    }
   ],
   "source": [
    "reshaped_delays = (\n",
    "    delay_totals\n",
    "    .stack()             # move aggregation method into index (with Carrier)\n",
    "    .T                   # put delay type in index and Carrier+agg in column\n",
    "    .swaplevel(axis=1)   # make agg method outer level of column label\n",
    "    .sort_index(axis=1)  # sort column labels so it prints nicely\n",
    ")\n",
    "reshaped_delays"
   ]
  },
  {
   "cell_type": "code",
   "execution_count": 27,
   "id": "e08fb288",
   "metadata": {},
   "outputs": [
    {
     "data": {
      "image/png": "[encoded data removed]",
      "text/plain": [
       "<Figure size 720x576 with 12 Axes>"
      ]
     },
     "metadata": {
      "filenames": {
       "image/png": "/home/runner/work/lecture-datascience.myst/lecture-datascience.myst/_build/jupyter_execute/pandas/groupby_48_0.png"
      }
     },
     "output_type": "display_data"
    },
    {
     "data": {
      "image/png": "[encoded data removed]",
      "text/plain": [
       "<Figure size 720x576 with 12 Axes>"
      ]
     },
     "metadata": {
      "filenames": {
       "image/png": "/home/runner/work/lecture-datascience.myst/lecture-datascience.myst/_build/jupyter_execute/pandas/groupby_48_1.png"
      }
     },
     "output_type": "display_data"
    },
    {
     "data": {
      "image/png": "[encoded data removed]",
      "text/plain": [
       "<Figure size 720x576 with 12 Axes>"
      ]
     },
     "metadata": {
      "filenames": {
       "image/png": "/home/runner/work/lecture-datascience.myst/lecture-datascience.myst/_build/jupyter_execute/pandas/groupby_48_2.png"
      }
     },
     "output_type": "display_data"
    }
   ],
   "source": [
    "for agg in [\"mean\", \"sum\", \"positive\"]:\n",
    "    axs = reshaped_delays[agg].plot(\n",
    "        kind=\"bar\", subplots=True, layout=(4, 3), figsize=(10, 8), legend=False,\n",
    "        sharex=True, sharey=True\n",
    "    )\n",
    "    fig = axs[0, 0].get_figure()\n",
    "    fig.suptitle(agg)\n",
    "#     fig.tight_layout();"
   ]
  },
  {
   "cell_type": "markdown",
   "id": "f9d7e9b2",
   "metadata": {},
   "source": [
    "````{admonition} Exercise\n",
    ":name: pd-grp-dir4\n",
    "See exercise 4 in the {ref}`exercise list <pd-grp-ex>`.\n",
    "````\n",
    "\n",
    "Let's summarize what we did:\n",
    "\n",
    "- Computed average flight delay for each airline for each week.\n",
    "- Noticed that one week had more delays for all airlines.\n",
    "- Studied the flights in that week to determine the *cause* of the\n",
    "  delays in that week.\n",
    "\n",
    "Suppose now that we want to repeat that analysis, but at a daily\n",
    "frequency instead of weekly.\n",
    "\n",
    "We could copy/paste the code from above and change the `W` to a `D`,\n",
    "but there's a better way...\n",
    "\n",
    "Let's convert the steps above into two functions:\n",
    "\n",
    "1. Produce the set of bar charts for average delays at each frequency.\n",
    "1. Produce the second set of charts for the total, average, and number\n",
    "   of occurrences of each type of delay."
   ]
  },
  {
   "cell_type": "code",
   "execution_count": 28,
   "id": "ac36f38a",
   "metadata": {},
   "outputs": [],
   "source": [
    "def mean_delay_plot(df, freq, figsize=(10, 8)):\n",
    "    \"\"\"\n",
    "    Make a bar chart of average flight delays for each carrier at\n",
    "    a given frequency.\n",
    "    \"\"\"\n",
    "    mean_delays = (\n",
    "        df\n",
    "        .groupby([pd.Grouper(key=\"Date\", freq=freq), \"Carrier\"])\n",
    "        [\"ArrDelay\"]               # extract one column\n",
    "        .mean()                    # take average\n",
    "        .unstack(level=\"Carrier\")  # Flip carrier up as column names\n",
    "    )\n",
    "\n",
    "    # plot\n",
    "    axs = mean_delays.plot.bar(\n",
    "        figsize=figsize, subplots=True, legend=False, sharex=True,\n",
    "        sharey=True, layout=(4, 3), grid=False\n",
    "    )\n",
    "\n",
    "    # tweak spacing between subplots and x-axis labels\n",
    "    axs[0, 0].get_figure().tight_layout()\n",
    "    for ax in axs[-1, :]:\n",
    "        ax.set_xticklabels(mean_delays.index.strftime(\"%a, %b. %d'\"))\n",
    "\n",
    "    # return the axes in case we want to further tweak the plot outside the function\n",
    "    return axs\n",
    "\n",
    "\n",
    "def delay_type_plot(df, start, end):\n",
    "    \"\"\"\n",
    "    Make bar charts for total minutes, average minutes, and number of\n",
    "    occurrences for each delay type, for all flights that were scheduled\n",
    "    between `start` date and `end` date\n",
    "    \"\"\"\n",
    "    sub_df = df.loc[\n",
    "        (df[\"Date\"] >= start) & (df[\"Date\"] <= end)\n",
    "    ]\n",
    "\n",
    "    def positive(df):\n",
    "        return (df > 0).sum()\n",
    "\n",
    "    aggs = sub_df.groupby(\"Carrier\")[delay_cols].agg([\"sum\", \"mean\", positive])\n",
    "\n",
    "    reshaped = aggs.stack().T.swaplevel(axis=1).sort_index(axis=1)\n",
    "\n",
    "    for agg in [\"mean\", \"sum\", \"positive\"]:\n",
    "        axs = reshaped[agg].plot(\n",
    "            kind=\"bar\", subplots=True, layout=(4, 3), figsize=(10, 8), legend=False,\n",
    "            sharex=True, sharey=True\n",
    "        )\n",
    "        fig = axs[0, 0].get_figure()\n",
    "        fig.suptitle(agg)\n",
    "#         fig.tight_layout();"
   ]
  },
  {
   "cell_type": "markdown",
   "id": "79237782",
   "metadata": {},
   "source": [
    "````{admonition} Exercise\n",
    ":name: pd-grp-dir5\n",
    "See exercise 5 in the {ref}`exercise list <pd-grp-ex>`.\n",
    "````\n",
    "\n",
    "Now let's look at that plot at a daily frequency. (Note that we need the\n",
    "figure to be a bit wider in order to see the dates.)"
   ]
  },
  {
   "cell_type": "code",
   "execution_count": 29,
   "id": "da6bc99e",
   "metadata": {},
   "outputs": [
    {
     "data": {
      "image/png": "[encoded data removed]",
      "text/plain": [
       "<Figure size 1152x576 with 12 Axes>"
      ]
     },
     "metadata": {
      "filenames": {
       "image/png": "/home/runner/work/lecture-datascience.myst/lecture-datascience.myst/_build/jupyter_execute/pandas/groupby_52_0.png"
      }
     },
     "output_type": "display_data"
    }
   ],
   "source": [
    "mean_delay_plot(air_dec, \"D\", figsize=(16, 8));"
   ]
  },
  {
   "cell_type": "markdown",
   "id": "365d8c5a",
   "metadata": {},
   "source": [
    "As we expected given our analysis above, the longest average delays\n",
    "seemed to happen in the third week.\n",
    "\n",
    "In particular, it looks like December 17th and 18th had — on average —\n",
    "higher delays than other days in December.\n",
    "\n",
    "Let's use the `delay_type_plot` function to determine the cause of the\n",
    "delays on those two days.\n",
    "\n",
    "Because our analysis is captured in a single function, we can look at\n",
    "the days together and separately without much effort."
   ]
  },
  {
   "cell_type": "code",
   "execution_count": 30,
   "id": "b46a413e",
   "metadata": {},
   "outputs": [
    {
     "data": {
      "image/png": "[encoded data removed]",
      "text/plain": [
       "<Figure size 720x576 with 12 Axes>"
      ]
     },
     "metadata": {
      "filenames": {
       "image/png": "/home/runner/work/lecture-datascience.myst/lecture-datascience.myst/_build/jupyter_execute/pandas/groupby_54_0.png"
      }
     },
     "output_type": "display_data"
    },
    {
     "data": {
      "image/png": "[encoded data removed]",
      "text/plain": [
       "<Figure size 720x576 with 12 Axes>"
      ]
     },
     "metadata": {
      "filenames": {
       "image/png": "/home/runner/work/lecture-datascience.myst/lecture-datascience.myst/_build/jupyter_execute/pandas/groupby_54_1.png"
      }
     },
     "output_type": "display_data"
    },
    {
     "data": {
      "image/png": "[encoded data removed]",
      "text/plain": [
       "<Figure size 720x576 with 12 Axes>"
      ]
     },
     "metadata": {
      "filenames": {
       "image/png": "/home/runner/work/lecture-datascience.myst/lecture-datascience.myst/_build/jupyter_execute/pandas/groupby_54_2.png"
      }
     },
     "output_type": "display_data"
    }
   ],
   "source": [
    "# both days\n",
    "delay_type_plot(air_dec, \"12-17-16\", \"12-18-16\")"
   ]
  },
  {
   "cell_type": "code",
   "execution_count": 31,
   "id": "ae41c032",
   "metadata": {},
   "outputs": [
    {
     "data": {
      "image/png": "[encoded data removed]",
      "text/plain": [
       "<Figure size 720x576 with 12 Axes>"
      ]
     },
     "metadata": {
      "filenames": {
       "image/png": "/home/runner/work/lecture-datascience.myst/lecture-datascience.myst/_build/jupyter_execute/pandas/groupby_55_0.png"
      }
     },
     "output_type": "display_data"
    },
    {
     "data": {
      "image/png": "[encoded data removed]",
      "text/plain": [
       "<Figure size 720x576 with 12 Axes>"
      ]
     },
     "metadata": {
      "filenames": {
       "image/png": "/home/runner/work/lecture-datascience.myst/lecture-datascience.myst/_build/jupyter_execute/pandas/groupby_55_1.png"
      }
     },
     "output_type": "display_data"
    },
    {
     "data": {
      "image/png": "[encoded data removed]",
      "text/plain": [
       "<Figure size 720x576 with 12 Axes>"
      ]
     },
     "metadata": {
      "filenames": {
       "image/png": "/home/runner/work/lecture-datascience.myst/lecture-datascience.myst/_build/jupyter_execute/pandas/groupby_55_2.png"
      }
     },
     "output_type": "display_data"
    }
   ],
   "source": [
    "# only the 17th\n",
    "delay_type_plot(air_dec, \"12-17-16\", \"12-17-16\")"
   ]
  },
  {
   "cell_type": "code",
   "execution_count": 32,
   "id": "ee5a4a1c",
   "metadata": {},
   "outputs": [
    {
     "data": {
      "image/png": "[encoded data removed]",
      "text/plain": [
       "<Figure size 720x576 with 12 Axes>"
      ]
     },
     "metadata": {
      "filenames": {
       "image/png": "/home/runner/work/lecture-datascience.myst/lecture-datascience.myst/_build/jupyter_execute/pandas/groupby_56_0.png"
      }
     },
     "output_type": "display_data"
    },
    {
     "data": {
      "image/png": "[encoded data removed]",
      "text/plain": [
       "<Figure size 720x576 with 12 Axes>"
      ]
     },
     "metadata": {
      "filenames": {
       "image/png": "/home/runner/work/lecture-datascience.myst/lecture-datascience.myst/_build/jupyter_execute/pandas/groupby_56_1.png"
      }
     },
     "output_type": "display_data"
    },
    {
     "data": {
      "image/png": "[encoded data removed]",
      "text/plain": [
       "<Figure size 720x576 with 12 Axes>"
      ]
     },
     "metadata": {
      "filenames": {
       "image/png": "/home/runner/work/lecture-datascience.myst/lecture-datascience.myst/_build/jupyter_execute/pandas/groupby_56_2.png"
      }
     },
     "output_type": "display_data"
    }
   ],
   "source": [
    "# only the 18th\n",
    "delay_type_plot(air_dec, \"12-18-16\", \"12-18-16\")"
   ]
  },
  {
   "cell_type": "markdown",
   "id": "81045e1c",
   "metadata": {},
   "source": [
    "The purpose of this exercise was to drive home the ability to *automate*\n",
    "tasks.\n",
    "\n",
    "We were able to write a pair of `functions` that allows us to easily\n",
    "repeat the exact same analysis on different subsets of the data, or\n",
    "different datasets entirely (e.g. we could do the same analysis on\n",
    "November 2016 data, with two lines of code).\n",
    "\n",
    "These principles can be applied in many settings.\n",
    "\n",
    "Keep that in mind as we work through the rest of the materials.\n",
    "\n",
    "## Exercise: Cohort Analysis using Shopify Data\n",
    "\n",
    "The `qeds` library includes routines to simulate data sets in the\n",
    "format of common sources\n",
    "\n",
    "One of these sources is [Shopify](https://www.shopify.com/) — an\n",
    "e-commerce platform used by many retail companies for online sales\n",
    "\n",
    "The code below will simulate a fairly large data set that has the\n",
    "properties of a order-detail report from Shopify\n",
    "\n",
    "We'll first look at the data, and then describe the exercise"
   ]
  },
  {
   "cell_type": "code",
   "execution_count": 33,
   "id": "a6cdd441",
   "metadata": {},
   "outputs": [
    {
     "name": "stderr",
     "output_type": "stream",
     "text": [
      "/usr/share/miniconda3/envs/lecture-datascience/lib/python3.8/site-packages/qeds/data/shopify.py:288: FutureWarning: The pandas.datetime class is deprecated and will be removed from pandas in a future version. Import from datetime module instead.\n",
      "  end_date = pd.datetime.now().strftime(\"%Y-%m-%d\")\n"
     ]
    },
    {
     "name": "stdout",
     "output_type": "stream",
     "text": [
      "<class 'pandas.core.frame.DataFrame'>\n",
      "RangeIndex: 501522 entries, 0 to 501521\n",
      "Data columns (total 14 columns):\n",
      " #   Column             Non-Null Count   Dtype  \n",
      "---  ------             --------------   -----  \n",
      " 0   Day                501522 non-null  object \n",
      " 1   customer_type      501522 non-null  object \n",
      " 2   Customer ID        501522 non-null  int64  \n",
      " 3   orders             501522 non-null  int64  \n",
      " 4   total_sales        501522 non-null  float64\n",
      " 5   Returns            501522 non-null  float64\n",
      " 6   Ordered quantity   501522 non-null  int64  \n",
      " 7   Gross sales        501522 non-null  float64\n",
      " 8   Net sales          501522 non-null  float64\n",
      " 9   Shipping           501522 non-null  float64\n",
      " 10  Tax                501522 non-null  float64\n",
      " 11  Net quantity       501522 non-null  int64  \n",
      " 12  Returned quantity  501522 non-null  int64  \n",
      " 13  Discounts          501522 non-null  float64\n",
      "dtypes: float64(7), int64(5), object(2)\n",
      "memory usage: 53.6+ MB\n"
     ]
    },
    {
     "data": {
      "text/html": [
       "<div>\n",
       "<style scoped>\n",
       "    .dataframe tbody tr th:only-of-type {\n",
       "        vertical-align: middle;\n",
       "    }\n",
       "\n",
       "    .dataframe tbody tr th {\n",
       "        vertical-align: top;\n",
       "    }\n",
       "\n",
       "    .dataframe thead th {\n",
       "        text-align: right;\n",
       "    }\n",
       "</style>\n",
       "<table border=\"1\" class=\"dataframe\">\n",
       "  <thead>\n",
       "    <tr style=\"text-align: right;\">\n",
       "      <th></th>\n",
       "      <th>Day</th>\n",
       "      <th>customer_type</th>\n",
       "      <th>Customer ID</th>\n",
       "      <th>orders</th>\n",
       "      <th>total_sales</th>\n",
       "      <th>Returns</th>\n",
       "      <th>Ordered quantity</th>\n",
       "      <th>Gross sales</th>\n",
       "      <th>Net sales</th>\n",
       "      <th>Shipping</th>\n",
       "      <th>Tax</th>\n",
       "      <th>Net quantity</th>\n",
       "      <th>Returned quantity</th>\n",
       "      <th>Discounts</th>\n",
       "    </tr>\n",
       "  </thead>\n",
       "  <tbody>\n",
       "    <tr>\n",
       "      <th>0</th>\n",
       "      <td>2018-07-03</td>\n",
       "      <td>First-time</td>\n",
       "      <td>7128036</td>\n",
       "      <td>1</td>\n",
       "      <td>52.26</td>\n",
       "      <td>-0.0</td>\n",
       "      <td>2</td>\n",
       "      <td>52.26</td>\n",
       "      <td>52.26</td>\n",
       "      <td>0.00</td>\n",
       "      <td>0.00</td>\n",
       "      <td>2</td>\n",
       "      <td>0</td>\n",
       "      <td>-0.00</td>\n",
       "    </tr>\n",
       "    <tr>\n",
       "      <th>1</th>\n",
       "      <td>2016-07-17</td>\n",
       "      <td>Returning</td>\n",
       "      <td>6362224</td>\n",
       "      <td>1</td>\n",
       "      <td>500.82</td>\n",
       "      <td>-0.0</td>\n",
       "      <td>3</td>\n",
       "      <td>434.85</td>\n",
       "      <td>434.85</td>\n",
       "      <td>7.99</td>\n",
       "      <td>57.98</td>\n",
       "      <td>3</td>\n",
       "      <td>0</td>\n",
       "      <td>-0.00</td>\n",
       "    </tr>\n",
       "    <tr>\n",
       "      <th>2</th>\n",
       "      <td>2020-03-30</td>\n",
       "      <td>Returning</td>\n",
       "      <td>5806873</td>\n",
       "      <td>1</td>\n",
       "      <td>515.61</td>\n",
       "      <td>-0.0</td>\n",
       "      <td>10</td>\n",
       "      <td>515.61</td>\n",
       "      <td>515.61</td>\n",
       "      <td>0.00</td>\n",
       "      <td>0.00</td>\n",
       "      <td>10</td>\n",
       "      <td>0</td>\n",
       "      <td>-0.00</td>\n",
       "    </tr>\n",
       "    <tr>\n",
       "      <th>3</th>\n",
       "      <td>2014-06-06</td>\n",
       "      <td>First-time</td>\n",
       "      <td>1180482</td>\n",
       "      <td>1</td>\n",
       "      <td>14.03</td>\n",
       "      <td>-0.0</td>\n",
       "      <td>5</td>\n",
       "      <td>18.90</td>\n",
       "      <td>14.03</td>\n",
       "      <td>0.00</td>\n",
       "      <td>0.00</td>\n",
       "      <td>5</td>\n",
       "      <td>0</td>\n",
       "      <td>-4.87</td>\n",
       "    </tr>\n",
       "    <tr>\n",
       "      <th>4</th>\n",
       "      <td>2019-05-31</td>\n",
       "      <td>Returning</td>\n",
       "      <td>3029259</td>\n",
       "      <td>1</td>\n",
       "      <td>256.30</td>\n",
       "      <td>-0.0</td>\n",
       "      <td>7</td>\n",
       "      <td>264.91</td>\n",
       "      <td>256.30</td>\n",
       "      <td>0.00</td>\n",
       "      <td>0.00</td>\n",
       "      <td>7</td>\n",
       "      <td>0</td>\n",
       "      <td>-8.62</td>\n",
       "    </tr>\n",
       "  </tbody>\n",
       "</table>\n",
       "</div>"
      ],
      "text/plain": [
       "          Day customer_type  Customer ID  orders  total_sales  Returns  \\\n",
       "0  2018-07-03    First-time      7128036       1        52.26     -0.0   \n",
       "1  2016-07-17     Returning      6362224       1       500.82     -0.0   \n",
       "2  2020-03-30     Returning      5806873       1       515.61     -0.0   \n",
       "3  2014-06-06    First-time      1180482       1        14.03     -0.0   \n",
       "4  2019-05-31     Returning      3029259       1       256.30     -0.0   \n",
       "\n",
       "   Ordered quantity  Gross sales  Net sales  Shipping    Tax  Net quantity  \\\n",
       "0                 2        52.26      52.26      0.00   0.00             2   \n",
       "1                 3       434.85     434.85      7.99  57.98             3   \n",
       "2                10       515.61     515.61      0.00   0.00            10   \n",
       "3                 5        18.90      14.03      0.00   0.00             5   \n",
       "4                 7       264.91     256.30      0.00   0.00             7   \n",
       "\n",
       "   Returned quantity  Discounts  \n",
       "0                  0      -0.00  \n",
       "1                  0      -0.00  \n",
       "2                  0      -0.00  \n",
       "3                  0      -4.87  \n",
       "4                  0      -8.62  "
      ]
     },
     "execution_count": 33,
     "metadata": {},
     "output_type": "execute_result"
    }
   ],
   "source": [
    "# Set the \"randomness\" seeds\n",
    "random.seed(42)\n",
    "np.random.seed(42)\n",
    "\n",
    "orders = qeds.data.shopify.simulate_orders(500000)\n",
    "orders.info()\n",
    "\n",
    "orders.head()"
   ]
  },
  {
   "cell_type": "markdown",
   "id": "fd3e8a8a",
   "metadata": {},
   "source": [
    "We define a customer's cohort as the month in which a customer placed\n",
    "their first order and the customer type as an indicator of whether this\n",
    "was their first order or a returning order.\n",
    "\n",
    "We now describe the *want* for the exercise, which we ask you to\n",
    "complete.\n",
    "\n",
    "**Want**: Compute the monthly total number of orders, total sales, and\n",
    "total quantity separated by customer cohort and customer type.\n",
    "\n",
    "Read that carefully one more time...\n",
    "\n",
    "### Extended Exercise\n",
    "\n",
    "Using the reshape and `groupby` tools you have learned, apply the want\n",
    "operator described above.\n",
    "\n",
    "See below for advice on how to proceed.\n",
    "\n",
    "When you are finished, you should have something that looks like this:\n",
    "\n",
    "```{figure} https://github.com/QuantEcon/lecture-datascience.myst/raw/main/lectures/_static/groupby_cohort_analysis_exercise_output.png\n",
    ":alt: groupby\\_cohort\\_analysis\\_exercise\\_output.png\n",
    "```\n",
    "\n",
    "Two notes on the table above:\n",
    "\n",
    "Your actual output will be much bigger. This is just to give you an\n",
    ": idea of what it might look like.\n",
    "\n",
    "The numbers you produce should actually be the same as what are\n",
    ": included in this table... Index into your answer and compare what you\n",
    "  have with this table to verify your progress.\n",
    "\n",
    "\n",
    "\n",
    "Now, how to do it?\n",
    "\n",
    "There is more than one way to code this, but here are some suggested\n",
    "steps.\n",
    "\n",
    "1. Convert the `Day` column to have a `datetime` `dtype` instead\n",
    "   of object.\n",
    "    - ```{hint}\n",
    "      Use the `pd.to_datetime` function.\n",
    "      ```\n",
    "1. Add a new column that specifies the date associated with each\n",
    "   customer's `\"First-time\"` order.\n",
    "    - ```{hint}\n",
    "      You can do this with a combination of `groupby` and\n",
    "      `join`.\n",
    "      ```\n",
    "    - ```{hint}\n",
    "      `customer_type` is always one of `Returning` and `First-time`.\n",
    "      ```\n",
    "    - ```{hint}\n",
    "      Some customers don't have a `customer_type == \"First-time\"` entry. You will need to set the\n",
    "      value for these users to some date that precedes the dates in the\n",
    "      sample. After adding valid data back into `orders` DataFrame,\n",
    "      you can identify which customers don't have a `\"First-Time\"`\n",
    "      entry by checking for missing data in the new column.\n",
    "      ```\n",
    "1. You'll need to group by 3 things.\n",
    "1. You can apply one of the built-in aggregation functions to the GroupBy.\n",
    "1. After doing the aggregation, you'll need to use your reshaping skills to\n",
    "   move things to the right place in rows and columns.\n",
    "\n",
    "Good luck!\n",
    "\n",
    "(pd-grp-ex)=\n",
    "## Exercises\n",
    "\n",
    "### Exercise 1\n",
    "\n",
    "Look closely at the output of the cells below.\n",
    "\n",
    "How did pandas compute the sum of `gbA`? What happened to the `NaN`\n",
    "entries in column `C`?\n",
    "\n",
    "Write your thoughts.\n",
    "\n",
    "```{hint}\n",
    "Try `gbA.count()` or `gbA.mean()` if you can't decide what\n",
    "happened to the `NaN`.\n",
    "```"
   ]
  },
  {
   "cell_type": "code",
   "execution_count": 34,
   "id": "3cc9f36c",
   "metadata": {
    "tags": [
     "remove-output"
    ]
   },
   "outputs": [
    {
     "data": {
      "text/html": [
       "<div>\n",
       "<style scoped>\n",
       "    .dataframe tbody tr th:only-of-type {\n",
       "        vertical-align: middle;\n",
       "    }\n",
       "\n",
       "    .dataframe tbody tr th {\n",
       "        vertical-align: top;\n",
       "    }\n",
       "\n",
       "    .dataframe thead th {\n",
       "        text-align: right;\n",
       "    }\n",
       "</style>\n",
       "<table border=\"1\" class=\"dataframe\">\n",
       "  <thead>\n",
       "    <tr style=\"text-align: right;\">\n",
       "      <th></th>\n",
       "      <th>A</th>\n",
       "      <th>B</th>\n",
       "      <th>C</th>\n",
       "    </tr>\n",
       "  </thead>\n",
       "  <tbody>\n",
       "    <tr>\n",
       "      <th>0</th>\n",
       "      <td>1</td>\n",
       "      <td>1</td>\n",
       "      <td>1.0</td>\n",
       "    </tr>\n",
       "    <tr>\n",
       "      <th>1</th>\n",
       "      <td>1</td>\n",
       "      <td>1</td>\n",
       "      <td>2.0</td>\n",
       "    </tr>\n",
       "    <tr>\n",
       "      <th>2</th>\n",
       "      <td>1</td>\n",
       "      <td>2</td>\n",
       "      <td>3.0</td>\n",
       "    </tr>\n",
       "    <tr>\n",
       "      <th>3</th>\n",
       "      <td>2</td>\n",
       "      <td>2</td>\n",
       "      <td>NaN</td>\n",
       "    </tr>\n",
       "    <tr>\n",
       "      <th>4</th>\n",
       "      <td>2</td>\n",
       "      <td>1</td>\n",
       "      <td>5.0</td>\n",
       "    </tr>\n",
       "    <tr>\n",
       "      <th>5</th>\n",
       "      <td>2</td>\n",
       "      <td>1</td>\n",
       "      <td>NaN</td>\n",
       "    </tr>\n",
       "  </tbody>\n",
       "</table>\n",
       "</div>"
      ],
      "text/plain": [
       "   A  B    C\n",
       "0  1  1  1.0\n",
       "1  1  1  2.0\n",
       "2  1  2  3.0\n",
       "3  2  2  NaN\n",
       "4  2  1  5.0\n",
       "5  2  1  NaN"
      ]
     },
     "execution_count": 34,
     "metadata": {},
     "output_type": "execute_result"
    }
   ],
   "source": [
    "df"
   ]
  },
  {
   "cell_type": "code",
   "execution_count": 35,
   "id": "bba3d26c",
   "metadata": {
    "tags": [
     "remove-output"
    ]
   },
   "outputs": [
    {
     "data": {
      "text/html": [
       "<div>\n",
       "<style scoped>\n",
       "    .dataframe tbody tr th:only-of-type {\n",
       "        vertical-align: middle;\n",
       "    }\n",
       "\n",
       "    .dataframe tbody tr th {\n",
       "        vertical-align: top;\n",
       "    }\n",
       "\n",
       "    .dataframe thead th {\n",
       "        text-align: right;\n",
       "    }\n",
       "</style>\n",
       "<table border=\"1\" class=\"dataframe\">\n",
       "  <thead>\n",
       "    <tr style=\"text-align: right;\">\n",
       "      <th></th>\n",
       "      <th>B</th>\n",
       "      <th>C</th>\n",
       "    </tr>\n",
       "    <tr>\n",
       "      <th>A</th>\n",
       "      <th></th>\n",
       "      <th></th>\n",
       "    </tr>\n",
       "  </thead>\n",
       "  <tbody>\n",
       "    <tr>\n",
       "      <th>1</th>\n",
       "      <td>4</td>\n",
       "      <td>6.0</td>\n",
       "    </tr>\n",
       "    <tr>\n",
       "      <th>2</th>\n",
       "      <td>4</td>\n",
       "      <td>5.0</td>\n",
       "    </tr>\n",
       "  </tbody>\n",
       "</table>\n",
       "</div>"
      ],
      "text/plain": [
       "   B    C\n",
       "A        \n",
       "1  4  6.0\n",
       "2  4  5.0"
      ]
     },
     "execution_count": 35,
     "metadata": {},
     "output_type": "execute_result"
    }
   ],
   "source": [
    "gbA.sum()"
   ]
  },
  {
   "cell_type": "markdown",
   "id": "67b3df58",
   "metadata": {},
   "source": [
    "({ref}`back to text <pd-grp-dir1>`)\n",
    "\n",
    "### Exercise 2\n",
    "\n",
    "Use introspection (tab completion) to see what other aggregations are\n",
    "defined for GroupBy objects.\n",
    "\n",
    "Pick three and evaluate them in the cells below.\n",
    "\n",
    "Does the output of each of these commands have the same features as the\n",
    "output of `gbA.sum()` from above? If not, what is different?"
   ]
  },
  {
   "cell_type": "code",
   "execution_count": 36,
   "id": "20cc1144",
   "metadata": {},
   "outputs": [],
   "source": [
    "# method 1"
   ]
  },
  {
   "cell_type": "code",
   "execution_count": 37,
   "id": "9e7fb958",
   "metadata": {},
   "outputs": [],
   "source": [
    "# method 2"
   ]
  },
  {
   "cell_type": "code",
   "execution_count": 38,
   "id": "7e18b0af",
   "metadata": {},
   "outputs": [],
   "source": [
    "# method 3"
   ]
  },
  {
   "cell_type": "markdown",
   "id": "2638a2a5",
   "metadata": {},
   "source": [
    "({ref}`back to text <pd-grp-dir2>`)\n",
    "\n",
    "### Exercise 3\n",
    "\n",
    "```{note} \n",
    "This exercise has a few steps:\n",
    "```\n",
    "\n",
    "1. Write a function that, given a DataFrame, computes each entry's\n",
    "deviation from the mean of its column.\n",
    "2. Apply the function to `gbA`.\n",
    "3. With your neighbor describe what the index and and columns are? Where\n",
    "are the group keys (the `A` column)?\n",
    "4. Determine the correct way to add these results back into `df` as\n",
    "new columns. \n",
    "    - ```{hint}\n",
    "      Remember the {doc}`merge<merge>` lecture.\n",
    "      ```"
   ]
  },
  {
   "cell_type": "code",
   "execution_count": 39,
   "id": "0a9e71f6",
   "metadata": {},
   "outputs": [],
   "source": [
    "# write function here\n",
    "\n",
    "\n",
    "# apply function here"
   ]
  },
  {
   "cell_type": "code",
   "execution_count": 40,
   "id": "0b6e3da0",
   "metadata": {},
   "outputs": [],
   "source": [
    "# add output of function as new columns to df here..."
   ]
  },
  {
   "cell_type": "markdown",
   "id": "370cda0e",
   "metadata": {},
   "source": [
    "Note that if the group keys remained in the index as the `.apply`'s output, the merge/join step would have been complicated.\n",
    "\n",
    "({ref}`back to text <pd-grp-dir3>`)\n",
    "\n",
    "### Exercise 4\n",
    "\n",
    "Think about what is shown in the the plots above.\n",
    "\n",
    "Answer questions like:\n",
    "\n",
    "- Which type of delay was the most common?\n",
    "- Which one caused the largest average delay?\n",
    "- Does that vary by airline?\n",
    "\n",
    "Write your thoughts."
   ]
  },
  {
   "cell_type": "code",
   "execution_count": 41,
   "id": "c20aa112",
   "metadata": {},
   "outputs": [],
   "source": [
    "# your code here if needed"
   ]
  },
  {
   "cell_type": "markdown",
   "id": "081df1af",
   "metadata": {},
   "source": [
    "({ref}`back to text <pd-grp-dir4>`)\n",
    "\n",
    "### Exercise 5\n",
    "\n",
    "Verify that we wrote the functions properly by setting the arguments to\n",
    "appropriate values to replicate the plots from above."
   ]
  },
  {
   "cell_type": "code",
   "execution_count": 42,
   "id": "9074626d",
   "metadata": {},
   "outputs": [],
   "source": [
    "# call mean_delay_plot here"
   ]
  },
  {
   "cell_type": "code",
   "execution_count": 43,
   "id": "157e1aef",
   "metadata": {},
   "outputs": [],
   "source": [
    "# call delay_type_plot here"
   ]
  },
  {
   "cell_type": "markdown",
   "id": "635f36fc",
   "metadata": {},
   "source": [
    "({ref}`back to text <pd-grp-dir5>`)"
   ]
  }
 ],
 "metadata": {
  "jupytext": {
   "text_representation": {
    "extension": ".md",
    "format_name": "myst"
   }
  },
  "kernelspec": {
   "display_name": "Python 3",
   "language": "python",
   "name": "python3"
  },
  "language_info": {
   "codemirror_mode": {
    "name": "ipython",
    "version": 3
   },
   "file_extension": ".py",
   "mimetype": "text/x-python",
   "name": "python",
   "nbconvert_exporter": "python",
   "pygments_lexer": "ipython3",
   "version": "3.8.10"
  },
  "source_map": [
   10,
   37,
   48,
   73,
   82,
   95,
   97,
   102,
   104,
   111,
   115,
   117,
   137,
   142,
   144,
   149,
   151,
   175,
   179,
   184,
   186,
   191,
   193,
   210,
   214,
   219,
   221,
   253,
   262,
   266,
   268,
   272,
   274,
   278,
   280,
   285,
   287,
   294,
   296,
   301,
   310,
   314,
   325,
   336,
   344,
   348,
   359,
   375,
   386,
   395,
   421,
   475,
   485,
   487,
   501,
   506,
   511,
   514,
   541,
   550,
   638,
   643,
   646,
   660,
   664,
   668,
   670,
   691,
   698,
   700,
   718,
   720,
   729,
   733,
   735
  ]
 },
 "nbformat": 4,
 "nbformat_minor": 5
}