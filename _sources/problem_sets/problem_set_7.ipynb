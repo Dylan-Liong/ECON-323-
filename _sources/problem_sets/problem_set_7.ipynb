{
 "cells": [
  {
   "cell_type": "markdown",
   "id": "3abf7522",
   "metadata": {},
   "source": [
    "# Problem Set 7"
   ]
  },
  {
   "cell_type": "code",
   "execution_count": 1,
   "id": "4c6259e3",
   "metadata": {},
   "outputs": [],
   "source": [
    "import matplotlib.colors as mplc\n",
    "import matplotlib.patches as patches\n",
    "import matplotlib.pyplot as plt\n",
    "import pandas as pd\n",
    "import qeds"
   ]
  },
  {
   "cell_type": "markdown",
   "id": "88ed667a",
   "metadata": {},
   "source": [
    "## Question 1\n",
    "\n",
    "From {doc}`Data Visualization: Rules and Guidelines <../applications/visualization_rules>`\n",
    "\n",
    "Create a bar chart of the below data on Canadian GDP growth.\n",
    "Use a non-red color for the years 2000 to 2008, red for\n",
    "2009, and the first color again for 2010 to 2018."
   ]
  },
  {
   "cell_type": "code",
   "execution_count": 2,
   "id": "05a5bfe3",
   "metadata": {},
   "outputs": [
    {
     "data": {
      "image/png": "[encoded data removed]",
      "text/plain": [
       "<Figure size 432x288 with 1 Axes>"
      ]
     },
     "metadata": {
      "filenames": {
       "image/png": "/home/runner/work/lecture-datascience.myst/lecture-datascience.myst/_build/jupyter_execute/problem_sets/problem_set_7_3_0.png"
      },
      "needs_background": "light"
     },
     "output_type": "display_data"
    }
   ],
   "source": [
    "ca_gdp = pd.Series(\n",
    "    [5.2, 1.8, 3.0, 1.9, 3.1, 3.2, 2.8, 2.2, 1.0, -2.8, 3.2, 3.1, 1.7, 2.5, 2.9, 1.0, 1.4, 3.0],\n",
    "    index=list(range(2000, 2018))\n",
    ")\n",
    "\n",
    "fig, ax = plt.subplots()\n",
    "\n",
    "for side in [\"right\", \"top\", \"left\", \"bottom\"]:\n",
    "    ax.spines[side].set_visible(False)"
   ]
  },
  {
   "cell_type": "markdown",
   "id": "5de1ad40",
   "metadata": {},
   "source": [
    "## Question 2\n",
    "\n",
    "From {doc}`Data Visualization: Rules and Guidelines <../applications/visualization_rules>`\n",
    "\n",
    "Draft another way to organize time and education by modifying the code below.\n",
    "That is, have two subplots (one for each\n",
    "education level) and four groups of points (one for each year).\n",
    "\n",
    "Why do you think they chose to organize the information the way they\n",
    "did rather than this way?"
   ]
  },
  {
   "cell_type": "code",
   "execution_count": 3,
   "id": "3210c26f",
   "metadata": {},
   "outputs": [
    {
     "data": {
      "image/png": "[encoded data removed]",
      "text/plain": [
       "<Figure size 1152x432 with 4 Axes>"
      ]
     },
     "metadata": {
      "filenames": {
       "image/png": "/home/runner/work/lecture-datascience.myst/lecture-datascience.myst/_build/jupyter_execute/problem_sets/problem_set_7_5_0.png"
      },
      "needs_background": "light"
     },
     "output_type": "display_data"
    }
   ],
   "source": [
    "# Read in data\n",
    "df = pd.read_csv(\"https://datascience.quantecon.org/assets/data/density_wage_data.csv\")\n",
    "df[\"year\"] = df.year.astype(int)  # Convert year to int\n",
    "\n",
    "\n",
    "def single_scatter_plot(df, year, educ, ax, color):\n",
    "    \"\"\"\n",
    "    This function creates a single year's and education level's\n",
    "    log density to log wage plot\n",
    "    \"\"\"\n",
    "    # Filter data to keep only the data of interest\n",
    "    _df = df.query(\"(year == @year) & (group == @educ)\")\n",
    "    _df.plot(\n",
    "        kind=\"scatter\", x=\"density_log\", y=\"wages_logs\", ax=ax, color=color\n",
    "    )\n",
    "\n",
    "    return ax\n",
    "\n",
    "# Create initial plot\n",
    "fig, ax = plt.subplots(1, 4, figsize=(16, 6), sharey=True)\n",
    "\n",
    "for (i, year) in enumerate(df.year.unique()):\n",
    "    single_scatter_plot(df, year, \"college\", ax[i], \"b\")\n",
    "    single_scatter_plot(df, year, \"noncollege\", ax[i], \"r\")\n",
    "    ax[i].set_title(str(year))"
   ]
  },
  {
   "cell_type": "markdown",
   "id": "fb8e7371",
   "metadata": {},
   "source": [
    "## Questions 3-5\n",
    "\n",
    "These question uses a dataset from the [Bureau of Transportation\n",
    "Statistics](https://www.transtats.bts.gov/OT_Delay/OT_DelayCause1.asp)\n",
    "that describes the cause for all US domestic flight delays\n",
    "in November 2016. We used the same data in the previous problem set."
   ]
  },
  {
   "cell_type": "code",
   "execution_count": 4,
   "id": "68d51fcc",
   "metadata": {},
   "outputs": [
    {
     "name": "stdout",
     "output_type": "stream",
     "text": [
      "<class 'pandas.core.frame.DataFrame'>\n",
      "RangeIndex: 460949 entries, 0 to 460948\n",
      "Data columns (total 36 columns):\n",
      " #   Column              Non-Null Count   Dtype         \n",
      "---  ------              --------------   -----         \n",
      " 0   Carrier             460949 non-null  object        \n",
      " 1   TailNum             459689 non-null  object        \n",
      " 2   FlightNum           460949 non-null  int64         \n",
      " 3   OriginCityMarketID  460949 non-null  int64         \n",
      " 4   Origin              460949 non-null  object        \n",
      " 5   OriginCityName      460949 non-null  object        \n",
      " 6   OriginStateName     460949 non-null  object        \n",
      " 7   DestCityMarketID    460949 non-null  int64         \n",
      " 8   Dest                460949 non-null  object        \n",
      " 9   DestCityName        460949 non-null  object        \n",
      " 10  DestStateName       460949 non-null  object        \n",
      " 11  CRSDepTime          460949 non-null  datetime64[ns]\n",
      " 12  DepTime             453665 non-null  datetime64[ns]\n",
      " 13  DepDelay            453722 non-null  float64       \n",
      " 14  TaxiOut             453543 non-null  float64       \n",
      " 15  WheelsOff           453543 non-null  float64       \n",
      " 16  WheelsOn            453219 non-null  float64       \n",
      " 17  TaxiIn              453219 non-null  float64       \n",
      " 18  CRSArrTime          460949 non-null  datetime64[ns]\n",
      " 19  ArrTime             453010 non-null  datetime64[ns]\n",
      " 20  ArrDelay            452229 non-null  float64       \n",
      " 21  Cancelled           460949 non-null  float64       \n",
      " 22  CancellationCode    7464 non-null    object        \n",
      " 23  Diverted            460949 non-null  float64       \n",
      " 24  CRSElapsedTime      460948 non-null  float64       \n",
      " 25  ActualElapsedTime   452229 non-null  float64       \n",
      " 26  AirTime             452229 non-null  float64       \n",
      " 27  Distance            460949 non-null  float64       \n",
      " 28  CarrierDelay        460949 non-null  float64       \n",
      " 29  WeatherDelay        460949 non-null  float64       \n",
      " 30  NASDelay            460949 non-null  float64       \n",
      " 31  SecurityDelay       460949 non-null  float64       \n",
      " 32  LateAircraftDelay   460949 non-null  float64       \n",
      " 33  FirstDepTime        3039 non-null    float64       \n",
      " 34  TotalAddGTime       3039 non-null    float64       \n",
      " 35  Date                460949 non-null  datetime64[ns]\n",
      "dtypes: datetime64[ns](5), float64(19), int64(3), object(9)\n",
      "memory usage: 126.6+ MB\n"
     ]
    },
    {
     "data": {
      "text/plain": [
       "<bound method NDFrame.head of        Carrier TailNum  FlightNum  OriginCityMarketID Origin  \\\n",
       "0           AA  N3JHAA         46               31650    MSP   \n",
       "1           AA  N3DPAA         46               31650    MSP   \n",
       "2           AA  N3KUAA         46               31650    MSP   \n",
       "3           AA  N3FBAA         46               31650    MSP   \n",
       "4           AA  N3BLAA         46               31650    MSP   \n",
       "...        ...     ...        ...                 ...    ...   \n",
       "460944      DL  N683DA       2034               32467    FLL   \n",
       "460945      DL  N977DL       2035               30397    ATL   \n",
       "460946      DL  N977DL       2035               33342    MKE   \n",
       "460947      DL  N953DN       2036               30397    ATL   \n",
       "460948      DL  N953DN       2036               31714    RSW   \n",
       "\n",
       "             OriginCityName OriginStateName  DestCityMarketID Dest  \\\n",
       "0           Minneapolis, MN       Minnesota             30977  ORD   \n",
       "1           Minneapolis, MN       Minnesota             30977  ORD   \n",
       "2           Minneapolis, MN       Minnesota             30977  ORD   \n",
       "3           Minneapolis, MN       Minnesota             30977  ORD   \n",
       "4           Minneapolis, MN       Minnesota             30977  ORD   \n",
       "...                     ...             ...               ...  ...   \n",
       "460944  Fort Lauderdale, FL         Florida             30397  ATL   \n",
       "460945          Atlanta, GA         Georgia             33342  MKE   \n",
       "460946        Milwaukee, WI       Wisconsin             30397  ATL   \n",
       "460947          Atlanta, GA         Georgia             31714  RSW   \n",
       "460948       Fort Myers, FL         Florida             30397  ATL   \n",
       "\n",
       "          DestCityName  ... AirTime Distance CarrierDelay  WeatherDelay  \\\n",
       "0          Chicago, IL  ...    58.0    334.0          0.0           0.0   \n",
       "1          Chicago, IL  ...    57.0    334.0          0.0           0.0   \n",
       "2          Chicago, IL  ...    49.0    334.0          0.0           0.0   \n",
       "3          Chicago, IL  ...    51.0    334.0          0.0           0.0   \n",
       "4          Chicago, IL  ...    51.0    334.0          0.0           0.0   \n",
       "...                ...  ...     ...      ...          ...           ...   \n",
       "460944     Atlanta, GA  ...    88.0    581.0          0.0           0.0   \n",
       "460945   Milwaukee, WI  ...   105.0    669.0          0.0           0.0   \n",
       "460946     Atlanta, GA  ...    89.0    669.0          0.0           0.0   \n",
       "460947  Fort Myers, FL  ...    71.0    515.0          0.0           0.0   \n",
       "460948     Atlanta, GA  ...    85.0    515.0          0.0           0.0   \n",
       "\n",
       "        NASDelay  SecurityDelay  LateAircraftDelay  FirstDepTime  \\\n",
       "0           20.0            0.0                0.0           NaN   \n",
       "1           20.0            0.0                0.0           NaN   \n",
       "2            0.0            0.0                0.0           NaN   \n",
       "3            0.0            0.0                0.0           NaN   \n",
       "4            0.0            0.0                0.0           NaN   \n",
       "...          ...            ...                ...           ...   \n",
       "460944       0.0            0.0                0.0           NaN   \n",
       "460945       0.0            0.0                0.0           NaN   \n",
       "460946       0.0            0.0                0.0           NaN   \n",
       "460947       0.0            0.0                0.0           NaN   \n",
       "460948       0.0            0.0                0.0           NaN   \n",
       "\n",
       "       TotalAddGTime       Date  \n",
       "0                NaN 2016-12-18  \n",
       "1                NaN 2016-12-19  \n",
       "2                NaN 2016-12-20  \n",
       "3                NaN 2016-12-21  \n",
       "4                NaN 2016-12-22  \n",
       "...              ...        ...  \n",
       "460944           NaN 2016-12-30  \n",
       "460945           NaN 2016-12-30  \n",
       "460946           NaN 2016-12-30  \n",
       "460947           NaN 2016-12-30  \n",
       "460948           NaN 2016-12-30  \n",
       "\n",
       "[460949 rows x 36 columns]>"
      ]
     },
     "execution_count": 4,
     "metadata": {},
     "output_type": "execute_result"
    }
   ],
   "source": [
    "air_perf = qeds.load(\"airline_performance_dec16\") #[[\"CRSDepTime\", \"Carrier\", \"CarrierDelay\", \"ArrDelay\"]]\n",
    "air_perf.info()\n",
    "air_perf.head"
   ]
  },
  {
   "cell_type": "markdown",
   "id": "3f475974",
   "metadata": {},
   "source": [
    "The following questions are intentionally somewhat open-ended. For\n",
    "each one, carefully choose the type of visualization you'll create.\n",
    "Put some effort into choosing colors, labels, and other\n",
    "formatting.\n",
    "\n",
    "### Question 3\n",
    "\n",
    "Create a visualization of the relationship between airline (carrier)\n",
    "and delays.\n",
    "\n",
    "### Question 4\n",
    "\n",
    "Create a visualization of the relationship between date and delays.\n",
    "\n",
    "### Question 5\n",
    "\n",
    "Create a visualization of the relationship between location (origin\n",
    "and/or destination) and delays."
   ]
  }
 ],
 "metadata": {
  "jupytext": {
   "text_representation": {
    "extension": ".md",
    "format_name": "myst"
   }
  },
  "kernelspec": {
   "display_name": "Python 3",
   "language": "python",
   "name": "python3"
  },
  "language_info": {
   "codemirror_mode": {
    "name": "ipython",
    "version": 3
   },
   "file_extension": ".py",
   "mimetype": "text/x-python",
   "name": "python",
   "nbconvert_exporter": "python",
   "pygments_lexer": "ipython3",
   "version": "3.8.10"
  },
  "orphan": true,
  "source_map": [
   11,
   15,
   21,
   31,
   41,
   54,
   80,
   89,
   93
  ]
 },
 "nbformat": 4,
 "nbformat_minor": 5
}