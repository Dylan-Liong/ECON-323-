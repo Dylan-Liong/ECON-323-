{
 "cells": [
  {
   "cell_type": "markdown",
   "id": "13f48718",
   "metadata": {},
   "source": [
    "# Problem Sets\n",
    "\n",
    "Here are problem sets to check your understanding of the course material."
   ]
  }
 ],
 "metadata": {
  "jupytext": {
   "text_representation": {
    "extension": ".md",
    "format_name": "myst"
   }
  },
  "kernelspec": {
   "display_name": "Python 3",
   "language": "python",
   "name": "python3"
  },
  "orphan": true,
  "source_map": [
   11
  ]
 },
 "nbformat": 4,
 "nbformat_minor": 5
}